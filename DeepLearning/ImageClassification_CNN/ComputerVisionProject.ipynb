{
  "nbformat": 4,
  "nbformat_minor": 0,
  "metadata": {
    "colab": {
      "name": "ComputerVisionProject.ipynb",
      "provenance": [],
      "collapsed_sections": []
    },
    "kernelspec": {
      "name": "python3",
      "display_name": "Python 3"
    }
  },
  "cells": [
    {
      "cell_type": "markdown",
      "metadata": {
        "id": "CNXFQX_PgImI"
      },
      "source": [
        "# Name: Nisrin Dhoondia  \n",
        "\n",
        "# Computer Vision Bootcamp: Final Project"
      ]
    },
    {
      "cell_type": "code",
      "metadata": {
        "id": "Tl918h1uYbtW"
      },
      "source": [
        "# importing necessary libraries\n",
        "import numpy as np\n",
        "import pandas as pd\n",
        "import matplotlib.pyplot as plt\n",
        "import tensorflow as tf"
      ],
      "execution_count": null,
      "outputs": []
    },
    {
      "cell_type": "code",
      "metadata": {
        "colab": {
          "base_uri": "https://localhost:8080/"
        },
        "id": "4suhwuZwZ9A4",
        "outputId": "ad76ecea-ce5b-44d2-defc-eb0489682102"
      },
      "source": [
        "# loading the dataset cifar10\n",
        "from tensorflow.keras.datasets.cifar10 import load_data\n",
        "(Xtrain, ytrain) , (Xtest, ytest) = load_data()  "
      ],
      "execution_count": null,
      "outputs": [
        {
          "output_type": "stream",
          "text": [
            "Downloading data from https://www.cs.toronto.edu/~kriz/cifar-10-python.tar.gz\n",
            "170500096/170498071 [==============================] - 2s 0us/step\n"
          ],
          "name": "stdout"
        }
      ]
    },
    {
      "cell_type": "code",
      "metadata": {
        "colab": {
          "base_uri": "https://localhost:8080/"
        },
        "id": "96sroXVCafPr",
        "outputId": "f08cbc06-4dc0-42f1-9e37-70e53acd202b"
      },
      "source": [
        "# getting the shape of train and test dataset\n",
        "Xtrain.shape, ytrain.shape, Xtest.shape, ytest.shape"
      ],
      "execution_count": null,
      "outputs": [
        {
          "output_type": "execute_result",
          "data": {
            "text/plain": [
              "((50000, 32, 32, 3), (50000, 1), (10000, 32, 32, 3), (10000, 1))"
            ]
          },
          "metadata": {
            "tags": []
          },
          "execution_count": 3
        }
      ]
    },
    {
      "cell_type": "code",
      "metadata": {
        "colab": {
          "base_uri": "https://localhost:8080/"
        },
        "id": "GQiUnUrEaj4x",
        "outputId": "9f2b126b-f387-4702-e79e-692afd0339e6"
      },
      "source": [
        "# getting the shape of the first image\n",
        "Xtrain[0].shape"
      ],
      "execution_count": null,
      "outputs": [
        {
          "output_type": "execute_result",
          "data": {
            "text/plain": [
              "(32, 32, 3)"
            ]
          },
          "metadata": {
            "tags": []
          },
          "execution_count": 4
        }
      ]
    },
    {
      "cell_type": "code",
      "metadata": {
        "colab": {
          "base_uri": "https://localhost:8080/",
          "height": 266
        },
        "id": "FwcLv3aabY4e",
        "outputId": "ba348378-eefd-41ed-ea2f-adf6e002aa09"
      },
      "source": [
        "# viewing the image on index position 100\n",
        "plt.imshow(Xtrain[100]);"
      ],
      "execution_count": null,
      "outputs": [
        {
          "output_type": "display_data",
          "data": {
            "image/png": "[encoded data removed]",
            "text/plain": [
              "<Figure size 432x288 with 1 Axes>"
            ]
          },
          "metadata": {
            "tags": [],
            "needs_background": "light"
          }
        }
      ]
    },
    {
      "cell_type": "code",
      "metadata": {
        "id": "DLH7QE1eF31x"
      },
      "source": [
        "# normalizing the Xtrain and Xtest values to be between 0 and 1\n",
        "Xtrain = Xtrain / 255.0\n",
        "Xtest = Xtest / 255.0"
      ],
      "execution_count": null,
      "outputs": []
    },
    {
      "cell_type": "code",
      "metadata": {
        "id": "Dau_pNdNF3xn",
        "colab": {
          "base_uri": "https://localhost:8080/"
        },
        "outputId": "b7e14811-8e10-4179-9c99-bc8fedd90b7a"
      },
      "source": [
        "# building a deep learning neural network model\n",
        "inputshape = Xtrain[0].shape\n",
        "model = tf.keras.models.Sequential()\n",
        "model.add(tf.keras.layers.Conv2D(filters = 32, kernel_size = (3, 3), activation = 'relu', input_shape = inputshape))\n",
        "model.add(tf.keras.layers.MaxPooling2D(pool_size = (2, 2)))\n",
        "model.add(tf.keras.layers.Conv2D(filters = 64, kernel_size = (3,3), activation = 'relu'))\n",
        "model.add(tf.keras.layers.MaxPooling2D(pool_size = (2, 2)))\n",
        "model.add(tf.keras.layers.Conv2D(filters = 64, kernel_size = (3, 3), activation ='relu'))\n",
        "\n",
        "model.add(tf.keras.layers.Flatten())\n",
        "model.add(tf.keras.layers.Dense(64, activation = 'relu'))\n",
        "model.add(tf.keras.layers.Dense(10, activation = 'softmax'))\n",
        "\n",
        "model.summary()"
      ],
      "execution_count": null,
      "outputs": [
        {
          "output_type": "stream",
          "text": [
            "Model: \"sequential\"\n",
            "_________________________________________________________________\n",
            "Layer (type)                 Output Shape              Param #   \n",
            "=================================================================\n",
            "conv2d (Conv2D)              (None, 30, 30, 32)        896       \n",
            "_________________________________________________________________\n",
            "max_pooling2d (MaxPooling2D) (None, 15, 15, 32)        0         \n",
            "_________________________________________________________________\n",
            "conv2d_1 (Conv2D)            (None, 13, 13, 64)        18496     \n",
            "_________________________________________________________________\n",
            "max_pooling2d_1 (MaxPooling2 (None, 6, 6, 64)          0         \n",
            "_________________________________________________________________\n",
            "conv2d_2 (Conv2D)            (None, 4, 4, 64)          36928     \n",
            "_________________________________________________________________\n",
            "flatten (Flatten)            (None, 1024)              0         \n",
            "_________________________________________________________________\n",
            "dense (Dense)                (None, 64)                65600     \n",
            "_________________________________________________________________\n",
            "dense_1 (Dense)              (None, 10)                650       \n",
            "=================================================================\n",
            "Total params: 122,570\n",
            "Trainable params: 122,570\n",
            "Non-trainable params: 0\n",
            "_________________________________________________________________\n"
          ],
          "name": "stdout"
        }
      ]
    },
    {
      "cell_type": "code",
      "metadata": {
        "colab": {
          "base_uri": "https://localhost:8080/"
        },
        "id": "hWpe8vhYVfBc",
        "outputId": "e1aa85d4-7715-4d34-c4b7-4fff8ba64953"
      },
      "source": [
        "# making the model ready\n",
        "model.compile(optimizer = 'adam', loss = tf.keras.losses.SparseCategoricalCrossentropy(from_logits = True), metrics = ['accuracy'])\n",
        "\n",
        "# training the model\n",
        "history = model.fit(Xtrain, ytrain, epochs = 10, validation_data = (Xtest, ytest))"
      ],
      "execution_count": null,
      "outputs": [
        {
          "output_type": "stream",
          "text": [
            "Epoch 1/10\n",
            "1563/1563 [==============================] - 71s 45ms/step - loss: 1.7230 - accuracy: 0.3686 - val_loss: 1.2305 - val_accuracy: 0.5602\n",
            "Epoch 2/10\n",
            "1563/1563 [==============================] - 69s 44ms/step - loss: 1.1808 - accuracy: 0.5840 - val_loss: 1.0674 - val_accuracy: 0.6250\n",
            "Epoch 3/10\n",
            "1563/1563 [==============================] - 69s 44ms/step - loss: 1.0037 - accuracy: 0.6489 - val_loss: 0.9434 - val_accuracy: 0.6740\n",
            "Epoch 4/10\n",
            "1563/1563 [==============================] - 69s 44ms/step - loss: 0.8995 - accuracy: 0.6844 - val_loss: 0.9286 - val_accuracy: 0.6829\n",
            "Epoch 5/10\n",
            "1563/1563 [==============================] - 69s 44ms/step - loss: 0.8246 - accuracy: 0.7084 - val_loss: 0.8980 - val_accuracy: 0.6893\n",
            "Epoch 6/10\n",
            "1563/1563 [==============================] - 67s 43ms/step - loss: 0.7439 - accuracy: 0.7391 - val_loss: 0.9845 - val_accuracy: 0.6698\n",
            "Epoch 7/10\n",
            "1563/1563 [==============================] - 67s 43ms/step - loss: 0.7056 - accuracy: 0.7524 - val_loss: 0.8685 - val_accuracy: 0.7014\n",
            "Epoch 8/10\n",
            "1563/1563 [==============================] - 67s 43ms/step - loss: 0.6418 - accuracy: 0.7757 - val_loss: 0.8852 - val_accuracy: 0.7039\n",
            "Epoch 9/10\n",
            "1563/1563 [==============================] - 68s 43ms/step - loss: 0.5953 - accuracy: 0.7893 - val_loss: 0.8587 - val_accuracy: 0.7152\n",
            "Epoch 10/10\n",
            "1563/1563 [==============================] - 67s 43ms/step - loss: 0.5529 - accuracy: 0.8073 - val_loss: 0.9056 - val_accuracy: 0.7078\n"
          ],
          "name": "stdout"
        }
      ]
    },
    {
      "cell_type": "code",
      "metadata": {
        "colab": {
          "base_uri": "https://localhost:8080/"
        },
        "id": "PAX2s9aWZJYc",
        "outputId": "3a46e9dd-95a2-4595-edf9-75390d144117"
      },
      "source": [
        "# evaluating the performance of the model\n",
        "test_loss, test_acc = model.evaluate(Xtest, ytest, verbose = 2)"
      ],
      "execution_count": null,
      "outputs": [
        {
          "output_type": "stream",
          "text": [
            "313/313 - 3s - loss: 0.9056 - accuracy: 0.7078\n"
          ],
          "name": "stdout"
        }
      ]
    },
    {
      "cell_type": "code",
      "metadata": {
        "colab": {
          "base_uri": "https://localhost:8080/"
        },
        "id": "XKqGxVabZrFc",
        "outputId": "7ea96cdd-d0f4-4ff7-a5e2-b3603d2ab788"
      },
      "source": [
        "# loss\n",
        "test_loss"
      ],
      "execution_count": null,
      "outputs": [
        {
          "output_type": "execute_result",
          "data": {
            "text/plain": [
              "0.9055692553520203"
            ]
          },
          "metadata": {
            "tags": []
          },
          "execution_count": 10
        }
      ]
    },
    {
      "cell_type": "code",
      "metadata": {
        "colab": {
          "base_uri": "https://localhost:8080/"
        },
        "id": "uazuRYPjZtBL",
        "outputId": "5cbcf15d-4cd4-43db-d7f3-def02ffe367a"
      },
      "source": [
        "# accuracy\n",
        "test_acc"
      ],
      "execution_count": null,
      "outputs": [
        {
          "output_type": "execute_result",
          "data": {
            "text/plain": [
              "0.7077999711036682"
            ]
          },
          "metadata": {
            "tags": []
          },
          "execution_count": 11
        }
      ]
    }
  ]
}