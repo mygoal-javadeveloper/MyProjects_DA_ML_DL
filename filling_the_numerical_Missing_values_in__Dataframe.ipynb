{
  "nbformat": 4,
  "nbformat_minor": 0,
  "metadata": {
    "colab": {
      "name": "filling_the_numerical_Missing_values_in _Dataframe.ipynb",
      "provenance": [],
      "collapsed_sections": [],
      "authorship_tag": "ABX9TyON7EdiTYsaFUwYsY5g9VPt",
      "include_colab_link": true
    },
    "kernelspec": {
      "name": "python3",
      "display_name": "Python 3"
    },
    "language_info": {
      "name": "python"
    }
  },
  "cells": [
    {
      "cell_type": "markdown",
      "metadata": {
        "id": "view-in-github",
        "colab_type": "text"
      },
      "source": [
        "<a href=\"https://colab.research.google.com/github/mygoal-javadeveloper/MyProjects_DA_ML_DL/blob/main/filling_the_numerical_Missing_values_in__Dataframe.ipynb\" target=\"_parent\"><img src=\"https://colab.research.google.com/assets/colab-badge.svg\" alt=\"Open In Colab\"/></a>"
      ]
    },
    {
      "cell_type": "markdown",
      "metadata": {
        "id": "x3ou5m_pHvWs"
      },
      "source": [
        "# Name: Nisrin Dhoondia  \n"
      ]
    },
    {
      "cell_type": "code",
      "metadata": {
        "id": "gvArMHLiJIkM"
      },
      "source": [
        "import numpy as np\n",
        "import pandas as pd"
      ],
      "execution_count": 1,
      "outputs": []
    },
    {
      "cell_type": "markdown",
      "metadata": {
        "id": "FLDVG9we_cGG"
      },
      "source": [
        "## Ideally filling the null values should be performed seperately for Train dataset and Test dataset to prevent data leakage.  \n"
      ]
    },
    {
      "cell_type": "markdown",
      "metadata": {
        "id": "25HN-57NVVMz"
      },
      "source": [
        "# Fill NaN with zero  \n",
        "\n",
        "### Fill NaN with zero column-wise  \n"
      ]
    },
    {
      "cell_type": "code",
      "metadata": {
        "id": "cAwhikzDGSnd"
      },
      "source": [
        "my_dict = {'fillna_method_zeros_col1' : [5, 99, np.nan, 10, 63, 85, np.nan, 100, np.nan, np.nan],\n",
        "           'fillna_method_zeros_col2' : [5, 99, np.nan, 10, 63, 85, np.nan, 100, np.nan, np.nan]} \n",
        "# when there is NaN values the entire column dtypes changes from int to float dtype"
      ],
      "execution_count": 2,
      "outputs": []
    },
    {
      "cell_type": "code",
      "metadata": {
        "id": "v2EbbbHUJ0Fq"
      },
      "source": [
        "df = pd.DataFrame(my_dict)"
      ],
      "execution_count": 3,
      "outputs": []
    },
    {
      "cell_type": "code",
      "metadata": {
        "colab": {
          "base_uri": "https://localhost:8080/",
          "height": 359
        },
        "id": "Xju--IjFK5x9",
        "outputId": "2b163f23-0ff7-4d8b-a52c-e5cadbdea6d9"
      },
      "source": [
        "df.head(10)"
      ],
      "execution_count": 4,
      "outputs": [
        {
          "output_type": "execute_result",
          "data": {
            "text/html": [
              "<div>\n",
              "<style scoped>\n",
              "    .dataframe tbody tr th:only-of-type {\n",
              "        vertical-align: middle;\n",
              "    }\n",
              "\n",
              "    .dataframe tbody tr th {\n",
              "        vertical-align: top;\n",
              "    }\n",
              "\n",
              "    .dataframe thead th {\n",
              "        text-align: right;\n",
              "    }\n",
              "</style>\n",
              "<table border=\"1\" class=\"dataframe\">\n",
              "  <thead>\n",
              "    <tr style=\"text-align: right;\">\n",
              "      <th></th>\n",
              "      <th>fillna_method_zeros_col1</th>\n",
              "      <th>fillna_method_zeros_col2</th>\n",
              "    </tr>\n",
              "  </thead>\n",
              "  <tbody>\n",
              "    <tr>\n",
              "      <th>0</th>\n",
              "      <td>5.0</td>\n",
              "      <td>5.0</td>\n",
              "    </tr>\n",
              "    <tr>\n",
              "      <th>1</th>\n",
              "      <td>99.0</td>\n",
              "      <td>99.0</td>\n",
              "    </tr>\n",
              "    <tr>\n",
              "      <th>2</th>\n",
              "      <td>NaN</td>\n",
              "      <td>NaN</td>\n",
              "    </tr>\n",
              "    <tr>\n",
              "      <th>3</th>\n",
              "      <td>10.0</td>\n",
              "      <td>10.0</td>\n",
              "    </tr>\n",
              "    <tr>\n",
              "      <th>4</th>\n",
              "      <td>63.0</td>\n",
              "      <td>63.0</td>\n",
              "    </tr>\n",
              "    <tr>\n",
              "      <th>5</th>\n",
              "      <td>85.0</td>\n",
              "      <td>85.0</td>\n",
              "    </tr>\n",
              "    <tr>\n",
              "      <th>6</th>\n",
              "      <td>NaN</td>\n",
              "      <td>NaN</td>\n",
              "    </tr>\n",
              "    <tr>\n",
              "      <th>7</th>\n",
              "      <td>100.0</td>\n",
              "      <td>100.0</td>\n",
              "    </tr>\n",
              "    <tr>\n",
              "      <th>8</th>\n",
              "      <td>NaN</td>\n",
              "      <td>NaN</td>\n",
              "    </tr>\n",
              "    <tr>\n",
              "      <th>9</th>\n",
              "      <td>NaN</td>\n",
              "      <td>NaN</td>\n",
              "    </tr>\n",
              "  </tbody>\n",
              "</table>\n",
              "</div>"
            ],
            "text/plain": [
              "   fillna_method_zeros_col1  fillna_method_zeros_col2\n",
              "0                       5.0                       5.0\n",
              "1                      99.0                      99.0\n",
              "2                       NaN                       NaN\n",
              "3                      10.0                      10.0\n",
              "4                      63.0                      63.0\n",
              "5                      85.0                      85.0\n",
              "6                       NaN                       NaN\n",
              "7                     100.0                     100.0\n",
              "8                       NaN                       NaN\n",
              "9                       NaN                       NaN"
            ]
          },
          "metadata": {
            "tags": []
          },
          "execution_count": 4
        }
      ]
    },
    {
      "cell_type": "code",
      "metadata": {
        "colab": {
          "base_uri": "https://localhost:8080/"
        },
        "id": "EomeswwrLsRv",
        "outputId": "3b9999d8-550f-477c-f996-976a89ff5ea8"
      },
      "source": [
        "df.info()"
      ],
      "execution_count": 5,
      "outputs": [
        {
          "output_type": "stream",
          "text": [
            "<class 'pandas.core.frame.DataFrame'>\n",
            "RangeIndex: 10 entries, 0 to 9\n",
            "Data columns (total 2 columns):\n",
            " #   Column                    Non-Null Count  Dtype  \n",
            "---  ------                    --------------  -----  \n",
            " 0   fillna_method_zeros_col1  6 non-null      float64\n",
            " 1   fillna_method_zeros_col2  6 non-null      float64\n",
            "dtypes: float64(2)\n",
            "memory usage: 288.0 bytes\n"
          ],
          "name": "stdout"
        }
      ]
    },
    {
      "cell_type": "code",
      "metadata": {
        "colab": {
          "base_uri": "https://localhost:8080/"
        },
        "id": "xeIeKOfiLuvh",
        "outputId": "6a889471-0e91-4aa0-aaf8-59e722546e56"
      },
      "source": [
        "df.isnull().sum()"
      ],
      "execution_count": 6,
      "outputs": [
        {
          "output_type": "execute_result",
          "data": {
            "text/plain": [
              "fillna_method_zeros_col1    4\n",
              "fillna_method_zeros_col2    4\n",
              "dtype: int64"
            ]
          },
          "metadata": {
            "tags": []
          },
          "execution_count": 6
        }
      ]
    },
    {
      "cell_type": "code",
      "metadata": {
        "id": "GWvFW548LzkA"
      },
      "source": [
        "df['fillna_method_zeros_col1'].fillna(0, inplace = True)\n",
        "df['fillna_method_zeros_col2'].fillna(0, inplace = True)"
      ],
      "execution_count": 7,
      "outputs": []
    },
    {
      "cell_type": "code",
      "metadata": {
        "colab": {
          "base_uri": "https://localhost:8080/",
          "height": 359
        },
        "id": "xYYCH7rIMUfL",
        "outputId": "3b6ffe8a-e531-409f-9365-d667f40a2be5"
      },
      "source": [
        "df.head(10)"
      ],
      "execution_count": 8,
      "outputs": [
        {
          "output_type": "execute_result",
          "data": {
            "text/html": [
              "<div>\n",
              "<style scoped>\n",
              "    .dataframe tbody tr th:only-of-type {\n",
              "        vertical-align: middle;\n",
              "    }\n",
              "\n",
              "    .dataframe tbody tr th {\n",
              "        vertical-align: top;\n",
              "    }\n",
              "\n",
              "    .dataframe thead th {\n",
              "        text-align: right;\n",
              "    }\n",
              "</style>\n",
              "<table border=\"1\" class=\"dataframe\">\n",
              "  <thead>\n",
              "    <tr style=\"text-align: right;\">\n",
              "      <th></th>\n",
              "      <th>fillna_method_zeros_col1</th>\n",
              "      <th>fillna_method_zeros_col2</th>\n",
              "    </tr>\n",
              "  </thead>\n",
              "  <tbody>\n",
              "    <tr>\n",
              "      <th>0</th>\n",
              "      <td>5.0</td>\n",
              "      <td>5.0</td>\n",
              "    </tr>\n",
              "    <tr>\n",
              "      <th>1</th>\n",
              "      <td>99.0</td>\n",
              "      <td>99.0</td>\n",
              "    </tr>\n",
              "    <tr>\n",
              "      <th>2</th>\n",
              "      <td>0.0</td>\n",
              "      <td>0.0</td>\n",
              "    </tr>\n",
              "    <tr>\n",
              "      <th>3</th>\n",
              "      <td>10.0</td>\n",
              "      <td>10.0</td>\n",
              "    </tr>\n",
              "    <tr>\n",
              "      <th>4</th>\n",
              "      <td>63.0</td>\n",
              "      <td>63.0</td>\n",
              "    </tr>\n",
              "    <tr>\n",
              "      <th>5</th>\n",
              "      <td>85.0</td>\n",
              "      <td>85.0</td>\n",
              "    </tr>\n",
              "    <tr>\n",
              "      <th>6</th>\n",
              "      <td>0.0</td>\n",
              "      <td>0.0</td>\n",
              "    </tr>\n",
              "    <tr>\n",
              "      <th>7</th>\n",
              "      <td>100.0</td>\n",
              "      <td>100.0</td>\n",
              "    </tr>\n",
              "    <tr>\n",
              "      <th>8</th>\n",
              "      <td>0.0</td>\n",
              "      <td>0.0</td>\n",
              "    </tr>\n",
              "    <tr>\n",
              "      <th>9</th>\n",
              "      <td>0.0</td>\n",
              "      <td>0.0</td>\n",
              "    </tr>\n",
              "  </tbody>\n",
              "</table>\n",
              "</div>"
            ],
            "text/plain": [
              "   fillna_method_zeros_col1  fillna_method_zeros_col2\n",
              "0                       5.0                       5.0\n",
              "1                      99.0                      99.0\n",
              "2                       0.0                       0.0\n",
              "3                      10.0                      10.0\n",
              "4                      63.0                      63.0\n",
              "5                      85.0                      85.0\n",
              "6                       0.0                       0.0\n",
              "7                     100.0                     100.0\n",
              "8                       0.0                       0.0\n",
              "9                       0.0                       0.0"
            ]
          },
          "metadata": {
            "tags": []
          },
          "execution_count": 8
        }
      ]
    },
    {
      "cell_type": "markdown",
      "metadata": {
        "id": "jamjlTAJM0tU"
      },
      "source": [
        "# Fill NaN with zero  \n",
        "\n",
        "### Fill NaN with zero DataFrame-wise  \n",
        "\n",
        "fillna() method can be executed on column-wise or entire DataFrame, depending on the requirement to fill the NaN values.  \n"
      ]
    },
    {
      "cell_type": "code",
      "metadata": {
        "id": "sQc-rrzLMppu"
      },
      "source": [
        "my_dict = {'fillna_method_zeros_col1' : [5, 99, np.nan, 10, 63, 85, np.nan, 100, np.nan, np.nan],\n",
        "           'fillna_method_zeros_col2' : [5, 99, np.nan, 10, 63, 85, np.nan, 100, np.nan, np.nan]} \n",
        "# when there is NaN values the entire column dtypes changes from int to float dtype"
      ],
      "execution_count": 9,
      "outputs": []
    },
    {
      "cell_type": "code",
      "metadata": {
        "id": "e5Ts9VKkWWak"
      },
      "source": [
        "df = pd.DataFrame(my_dict)"
      ],
      "execution_count": 10,
      "outputs": []
    },
    {
      "cell_type": "code",
      "metadata": {
        "colab": {
          "base_uri": "https://localhost:8080/",
          "height": 359
        },
        "id": "gdP80IQAWa-h",
        "outputId": "dadd9bb2-dbe2-42b7-f650-b941b971c8cc"
      },
      "source": [
        "df.head(10)"
      ],
      "execution_count": 11,
      "outputs": [
        {
          "output_type": "execute_result",
          "data": {
            "text/html": [
              "<div>\n",
              "<style scoped>\n",
              "    .dataframe tbody tr th:only-of-type {\n",
              "        vertical-align: middle;\n",
              "    }\n",
              "\n",
              "    .dataframe tbody tr th {\n",
              "        vertical-align: top;\n",
              "    }\n",
              "\n",
              "    .dataframe thead th {\n",
              "        text-align: right;\n",
              "    }\n",
              "</style>\n",
              "<table border=\"1\" class=\"dataframe\">\n",
              "  <thead>\n",
              "    <tr style=\"text-align: right;\">\n",
              "      <th></th>\n",
              "      <th>fillna_method_zeros_col1</th>\n",
              "      <th>fillna_method_zeros_col2</th>\n",
              "    </tr>\n",
              "  </thead>\n",
              "  <tbody>\n",
              "    <tr>\n",
              "      <th>0</th>\n",
              "      <td>5.0</td>\n",
              "      <td>5.0</td>\n",
              "    </tr>\n",
              "    <tr>\n",
              "      <th>1</th>\n",
              "      <td>99.0</td>\n",
              "      <td>99.0</td>\n",
              "    </tr>\n",
              "    <tr>\n",
              "      <th>2</th>\n",
              "      <td>NaN</td>\n",
              "      <td>NaN</td>\n",
              "    </tr>\n",
              "    <tr>\n",
              "      <th>3</th>\n",
              "      <td>10.0</td>\n",
              "      <td>10.0</td>\n",
              "    </tr>\n",
              "    <tr>\n",
              "      <th>4</th>\n",
              "      <td>63.0</td>\n",
              "      <td>63.0</td>\n",
              "    </tr>\n",
              "    <tr>\n",
              "      <th>5</th>\n",
              "      <td>85.0</td>\n",
              "      <td>85.0</td>\n",
              "    </tr>\n",
              "    <tr>\n",
              "      <th>6</th>\n",
              "      <td>NaN</td>\n",
              "      <td>NaN</td>\n",
              "    </tr>\n",
              "    <tr>\n",
              "      <th>7</th>\n",
              "      <td>100.0</td>\n",
              "      <td>100.0</td>\n",
              "    </tr>\n",
              "    <tr>\n",
              "      <th>8</th>\n",
              "      <td>NaN</td>\n",
              "      <td>NaN</td>\n",
              "    </tr>\n",
              "    <tr>\n",
              "      <th>9</th>\n",
              "      <td>NaN</td>\n",
              "      <td>NaN</td>\n",
              "    </tr>\n",
              "  </tbody>\n",
              "</table>\n",
              "</div>"
            ],
            "text/plain": [
              "   fillna_method_zeros_col1  fillna_method_zeros_col2\n",
              "0                       5.0                       5.0\n",
              "1                      99.0                      99.0\n",
              "2                       NaN                       NaN\n",
              "3                      10.0                      10.0\n",
              "4                      63.0                      63.0\n",
              "5                      85.0                      85.0\n",
              "6                       NaN                       NaN\n",
              "7                     100.0                     100.0\n",
              "8                       NaN                       NaN\n",
              "9                       NaN                       NaN"
            ]
          },
          "metadata": {
            "tags": []
          },
          "execution_count": 11
        }
      ]
    },
    {
      "cell_type": "code",
      "metadata": {
        "id": "GrWjMEZsWiF7"
      },
      "source": [
        "df.fillna(0, inplace = True)"
      ],
      "execution_count": 12,
      "outputs": []
    },
    {
      "cell_type": "code",
      "metadata": {
        "colab": {
          "base_uri": "https://localhost:8080/",
          "height": 359
        },
        "id": "4QAc-2UqWpb6",
        "outputId": "5c7ff120-98b9-4185-8aef-6e5b774acb24"
      },
      "source": [
        "df.head(10)"
      ],
      "execution_count": 13,
      "outputs": [
        {
          "output_type": "execute_result",
          "data": {
            "text/html": [
              "<div>\n",
              "<style scoped>\n",
              "    .dataframe tbody tr th:only-of-type {\n",
              "        vertical-align: middle;\n",
              "    }\n",
              "\n",
              "    .dataframe tbody tr th {\n",
              "        vertical-align: top;\n",
              "    }\n",
              "\n",
              "    .dataframe thead th {\n",
              "        text-align: right;\n",
              "    }\n",
              "</style>\n",
              "<table border=\"1\" class=\"dataframe\">\n",
              "  <thead>\n",
              "    <tr style=\"text-align: right;\">\n",
              "      <th></th>\n",
              "      <th>fillna_method_zeros_col1</th>\n",
              "      <th>fillna_method_zeros_col2</th>\n",
              "    </tr>\n",
              "  </thead>\n",
              "  <tbody>\n",
              "    <tr>\n",
              "      <th>0</th>\n",
              "      <td>5.0</td>\n",
              "      <td>5.0</td>\n",
              "    </tr>\n",
              "    <tr>\n",
              "      <th>1</th>\n",
              "      <td>99.0</td>\n",
              "      <td>99.0</td>\n",
              "    </tr>\n",
              "    <tr>\n",
              "      <th>2</th>\n",
              "      <td>0.0</td>\n",
              "      <td>0.0</td>\n",
              "    </tr>\n",
              "    <tr>\n",
              "      <th>3</th>\n",
              "      <td>10.0</td>\n",
              "      <td>10.0</td>\n",
              "    </tr>\n",
              "    <tr>\n",
              "      <th>4</th>\n",
              "      <td>63.0</td>\n",
              "      <td>63.0</td>\n",
              "    </tr>\n",
              "    <tr>\n",
              "      <th>5</th>\n",
              "      <td>85.0</td>\n",
              "      <td>85.0</td>\n",
              "    </tr>\n",
              "    <tr>\n",
              "      <th>6</th>\n",
              "      <td>0.0</td>\n",
              "      <td>0.0</td>\n",
              "    </tr>\n",
              "    <tr>\n",
              "      <th>7</th>\n",
              "      <td>100.0</td>\n",
              "      <td>100.0</td>\n",
              "    </tr>\n",
              "    <tr>\n",
              "      <th>8</th>\n",
              "      <td>0.0</td>\n",
              "      <td>0.0</td>\n",
              "    </tr>\n",
              "    <tr>\n",
              "      <th>9</th>\n",
              "      <td>0.0</td>\n",
              "      <td>0.0</td>\n",
              "    </tr>\n",
              "  </tbody>\n",
              "</table>\n",
              "</div>"
            ],
            "text/plain": [
              "   fillna_method_zeros_col1  fillna_method_zeros_col2\n",
              "0                       5.0                       5.0\n",
              "1                      99.0                      99.0\n",
              "2                       0.0                       0.0\n",
              "3                      10.0                      10.0\n",
              "4                      63.0                      63.0\n",
              "5                      85.0                      85.0\n",
              "6                       0.0                       0.0\n",
              "7                     100.0                     100.0\n",
              "8                       0.0                       0.0\n",
              "9                       0.0                       0.0"
            ]
          },
          "metadata": {
            "tags": []
          },
          "execution_count": 13
        }
      ]
    },
    {
      "cell_type": "markdown",
      "metadata": {
        "id": "0hPpFs9TWtYu"
      },
      "source": [
        "# Fill NaN with mean  \n",
        "\n",
        "### Fill NaN with mean column-wise  \n"
      ]
    },
    {
      "cell_type": "code",
      "metadata": {
        "id": "f090XYp2eZXr"
      },
      "source": [
        "my_dict = {'fillna_method_mean_col1' : [5, 99, np.nan, 10, 63, 85, np.nan, 100, np.nan, np.nan],\n",
        "           'fillna_method_mean_col2' : [10, 120, np.nan, 21, 33, 16, np.nan, 19, np.nan, np.nan]} \n",
        "# when there is NaN values the entire column dtypes changes from int to float dtype"
      ],
      "execution_count": 14,
      "outputs": []
    },
    {
      "cell_type": "code",
      "metadata": {
        "id": "FYALFKoQek3N"
      },
      "source": [
        "df = pd.DataFrame(my_dict)"
      ],
      "execution_count": 15,
      "outputs": []
    },
    {
      "cell_type": "code",
      "metadata": {
        "id": "cf9YUTnqeqMc"
      },
      "source": [
        "df['fillna_method_mean_col1'].fillna(round(df['fillna_method_mean_col1'].mean(), 2), inplace = True)\n",
        "df['fillna_method_mean_col2'].fillna(round(df['fillna_method_mean_col2'].mean(), 2), inplace = True)"
      ],
      "execution_count": 16,
      "outputs": []
    },
    {
      "cell_type": "code",
      "metadata": {
        "colab": {
          "base_uri": "https://localhost:8080/",
          "height": 359
        },
        "id": "r2IOlSfmf1_Q",
        "outputId": "72509748-b7f5-407f-d36f-5ff46a5457d3"
      },
      "source": [
        "df.head(10)"
      ],
      "execution_count": 17,
      "outputs": [
        {
          "output_type": "execute_result",
          "data": {
            "text/html": [
              "<div>\n",
              "<style scoped>\n",
              "    .dataframe tbody tr th:only-of-type {\n",
              "        vertical-align: middle;\n",
              "    }\n",
              "\n",
              "    .dataframe tbody tr th {\n",
              "        vertical-align: top;\n",
              "    }\n",
              "\n",
              "    .dataframe thead th {\n",
              "        text-align: right;\n",
              "    }\n",
              "</style>\n",
              "<table border=\"1\" class=\"dataframe\">\n",
              "  <thead>\n",
              "    <tr style=\"text-align: right;\">\n",
              "      <th></th>\n",
              "      <th>fillna_method_mean_col1</th>\n",
              "      <th>fillna_method_mean_col2</th>\n",
              "    </tr>\n",
              "  </thead>\n",
              "  <tbody>\n",
              "    <tr>\n",
              "      <th>0</th>\n",
              "      <td>5.00</td>\n",
              "      <td>10.0</td>\n",
              "    </tr>\n",
              "    <tr>\n",
              "      <th>1</th>\n",
              "      <td>99.00</td>\n",
              "      <td>120.0</td>\n",
              "    </tr>\n",
              "    <tr>\n",
              "      <th>2</th>\n",
              "      <td>60.33</td>\n",
              "      <td>36.5</td>\n",
              "    </tr>\n",
              "    <tr>\n",
              "      <th>3</th>\n",
              "      <td>10.00</td>\n",
              "      <td>21.0</td>\n",
              "    </tr>\n",
              "    <tr>\n",
              "      <th>4</th>\n",
              "      <td>63.00</td>\n",
              "      <td>33.0</td>\n",
              "    </tr>\n",
              "    <tr>\n",
              "      <th>5</th>\n",
              "      <td>85.00</td>\n",
              "      <td>16.0</td>\n",
              "    </tr>\n",
              "    <tr>\n",
              "      <th>6</th>\n",
              "      <td>60.33</td>\n",
              "      <td>36.5</td>\n",
              "    </tr>\n",
              "    <tr>\n",
              "      <th>7</th>\n",
              "      <td>100.00</td>\n",
              "      <td>19.0</td>\n",
              "    </tr>\n",
              "    <tr>\n",
              "      <th>8</th>\n",
              "      <td>60.33</td>\n",
              "      <td>36.5</td>\n",
              "    </tr>\n",
              "    <tr>\n",
              "      <th>9</th>\n",
              "      <td>60.33</td>\n",
              "      <td>36.5</td>\n",
              "    </tr>\n",
              "  </tbody>\n",
              "</table>\n",
              "</div>"
            ],
            "text/plain": [
              "   fillna_method_mean_col1  fillna_method_mean_col2\n",
              "0                     5.00                     10.0\n",
              "1                    99.00                    120.0\n",
              "2                    60.33                     36.5\n",
              "3                    10.00                     21.0\n",
              "4                    63.00                     33.0\n",
              "5                    85.00                     16.0\n",
              "6                    60.33                     36.5\n",
              "7                   100.00                     19.0\n",
              "8                    60.33                     36.5\n",
              "9                    60.33                     36.5"
            ]
          },
          "metadata": {
            "tags": []
          },
          "execution_count": 17
        }
      ]
    },
    {
      "cell_type": "markdown",
      "metadata": {
        "id": "qEy7NvbTiwC7"
      },
      "source": [
        "# Fill NaN with mean  \n",
        "\n",
        "### Fill NaN with mean DataFrame-wise  \n"
      ]
    },
    {
      "cell_type": "code",
      "metadata": {
        "id": "Lpg8wu2cf18Q"
      },
      "source": [
        "my_dict = {'fillna_method_mean_col1' : [5, 99, np.nan, 10, 63, 85, np.nan, 100, np.nan, np.nan],\n",
        "           'fillna_method_mean_col2' : [10, 120, np.nan, 21, 33, 16, np.nan, 19, np.nan, np.nan]} \n",
        "# when there is NaN values the entire column dtypes changes from int to float dtype"
      ],
      "execution_count": 18,
      "outputs": []
    },
    {
      "cell_type": "code",
      "metadata": {
        "id": "sYN0VT0_jUCn"
      },
      "source": [
        "df = pd.DataFrame(my_dict)"
      ],
      "execution_count": 19,
      "outputs": []
    },
    {
      "cell_type": "code",
      "metadata": {
        "id": "gEejxqEyjVZ6"
      },
      "source": [
        "df.fillna(df.mean(), inplace = True)"
      ],
      "execution_count": 20,
      "outputs": []
    },
    {
      "cell_type": "code",
      "metadata": {
        "colab": {
          "base_uri": "https://localhost:8080/",
          "height": 359
        },
        "id": "YpeWhjj5jxEF",
        "outputId": "42e0c2dc-549e-4cf3-c19a-5e5922f432b0"
      },
      "source": [
        "df.head(10)"
      ],
      "execution_count": 21,
      "outputs": [
        {
          "output_type": "execute_result",
          "data": {
            "text/html": [
              "<div>\n",
              "<style scoped>\n",
              "    .dataframe tbody tr th:only-of-type {\n",
              "        vertical-align: middle;\n",
              "    }\n",
              "\n",
              "    .dataframe tbody tr th {\n",
              "        vertical-align: top;\n",
              "    }\n",
              "\n",
              "    .dataframe thead th {\n",
              "        text-align: right;\n",
              "    }\n",
              "</style>\n",
              "<table border=\"1\" class=\"dataframe\">\n",
              "  <thead>\n",
              "    <tr style=\"text-align: right;\">\n",
              "      <th></th>\n",
              "      <th>fillna_method_mean_col1</th>\n",
              "      <th>fillna_method_mean_col2</th>\n",
              "    </tr>\n",
              "  </thead>\n",
              "  <tbody>\n",
              "    <tr>\n",
              "      <th>0</th>\n",
              "      <td>5.000000</td>\n",
              "      <td>10.0</td>\n",
              "    </tr>\n",
              "    <tr>\n",
              "      <th>1</th>\n",
              "      <td>99.000000</td>\n",
              "      <td>120.0</td>\n",
              "    </tr>\n",
              "    <tr>\n",
              "      <th>2</th>\n",
              "      <td>60.333333</td>\n",
              "      <td>36.5</td>\n",
              "    </tr>\n",
              "    <tr>\n",
              "      <th>3</th>\n",
              "      <td>10.000000</td>\n",
              "      <td>21.0</td>\n",
              "    </tr>\n",
              "    <tr>\n",
              "      <th>4</th>\n",
              "      <td>63.000000</td>\n",
              "      <td>33.0</td>\n",
              "    </tr>\n",
              "    <tr>\n",
              "      <th>5</th>\n",
              "      <td>85.000000</td>\n",
              "      <td>16.0</td>\n",
              "    </tr>\n",
              "    <tr>\n",
              "      <th>6</th>\n",
              "      <td>60.333333</td>\n",
              "      <td>36.5</td>\n",
              "    </tr>\n",
              "    <tr>\n",
              "      <th>7</th>\n",
              "      <td>100.000000</td>\n",
              "      <td>19.0</td>\n",
              "    </tr>\n",
              "    <tr>\n",
              "      <th>8</th>\n",
              "      <td>60.333333</td>\n",
              "      <td>36.5</td>\n",
              "    </tr>\n",
              "    <tr>\n",
              "      <th>9</th>\n",
              "      <td>60.333333</td>\n",
              "      <td>36.5</td>\n",
              "    </tr>\n",
              "  </tbody>\n",
              "</table>\n",
              "</div>"
            ],
            "text/plain": [
              "   fillna_method_mean_col1  fillna_method_mean_col2\n",
              "0                 5.000000                     10.0\n",
              "1                99.000000                    120.0\n",
              "2                60.333333                     36.5\n",
              "3                10.000000                     21.0\n",
              "4                63.000000                     33.0\n",
              "5                85.000000                     16.0\n",
              "6                60.333333                     36.5\n",
              "7               100.000000                     19.0\n",
              "8                60.333333                     36.5\n",
              "9                60.333333                     36.5"
            ]
          },
          "metadata": {
            "tags": []
          },
          "execution_count": 21
        }
      ]
    },
    {
      "cell_type": "markdown",
      "metadata": {
        "id": "AeKjoAu1xMQY"
      },
      "source": [
        "# Fill NaN with mean using lambda  \n"
      ]
    },
    {
      "cell_type": "code",
      "metadata": {
        "id": "2TDTrMzxj_s2"
      },
      "source": [
        "my_dict = {'fillna_method_mean_col1' : [5, 99, np.nan, 10, 63, 85, np.nan, 100, np.nan, np.nan],\n",
        "           'fillna_method_mean_col2' : [10, 120, np.nan, 21, 33, 16, np.nan, 19, np.nan, np.nan]} \n",
        "# when there is NaN values the entire column dtypes changes from int to float dtype"
      ],
      "execution_count": 22,
      "outputs": []
    },
    {
      "cell_type": "code",
      "metadata": {
        "id": "30o3QtgyP2PE"
      },
      "source": [
        "df = pd.DataFrame(my_dict)"
      ],
      "execution_count": 23,
      "outputs": []
    },
    {
      "cell_type": "code",
      "metadata": {
        "id": "jzuhxQEsP3aE"
      },
      "source": [
        "df = df.apply(lambda x: x.fillna(round(x.mean(), 2)),axis=0)"
      ],
      "execution_count": 24,
      "outputs": []
    },
    {
      "cell_type": "code",
      "metadata": {
        "colab": {
          "base_uri": "https://localhost:8080/",
          "height": 359
        },
        "id": "xGDqJXGkQU_7",
        "outputId": "18b9cf47-cc07-456d-ee92-d68855b75001"
      },
      "source": [
        "df.head(10)"
      ],
      "execution_count": 25,
      "outputs": [
        {
          "output_type": "execute_result",
          "data": {
            "text/html": [
              "<div>\n",
              "<style scoped>\n",
              "    .dataframe tbody tr th:only-of-type {\n",
              "        vertical-align: middle;\n",
              "    }\n",
              "\n",
              "    .dataframe tbody tr th {\n",
              "        vertical-align: top;\n",
              "    }\n",
              "\n",
              "    .dataframe thead th {\n",
              "        text-align: right;\n",
              "    }\n",
              "</style>\n",
              "<table border=\"1\" class=\"dataframe\">\n",
              "  <thead>\n",
              "    <tr style=\"text-align: right;\">\n",
              "      <th></th>\n",
              "      <th>fillna_method_mean_col1</th>\n",
              "      <th>fillna_method_mean_col2</th>\n",
              "    </tr>\n",
              "  </thead>\n",
              "  <tbody>\n",
              "    <tr>\n",
              "      <th>0</th>\n",
              "      <td>5.00</td>\n",
              "      <td>10.0</td>\n",
              "    </tr>\n",
              "    <tr>\n",
              "      <th>1</th>\n",
              "      <td>99.00</td>\n",
              "      <td>120.0</td>\n",
              "    </tr>\n",
              "    <tr>\n",
              "      <th>2</th>\n",
              "      <td>60.33</td>\n",
              "      <td>36.5</td>\n",
              "    </tr>\n",
              "    <tr>\n",
              "      <th>3</th>\n",
              "      <td>10.00</td>\n",
              "      <td>21.0</td>\n",
              "    </tr>\n",
              "    <tr>\n",
              "      <th>4</th>\n",
              "      <td>63.00</td>\n",
              "      <td>33.0</td>\n",
              "    </tr>\n",
              "    <tr>\n",
              "      <th>5</th>\n",
              "      <td>85.00</td>\n",
              "      <td>16.0</td>\n",
              "    </tr>\n",
              "    <tr>\n",
              "      <th>6</th>\n",
              "      <td>60.33</td>\n",
              "      <td>36.5</td>\n",
              "    </tr>\n",
              "    <tr>\n",
              "      <th>7</th>\n",
              "      <td>100.00</td>\n",
              "      <td>19.0</td>\n",
              "    </tr>\n",
              "    <tr>\n",
              "      <th>8</th>\n",
              "      <td>60.33</td>\n",
              "      <td>36.5</td>\n",
              "    </tr>\n",
              "    <tr>\n",
              "      <th>9</th>\n",
              "      <td>60.33</td>\n",
              "      <td>36.5</td>\n",
              "    </tr>\n",
              "  </tbody>\n",
              "</table>\n",
              "</div>"
            ],
            "text/plain": [
              "   fillna_method_mean_col1  fillna_method_mean_col2\n",
              "0                     5.00                     10.0\n",
              "1                    99.00                    120.0\n",
              "2                    60.33                     36.5\n",
              "3                    10.00                     21.0\n",
              "4                    63.00                     33.0\n",
              "5                    85.00                     16.0\n",
              "6                    60.33                     36.5\n",
              "7                   100.00                     19.0\n",
              "8                    60.33                     36.5\n",
              "9                    60.33                     36.5"
            ]
          },
          "metadata": {
            "tags": []
          },
          "execution_count": 25
        }
      ]
    },
    {
      "cell_type": "markdown",
      "metadata": {
        "id": "YJat92jhQdPs"
      },
      "source": [
        "# Fill NaN with mode  \n"
      ]
    },
    {
      "cell_type": "code",
      "metadata": {
        "id": "feA5NSldQuTM"
      },
      "source": [
        "my_dict = {'fillna_method_mode_col1' : [5, 99, np.nan, 21, 63, 85, np.nan, 21, np.nan, np.nan, 5, 21, 5, 99, 21],\n",
        "           'fillna_method_mode_col2' : [10, 120, np.nan, 21, 33, 10, np.nan, 19, np.nan, np.nan, 13, 120, 10, 120, 10]} \n",
        "# when there is NaN values the entire column dtypes changes from int to float dtype"
      ],
      "execution_count": 26,
      "outputs": []
    },
    {
      "cell_type": "code",
      "metadata": {
        "id": "6UsA1C_ARESm"
      },
      "source": [
        "df = pd.DataFrame(my_dict)"
      ],
      "execution_count": 27,
      "outputs": []
    },
    {
      "cell_type": "code",
      "metadata": {
        "colab": {
          "base_uri": "https://localhost:8080/"
        },
        "id": "L4QEaZ8xRx2O",
        "outputId": "d6c476f5-5ebf-4b2a-ac43-d365c419b23d"
      },
      "source": [
        "df['fillna_method_mode_col1'].mode() # since the output is a series, we have to retrieve the value using index"
      ],
      "execution_count": 28,
      "outputs": [
        {
          "output_type": "execute_result",
          "data": {
            "text/plain": [
              "0    21.0\n",
              "dtype: float64"
            ]
          },
          "metadata": {
            "tags": []
          },
          "execution_count": 28
        }
      ]
    },
    {
      "cell_type": "code",
      "metadata": {
        "id": "tUT1UFLFRKjd"
      },
      "source": [
        "df['fillna_method_mode_col1'].fillna(df['fillna_method_mode_col1'].mode()[0], inplace = True) # since the output is a series, we have to retrieve the value using index\n",
        "df['fillna_method_mode_col2'].fillna(df['fillna_method_mode_col2'].mode()[0], inplace = True) # since the output is a series, we have to retrieve the value using index"
      ],
      "execution_count": 29,
      "outputs": []
    },
    {
      "cell_type": "code",
      "metadata": {
        "colab": {
          "base_uri": "https://localhost:8080/",
          "height": 514
        },
        "id": "mzQCvnEwSZ01",
        "outputId": "525be54a-65bc-4f0c-af71-d116e04afbd6"
      },
      "source": [
        "df.head(15)"
      ],
      "execution_count": 30,
      "outputs": [
        {
          "output_type": "execute_result",
          "data": {
            "text/html": [
              "<div>\n",
              "<style scoped>\n",
              "    .dataframe tbody tr th:only-of-type {\n",
              "        vertical-align: middle;\n",
              "    }\n",
              "\n",
              "    .dataframe tbody tr th {\n",
              "        vertical-align: top;\n",
              "    }\n",
              "\n",
              "    .dataframe thead th {\n",
              "        text-align: right;\n",
              "    }\n",
              "</style>\n",
              "<table border=\"1\" class=\"dataframe\">\n",
              "  <thead>\n",
              "    <tr style=\"text-align: right;\">\n",
              "      <th></th>\n",
              "      <th>fillna_method_mode_col1</th>\n",
              "      <th>fillna_method_mode_col2</th>\n",
              "    </tr>\n",
              "  </thead>\n",
              "  <tbody>\n",
              "    <tr>\n",
              "      <th>0</th>\n",
              "      <td>5.0</td>\n",
              "      <td>10.0</td>\n",
              "    </tr>\n",
              "    <tr>\n",
              "      <th>1</th>\n",
              "      <td>99.0</td>\n",
              "      <td>120.0</td>\n",
              "    </tr>\n",
              "    <tr>\n",
              "      <th>2</th>\n",
              "      <td>21.0</td>\n",
              "      <td>10.0</td>\n",
              "    </tr>\n",
              "    <tr>\n",
              "      <th>3</th>\n",
              "      <td>21.0</td>\n",
              "      <td>21.0</td>\n",
              "    </tr>\n",
              "    <tr>\n",
              "      <th>4</th>\n",
              "      <td>63.0</td>\n",
              "      <td>33.0</td>\n",
              "    </tr>\n",
              "    <tr>\n",
              "      <th>5</th>\n",
              "      <td>85.0</td>\n",
              "      <td>10.0</td>\n",
              "    </tr>\n",
              "    <tr>\n",
              "      <th>6</th>\n",
              "      <td>21.0</td>\n",
              "      <td>10.0</td>\n",
              "    </tr>\n",
              "    <tr>\n",
              "      <th>7</th>\n",
              "      <td>21.0</td>\n",
              "      <td>19.0</td>\n",
              "    </tr>\n",
              "    <tr>\n",
              "      <th>8</th>\n",
              "      <td>21.0</td>\n",
              "      <td>10.0</td>\n",
              "    </tr>\n",
              "    <tr>\n",
              "      <th>9</th>\n",
              "      <td>21.0</td>\n",
              "      <td>10.0</td>\n",
              "    </tr>\n",
              "    <tr>\n",
              "      <th>10</th>\n",
              "      <td>5.0</td>\n",
              "      <td>13.0</td>\n",
              "    </tr>\n",
              "    <tr>\n",
              "      <th>11</th>\n",
              "      <td>21.0</td>\n",
              "      <td>120.0</td>\n",
              "    </tr>\n",
              "    <tr>\n",
              "      <th>12</th>\n",
              "      <td>5.0</td>\n",
              "      <td>10.0</td>\n",
              "    </tr>\n",
              "    <tr>\n",
              "      <th>13</th>\n",
              "      <td>99.0</td>\n",
              "      <td>120.0</td>\n",
              "    </tr>\n",
              "    <tr>\n",
              "      <th>14</th>\n",
              "      <td>21.0</td>\n",
              "      <td>10.0</td>\n",
              "    </tr>\n",
              "  </tbody>\n",
              "</table>\n",
              "</div>"
            ],
            "text/plain": [
              "    fillna_method_mode_col1  fillna_method_mode_col2\n",
              "0                       5.0                     10.0\n",
              "1                      99.0                    120.0\n",
              "2                      21.0                     10.0\n",
              "3                      21.0                     21.0\n",
              "4                      63.0                     33.0\n",
              "5                      85.0                     10.0\n",
              "6                      21.0                     10.0\n",
              "7                      21.0                     19.0\n",
              "8                      21.0                     10.0\n",
              "9                      21.0                     10.0\n",
              "10                      5.0                     13.0\n",
              "11                     21.0                    120.0\n",
              "12                      5.0                     10.0\n",
              "13                     99.0                    120.0\n",
              "14                     21.0                     10.0"
            ]
          },
          "metadata": {
            "tags": []
          },
          "execution_count": 30
        }
      ]
    },
    {
      "cell_type": "markdown",
      "metadata": {
        "id": "x3wzFZT_Trk0"
      },
      "source": [
        "# Fill NaN with median  \n",
        "\n",
        "### Fill NaN with median  \n",
        "\n",
        "It is performed if your dataset has outliers, and the requirement is to avoid the effect of outliers on other values"
      ]
    },
    {
      "cell_type": "code",
      "metadata": {
        "id": "0S8QSpu_XYYN"
      },
      "source": [
        "my_dict = {'fillna_method_median_col1' : [5, 99, np.nan, 21, 63, 85, np.nan, 21, np.nan, np.nan, 120, 1000],\n",
        "           'fillna_method_median_col2' : [10, 120, np.nan, 21, 33, 10, np.nan, 19, np.nan, np.nan, 510, 1500]} \n",
        "# when there is NaN values the entire column dtypes changes from int to float dtype"
      ],
      "execution_count": 31,
      "outputs": []
    },
    {
      "cell_type": "code",
      "metadata": {
        "id": "Aq-GSCNYXr0V"
      },
      "source": [
        "df = pd.DataFrame(my_dict)"
      ],
      "execution_count": 32,
      "outputs": []
    },
    {
      "cell_type": "code",
      "metadata": {
        "id": "slCMnDRmYCoC"
      },
      "source": [
        "df['fillna_method_median_col1'].fillna(df['fillna_method_median_col1'].median(), inplace = True)\n",
        "df['fillna_method_median_col2'].fillna(df['fillna_method_median_col2'].median(), inplace = True)"
      ],
      "execution_count": 33,
      "outputs": []
    },
    {
      "cell_type": "code",
      "metadata": {
        "id": "q4LF7oowiTCV"
      },
      "source": [
        "# it can be performed DataFrame-wise too\n",
        "# df.fillna(df.median(), inplace = True)"
      ],
      "execution_count": 34,
      "outputs": []
    },
    {
      "cell_type": "code",
      "metadata": {
        "colab": {
          "base_uri": "https://localhost:8080/",
          "height": 421
        },
        "id": "mt-0SrZ2ePjZ",
        "outputId": "82394341-e3e0-460c-db64-91a96ccb1e59"
      },
      "source": [
        "df.head(12)"
      ],
      "execution_count": 35,
      "outputs": [
        {
          "output_type": "execute_result",
          "data": {
            "text/html": [
              "<div>\n",
              "<style scoped>\n",
              "    .dataframe tbody tr th:only-of-type {\n",
              "        vertical-align: middle;\n",
              "    }\n",
              "\n",
              "    .dataframe tbody tr th {\n",
              "        vertical-align: top;\n",
              "    }\n",
              "\n",
              "    .dataframe thead th {\n",
              "        text-align: right;\n",
              "    }\n",
              "</style>\n",
              "<table border=\"1\" class=\"dataframe\">\n",
              "  <thead>\n",
              "    <tr style=\"text-align: right;\">\n",
              "      <th></th>\n",
              "      <th>fillna_method_median_col1</th>\n",
              "      <th>fillna_method_median_col2</th>\n",
              "    </tr>\n",
              "  </thead>\n",
              "  <tbody>\n",
              "    <tr>\n",
              "      <th>0</th>\n",
              "      <td>5.0</td>\n",
              "      <td>10.0</td>\n",
              "    </tr>\n",
              "    <tr>\n",
              "      <th>1</th>\n",
              "      <td>99.0</td>\n",
              "      <td>120.0</td>\n",
              "    </tr>\n",
              "    <tr>\n",
              "      <th>2</th>\n",
              "      <td>74.0</td>\n",
              "      <td>27.0</td>\n",
              "    </tr>\n",
              "    <tr>\n",
              "      <th>3</th>\n",
              "      <td>21.0</td>\n",
              "      <td>21.0</td>\n",
              "    </tr>\n",
              "    <tr>\n",
              "      <th>4</th>\n",
              "      <td>63.0</td>\n",
              "      <td>33.0</td>\n",
              "    </tr>\n",
              "    <tr>\n",
              "      <th>5</th>\n",
              "      <td>85.0</td>\n",
              "      <td>10.0</td>\n",
              "    </tr>\n",
              "    <tr>\n",
              "      <th>6</th>\n",
              "      <td>74.0</td>\n",
              "      <td>27.0</td>\n",
              "    </tr>\n",
              "    <tr>\n",
              "      <th>7</th>\n",
              "      <td>21.0</td>\n",
              "      <td>19.0</td>\n",
              "    </tr>\n",
              "    <tr>\n",
              "      <th>8</th>\n",
              "      <td>74.0</td>\n",
              "      <td>27.0</td>\n",
              "    </tr>\n",
              "    <tr>\n",
              "      <th>9</th>\n",
              "      <td>74.0</td>\n",
              "      <td>27.0</td>\n",
              "    </tr>\n",
              "    <tr>\n",
              "      <th>10</th>\n",
              "      <td>120.0</td>\n",
              "      <td>510.0</td>\n",
              "    </tr>\n",
              "    <tr>\n",
              "      <th>11</th>\n",
              "      <td>1000.0</td>\n",
              "      <td>1500.0</td>\n",
              "    </tr>\n",
              "  </tbody>\n",
              "</table>\n",
              "</div>"
            ],
            "text/plain": [
              "    fillna_method_median_col1  fillna_method_median_col2\n",
              "0                         5.0                       10.0\n",
              "1                        99.0                      120.0\n",
              "2                        74.0                       27.0\n",
              "3                        21.0                       21.0\n",
              "4                        63.0                       33.0\n",
              "5                        85.0                       10.0\n",
              "6                        74.0                       27.0\n",
              "7                        21.0                       19.0\n",
              "8                        74.0                       27.0\n",
              "9                        74.0                       27.0\n",
              "10                      120.0                      510.0\n",
              "11                     1000.0                     1500.0"
            ]
          },
          "metadata": {
            "tags": []
          },
          "execution_count": 35
        }
      ]
    },
    {
      "cell_type": "markdown",
      "metadata": {
        "id": "exLXADO_ifym"
      },
      "source": [
        "# Fill NaN with forward fill"
      ]
    },
    {
      "cell_type": "code",
      "metadata": {
        "id": "mbBRDDkEhsKS"
      },
      "source": [
        "my_dict = {'fillna_method_forwardfill_col1' : [np.nan, np.nan, 5, 99, np.nan, 10, 63, 85, np.nan, 100, np.nan, np.nan],\n",
        "           'fillna_method_forwardfill_col2' : [np.nan, 4, 10, 120, np.nan, 21, 33, 16, np.nan, 19, np.nan, np.nan]} \n",
        "# when there is NaN values the entire column dtypes changes from int to float dtype"
      ],
      "execution_count": 36,
      "outputs": []
    },
    {
      "cell_type": "code",
      "metadata": {
        "id": "siiJuSL4jH2t"
      },
      "source": [
        "df = pd.DataFrame(my_dict)"
      ],
      "execution_count": 37,
      "outputs": []
    },
    {
      "cell_type": "code",
      "metadata": {
        "id": "puBhldPKjMaW"
      },
      "source": [
        "df['fillna_method_forwardfill_col1'].fillna(method ='ffill', inplace = True)\n",
        "df['fillna_method_forwardfill_col2'].fillna(method ='ffill', inplace = True)"
      ],
      "execution_count": 38,
      "outputs": []
    },
    {
      "cell_type": "code",
      "metadata": {
        "id": "hOmMIb7LkEfP"
      },
      "source": [
        "# it can be performed DataFrame-wise too\n",
        "# df.fillna(method ='ffill', inplace = True)"
      ],
      "execution_count": 39,
      "outputs": []
    },
    {
      "cell_type": "code",
      "metadata": {
        "id": "Awv-K_xxkfSC"
      },
      "source": [
        "# instead of ffill, pad can also be given \n",
        "# it can be performed DataFrame-wise too \n",
        "# df['fillna_method_forwardfill_col1'].fillna(method ='pad', inplace = True)\n",
        "# df['fillna_method_forwardfill_col2'].fillna(method ='pad', inplace = True)"
      ],
      "execution_count": 40,
      "outputs": []
    },
    {
      "cell_type": "code",
      "metadata": {
        "colab": {
          "base_uri": "https://localhost:8080/",
          "height": 421
        },
        "id": "Yk-t4U4wjV8C",
        "outputId": "a9acbc7d-b636-469b-dccb-47085d8e651b"
      },
      "source": [
        "df.head(12)"
      ],
      "execution_count": 41,
      "outputs": [
        {
          "output_type": "execute_result",
          "data": {
            "text/html": [
              "<div>\n",
              "<style scoped>\n",
              "    .dataframe tbody tr th:only-of-type {\n",
              "        vertical-align: middle;\n",
              "    }\n",
              "\n",
              "    .dataframe tbody tr th {\n",
              "        vertical-align: top;\n",
              "    }\n",
              "\n",
              "    .dataframe thead th {\n",
              "        text-align: right;\n",
              "    }\n",
              "</style>\n",
              "<table border=\"1\" class=\"dataframe\">\n",
              "  <thead>\n",
              "    <tr style=\"text-align: right;\">\n",
              "      <th></th>\n",
              "      <th>fillna_method_forwardfill_col1</th>\n",
              "      <th>fillna_method_forwardfill_col2</th>\n",
              "    </tr>\n",
              "  </thead>\n",
              "  <tbody>\n",
              "    <tr>\n",
              "      <th>0</th>\n",
              "      <td>NaN</td>\n",
              "      <td>NaN</td>\n",
              "    </tr>\n",
              "    <tr>\n",
              "      <th>1</th>\n",
              "      <td>NaN</td>\n",
              "      <td>4.0</td>\n",
              "    </tr>\n",
              "    <tr>\n",
              "      <th>2</th>\n",
              "      <td>5.0</td>\n",
              "      <td>10.0</td>\n",
              "    </tr>\n",
              "    <tr>\n",
              "      <th>3</th>\n",
              "      <td>99.0</td>\n",
              "      <td>120.0</td>\n",
              "    </tr>\n",
              "    <tr>\n",
              "      <th>4</th>\n",
              "      <td>99.0</td>\n",
              "      <td>120.0</td>\n",
              "    </tr>\n",
              "    <tr>\n",
              "      <th>5</th>\n",
              "      <td>10.0</td>\n",
              "      <td>21.0</td>\n",
              "    </tr>\n",
              "    <tr>\n",
              "      <th>6</th>\n",
              "      <td>63.0</td>\n",
              "      <td>33.0</td>\n",
              "    </tr>\n",
              "    <tr>\n",
              "      <th>7</th>\n",
              "      <td>85.0</td>\n",
              "      <td>16.0</td>\n",
              "    </tr>\n",
              "    <tr>\n",
              "      <th>8</th>\n",
              "      <td>85.0</td>\n",
              "      <td>16.0</td>\n",
              "    </tr>\n",
              "    <tr>\n",
              "      <th>9</th>\n",
              "      <td>100.0</td>\n",
              "      <td>19.0</td>\n",
              "    </tr>\n",
              "    <tr>\n",
              "      <th>10</th>\n",
              "      <td>100.0</td>\n",
              "      <td>19.0</td>\n",
              "    </tr>\n",
              "    <tr>\n",
              "      <th>11</th>\n",
              "      <td>100.0</td>\n",
              "      <td>19.0</td>\n",
              "    </tr>\n",
              "  </tbody>\n",
              "</table>\n",
              "</div>"
            ],
            "text/plain": [
              "    fillna_method_forwardfill_col1  fillna_method_forwardfill_col2\n",
              "0                              NaN                             NaN\n",
              "1                              NaN                             4.0\n",
              "2                              5.0                            10.0\n",
              "3                             99.0                           120.0\n",
              "4                             99.0                           120.0\n",
              "5                             10.0                            21.0\n",
              "6                             63.0                            33.0\n",
              "7                             85.0                            16.0\n",
              "8                             85.0                            16.0\n",
              "9                            100.0                            19.0\n",
              "10                           100.0                            19.0\n",
              "11                           100.0                            19.0"
            ]
          },
          "metadata": {
            "tags": []
          },
          "execution_count": 41
        }
      ]
    },
    {
      "cell_type": "markdown",
      "metadata": {
        "id": "4XL3V-PKldOy"
      },
      "source": [
        "# Fill NaN with backward fill  \n"
      ]
    },
    {
      "cell_type": "code",
      "metadata": {
        "id": "f2nlC_GmlXlW"
      },
      "source": [
        "my_dict = {'fillna_method_bfill_col1' : [np.nan, np.nan, 5, 99, np.nan, 10, 63, 85, np.nan, 100, np.nan, np.nan],\n",
        "           'fillna_method_backwardfill_col2' : [np.nan, 4, 10, 120, np.nan, 21, 33, 16, np.nan, 19, np.nan, np.nan]} \n",
        "# when there is NaN values the entire column dtypes changes from int to float dtype"
      ],
      "execution_count": 42,
      "outputs": []
    },
    {
      "cell_type": "code",
      "metadata": {
        "id": "mkt-qDu1l1uN"
      },
      "source": [
        "df = pd.DataFrame(my_dict)"
      ],
      "execution_count": 43,
      "outputs": []
    },
    {
      "cell_type": "code",
      "metadata": {
        "id": "oPXrYb6Rl7FD"
      },
      "source": [
        "# instead of bfill, backfill can also be given \n",
        "# it can be performed DataFrame-wise too \n",
        "df['fillna_method_bfill_col1'].fillna(method ='bfill', inplace = True)\n",
        "df['fillna_method_backwardfill_col2'].fillna(method ='backfill', inplace = True)"
      ],
      "execution_count": 44,
      "outputs": []
    },
    {
      "cell_type": "code",
      "metadata": {
        "colab": {
          "base_uri": "https://localhost:8080/",
          "height": 421
        },
        "id": "SK_9jo-imXe8",
        "outputId": "17e372c1-884c-4034-9373-337efecb1b17"
      },
      "source": [
        "df.head(12)"
      ],
      "execution_count": 45,
      "outputs": [
        {
          "output_type": "execute_result",
          "data": {
            "text/html": [
              "<div>\n",
              "<style scoped>\n",
              "    .dataframe tbody tr th:only-of-type {\n",
              "        vertical-align: middle;\n",
              "    }\n",
              "\n",
              "    .dataframe tbody tr th {\n",
              "        vertical-align: top;\n",
              "    }\n",
              "\n",
              "    .dataframe thead th {\n",
              "        text-align: right;\n",
              "    }\n",
              "</style>\n",
              "<table border=\"1\" class=\"dataframe\">\n",
              "  <thead>\n",
              "    <tr style=\"text-align: right;\">\n",
              "      <th></th>\n",
              "      <th>fillna_method_bfill_col1</th>\n",
              "      <th>fillna_method_backwardfill_col2</th>\n",
              "    </tr>\n",
              "  </thead>\n",
              "  <tbody>\n",
              "    <tr>\n",
              "      <th>0</th>\n",
              "      <td>5.0</td>\n",
              "      <td>4.0</td>\n",
              "    </tr>\n",
              "    <tr>\n",
              "      <th>1</th>\n",
              "      <td>5.0</td>\n",
              "      <td>4.0</td>\n",
              "    </tr>\n",
              "    <tr>\n",
              "      <th>2</th>\n",
              "      <td>5.0</td>\n",
              "      <td>10.0</td>\n",
              "    </tr>\n",
              "    <tr>\n",
              "      <th>3</th>\n",
              "      <td>99.0</td>\n",
              "      <td>120.0</td>\n",
              "    </tr>\n",
              "    <tr>\n",
              "      <th>4</th>\n",
              "      <td>10.0</td>\n",
              "      <td>21.0</td>\n",
              "    </tr>\n",
              "    <tr>\n",
              "      <th>5</th>\n",
              "      <td>10.0</td>\n",
              "      <td>21.0</td>\n",
              "    </tr>\n",
              "    <tr>\n",
              "      <th>6</th>\n",
              "      <td>63.0</td>\n",
              "      <td>33.0</td>\n",
              "    </tr>\n",
              "    <tr>\n",
              "      <th>7</th>\n",
              "      <td>85.0</td>\n",
              "      <td>16.0</td>\n",
              "    </tr>\n",
              "    <tr>\n",
              "      <th>8</th>\n",
              "      <td>100.0</td>\n",
              "      <td>19.0</td>\n",
              "    </tr>\n",
              "    <tr>\n",
              "      <th>9</th>\n",
              "      <td>100.0</td>\n",
              "      <td>19.0</td>\n",
              "    </tr>\n",
              "    <tr>\n",
              "      <th>10</th>\n",
              "      <td>NaN</td>\n",
              "      <td>NaN</td>\n",
              "    </tr>\n",
              "    <tr>\n",
              "      <th>11</th>\n",
              "      <td>NaN</td>\n",
              "      <td>NaN</td>\n",
              "    </tr>\n",
              "  </tbody>\n",
              "</table>\n",
              "</div>"
            ],
            "text/plain": [
              "    fillna_method_bfill_col1  fillna_method_backwardfill_col2\n",
              "0                        5.0                              4.0\n",
              "1                        5.0                              4.0\n",
              "2                        5.0                             10.0\n",
              "3                       99.0                            120.0\n",
              "4                       10.0                             21.0\n",
              "5                       10.0                             21.0\n",
              "6                       63.0                             33.0\n",
              "7                       85.0                             16.0\n",
              "8                      100.0                             19.0\n",
              "9                      100.0                             19.0\n",
              "10                       NaN                              NaN\n",
              "11                       NaN                              NaN"
            ]
          },
          "metadata": {
            "tags": []
          },
          "execution_count": 45
        }
      ]
    },
    {
      "cell_type": "markdown",
      "metadata": {
        "id": "MVQhEu0fmgzS"
      },
      "source": [
        "# Fill NaN with specific values \n"
      ]
    },
    {
      "cell_type": "code",
      "metadata": {
        "id": "pfyV0XGgmwpH"
      },
      "source": [
        "my_dict = {'col1' : [np.nan, np.nan, 5, 99, np.nan, 10, 63, 85, np.nan, 100, np.nan, np.nan],\n",
        "           'col2' : [np.nan, 4, 10, 120, np.nan, 21, 33, 16, np.nan, 19, np.nan, np.nan]} \n",
        "# when there is NaN values the entire column dtypes changes from int to float dtype"
      ],
      "execution_count": 46,
      "outputs": []
    },
    {
      "cell_type": "code",
      "metadata": {
        "id": "t0jZVUXkm4xf"
      },
      "source": [
        "df = pd.DataFrame(my_dict)"
      ],
      "execution_count": 47,
      "outputs": []
    },
    {
      "cell_type": "code",
      "metadata": {
        "id": "9mAMqpt0m59v"
      },
      "source": [
        "values = {'col1': 12, 'col2': 15}"
      ],
      "execution_count": 48,
      "outputs": []
    },
    {
      "cell_type": "code",
      "metadata": {
        "id": "CNi0lfa4nUBs"
      },
      "source": [
        "df.fillna(value=values, inplace = True)"
      ],
      "execution_count": 49,
      "outputs": []
    },
    {
      "cell_type": "code",
      "metadata": {
        "colab": {
          "base_uri": "https://localhost:8080/",
          "height": 421
        },
        "id": "yyFNBNiinfoc",
        "outputId": "2fae4550-441d-4f32-aece-60c1dfbfbb54"
      },
      "source": [
        "df.head(12)"
      ],
      "execution_count": 50,
      "outputs": [
        {
          "output_type": "execute_result",
          "data": {
            "text/html": [
              "<div>\n",
              "<style scoped>\n",
              "    .dataframe tbody tr th:only-of-type {\n",
              "        vertical-align: middle;\n",
              "    }\n",
              "\n",
              "    .dataframe tbody tr th {\n",
              "        vertical-align: top;\n",
              "    }\n",
              "\n",
              "    .dataframe thead th {\n",
              "        text-align: right;\n",
              "    }\n",
              "</style>\n",
              "<table border=\"1\" class=\"dataframe\">\n",
              "  <thead>\n",
              "    <tr style=\"text-align: right;\">\n",
              "      <th></th>\n",
              "      <th>col1</th>\n",
              "      <th>col2</th>\n",
              "    </tr>\n",
              "  </thead>\n",
              "  <tbody>\n",
              "    <tr>\n",
              "      <th>0</th>\n",
              "      <td>12.0</td>\n",
              "      <td>15.0</td>\n",
              "    </tr>\n",
              "    <tr>\n",
              "      <th>1</th>\n",
              "      <td>12.0</td>\n",
              "      <td>4.0</td>\n",
              "    </tr>\n",
              "    <tr>\n",
              "      <th>2</th>\n",
              "      <td>5.0</td>\n",
              "      <td>10.0</td>\n",
              "    </tr>\n",
              "    <tr>\n",
              "      <th>3</th>\n",
              "      <td>99.0</td>\n",
              "      <td>120.0</td>\n",
              "    </tr>\n",
              "    <tr>\n",
              "      <th>4</th>\n",
              "      <td>12.0</td>\n",
              "      <td>15.0</td>\n",
              "    </tr>\n",
              "    <tr>\n",
              "      <th>5</th>\n",
              "      <td>10.0</td>\n",
              "      <td>21.0</td>\n",
              "    </tr>\n",
              "    <tr>\n",
              "      <th>6</th>\n",
              "      <td>63.0</td>\n",
              "      <td>33.0</td>\n",
              "    </tr>\n",
              "    <tr>\n",
              "      <th>7</th>\n",
              "      <td>85.0</td>\n",
              "      <td>16.0</td>\n",
              "    </tr>\n",
              "    <tr>\n",
              "      <th>8</th>\n",
              "      <td>12.0</td>\n",
              "      <td>15.0</td>\n",
              "    </tr>\n",
              "    <tr>\n",
              "      <th>9</th>\n",
              "      <td>100.0</td>\n",
              "      <td>19.0</td>\n",
              "    </tr>\n",
              "    <tr>\n",
              "      <th>10</th>\n",
              "      <td>12.0</td>\n",
              "      <td>15.0</td>\n",
              "    </tr>\n",
              "    <tr>\n",
              "      <th>11</th>\n",
              "      <td>12.0</td>\n",
              "      <td>15.0</td>\n",
              "    </tr>\n",
              "  </tbody>\n",
              "</table>\n",
              "</div>"
            ],
            "text/plain": [
              "     col1   col2\n",
              "0    12.0   15.0\n",
              "1    12.0    4.0\n",
              "2     5.0   10.0\n",
              "3    99.0  120.0\n",
              "4    12.0   15.0\n",
              "5    10.0   21.0\n",
              "6    63.0   33.0\n",
              "7    85.0   16.0\n",
              "8    12.0   15.0\n",
              "9   100.0   19.0\n",
              "10   12.0   15.0\n",
              "11   12.0   15.0"
            ]
          },
          "metadata": {
            "tags": []
          },
          "execution_count": 50
        }
      ]
    },
    {
      "cell_type": "markdown",
      "metadata": {
        "id": "YOUTntB0nmQD"
      },
      "source": [
        "# Fill NaN with specific values using replace"
      ]
    },
    {
      "cell_type": "code",
      "metadata": {
        "id": "jxXX8rbyn6V0"
      },
      "source": [
        "my_dict = {'col1' : [np.nan, np.nan, 5, 99, np.nan, 10, 63, 85, np.nan, 100, np.nan, np.nan],\n",
        "           'col2' : [np.nan, 4, 10, 120, np.nan, 21, 33, 16, np.nan, 19, np.nan, np.nan]} \n",
        "# when there is NaN values the entire column dtypes changes from int to float dtype"
      ],
      "execution_count": 51,
      "outputs": []
    },
    {
      "cell_type": "code",
      "metadata": {
        "id": "cDqbEGH9oCsL"
      },
      "source": [
        "df = pd.DataFrame(my_dict)"
      ],
      "execution_count": 52,
      "outputs": []
    },
    {
      "cell_type": "code",
      "metadata": {
        "id": "_sa5zDcBoP5u"
      },
      "source": [
        "# DataFrame-wise with only one specific value for all columns\n",
        "# df.replace(np.nan, 12, inplace = True) "
      ],
      "execution_count": 53,
      "outputs": []
    },
    {
      "cell_type": "code",
      "metadata": {
        "id": "dFvTLgBkpEFZ"
      },
      "source": [
        "df['col1'].replace(np.nan, 12, inplace = True) \n",
        "df['col2'].replace(np.nan, 15, inplace = True) "
      ],
      "execution_count": 54,
      "outputs": []
    },
    {
      "cell_type": "code",
      "metadata": {
        "colab": {
          "base_uri": "https://localhost:8080/",
          "height": 421
        },
        "id": "3HipL5KNog4x",
        "outputId": "aad19603-1d61-4a09-c272-d0c08effa240"
      },
      "source": [
        "df.head(12)"
      ],
      "execution_count": 55,
      "outputs": [
        {
          "output_type": "execute_result",
          "data": {
            "text/html": [
              "<div>\n",
              "<style scoped>\n",
              "    .dataframe tbody tr th:only-of-type {\n",
              "        vertical-align: middle;\n",
              "    }\n",
              "\n",
              "    .dataframe tbody tr th {\n",
              "        vertical-align: top;\n",
              "    }\n",
              "\n",
              "    .dataframe thead th {\n",
              "        text-align: right;\n",
              "    }\n",
              "</style>\n",
              "<table border=\"1\" class=\"dataframe\">\n",
              "  <thead>\n",
              "    <tr style=\"text-align: right;\">\n",
              "      <th></th>\n",
              "      <th>col1</th>\n",
              "      <th>col2</th>\n",
              "    </tr>\n",
              "  </thead>\n",
              "  <tbody>\n",
              "    <tr>\n",
              "      <th>0</th>\n",
              "      <td>12.0</td>\n",
              "      <td>15.0</td>\n",
              "    </tr>\n",
              "    <tr>\n",
              "      <th>1</th>\n",
              "      <td>12.0</td>\n",
              "      <td>4.0</td>\n",
              "    </tr>\n",
              "    <tr>\n",
              "      <th>2</th>\n",
              "      <td>5.0</td>\n",
              "      <td>10.0</td>\n",
              "    </tr>\n",
              "    <tr>\n",
              "      <th>3</th>\n",
              "      <td>99.0</td>\n",
              "      <td>120.0</td>\n",
              "    </tr>\n",
              "    <tr>\n",
              "      <th>4</th>\n",
              "      <td>12.0</td>\n",
              "      <td>15.0</td>\n",
              "    </tr>\n",
              "    <tr>\n",
              "      <th>5</th>\n",
              "      <td>10.0</td>\n",
              "      <td>21.0</td>\n",
              "    </tr>\n",
              "    <tr>\n",
              "      <th>6</th>\n",
              "      <td>63.0</td>\n",
              "      <td>33.0</td>\n",
              "    </tr>\n",
              "    <tr>\n",
              "      <th>7</th>\n",
              "      <td>85.0</td>\n",
              "      <td>16.0</td>\n",
              "    </tr>\n",
              "    <tr>\n",
              "      <th>8</th>\n",
              "      <td>12.0</td>\n",
              "      <td>15.0</td>\n",
              "    </tr>\n",
              "    <tr>\n",
              "      <th>9</th>\n",
              "      <td>100.0</td>\n",
              "      <td>19.0</td>\n",
              "    </tr>\n",
              "    <tr>\n",
              "      <th>10</th>\n",
              "      <td>12.0</td>\n",
              "      <td>15.0</td>\n",
              "    </tr>\n",
              "    <tr>\n",
              "      <th>11</th>\n",
              "      <td>12.0</td>\n",
              "      <td>15.0</td>\n",
              "    </tr>\n",
              "  </tbody>\n",
              "</table>\n",
              "</div>"
            ],
            "text/plain": [
              "     col1   col2\n",
              "0    12.0   15.0\n",
              "1    12.0    4.0\n",
              "2     5.0   10.0\n",
              "3    99.0  120.0\n",
              "4    12.0   15.0\n",
              "5    10.0   21.0\n",
              "6    63.0   33.0\n",
              "7    85.0   16.0\n",
              "8    12.0   15.0\n",
              "9   100.0   19.0\n",
              "10   12.0   15.0\n",
              "11   12.0   15.0"
            ]
          },
          "metadata": {
            "tags": []
          },
          "execution_count": 55
        }
      ]
    },
    {
      "cell_type": "markdown",
      "metadata": {
        "id": "47BFuB3Dx_Yx"
      },
      "source": [
        "# Fill NaN with interpolate  \n"
      ]
    },
    {
      "cell_type": "code",
      "metadata": {
        "id": "a2OgPHZpq2H8"
      },
      "source": [
        "my_dict = {'interpolate_col1' : [np.nan, np.nan, 5, 99, np.nan, 10, 63, 85, np.nan, 100, np.nan, np.nan],\n",
        "           'interpolate_col2' : [np.nan, 4, 10, 120, np.nan, 21, 33, 16, np.nan, 19, np.nan, np.nan]} \n",
        "# when there is NaN values the entire column dtypes changes from int to float dtype"
      ],
      "execution_count": 56,
      "outputs": []
    },
    {
      "cell_type": "code",
      "metadata": {
        "id": "LvAEB4JOwFBA"
      },
      "source": [
        "df = pd.DataFrame(my_dict)"
      ],
      "execution_count": 57,
      "outputs": []
    },
    {
      "cell_type": "code",
      "metadata": {
        "id": "UdgFYkXcwX6C"
      },
      "source": [
        "df.interpolate(method ='linear', limit_direction ='forward', inplace = True)"
      ],
      "execution_count": 58,
      "outputs": []
    },
    {
      "cell_type": "code",
      "metadata": {
        "colab": {
          "base_uri": "https://localhost:8080/",
          "height": 421
        },
        "id": "IXxwjLvDweUH",
        "outputId": "f02d5490-e11e-443f-c646-3b769e4d737f"
      },
      "source": [
        "df.head(12)"
      ],
      "execution_count": 59,
      "outputs": [
        {
          "output_type": "execute_result",
          "data": {
            "text/html": [
              "<div>\n",
              "<style scoped>\n",
              "    .dataframe tbody tr th:only-of-type {\n",
              "        vertical-align: middle;\n",
              "    }\n",
              "\n",
              "    .dataframe tbody tr th {\n",
              "        vertical-align: top;\n",
              "    }\n",
              "\n",
              "    .dataframe thead th {\n",
              "        text-align: right;\n",
              "    }\n",
              "</style>\n",
              "<table border=\"1\" class=\"dataframe\">\n",
              "  <thead>\n",
              "    <tr style=\"text-align: right;\">\n",
              "      <th></th>\n",
              "      <th>interpolate_col1</th>\n",
              "      <th>interpolate_col2</th>\n",
              "    </tr>\n",
              "  </thead>\n",
              "  <tbody>\n",
              "    <tr>\n",
              "      <th>0</th>\n",
              "      <td>NaN</td>\n",
              "      <td>NaN</td>\n",
              "    </tr>\n",
              "    <tr>\n",
              "      <th>1</th>\n",
              "      <td>NaN</td>\n",
              "      <td>4.0</td>\n",
              "    </tr>\n",
              "    <tr>\n",
              "      <th>2</th>\n",
              "      <td>5.0</td>\n",
              "      <td>10.0</td>\n",
              "    </tr>\n",
              "    <tr>\n",
              "      <th>3</th>\n",
              "      <td>99.0</td>\n",
              "      <td>120.0</td>\n",
              "    </tr>\n",
              "    <tr>\n",
              "      <th>4</th>\n",
              "      <td>54.5</td>\n",
              "      <td>70.5</td>\n",
              "    </tr>\n",
              "    <tr>\n",
              "      <th>5</th>\n",
              "      <td>10.0</td>\n",
              "      <td>21.0</td>\n",
              "    </tr>\n",
              "    <tr>\n",
              "      <th>6</th>\n",
              "      <td>63.0</td>\n",
              "      <td>33.0</td>\n",
              "    </tr>\n",
              "    <tr>\n",
              "      <th>7</th>\n",
              "      <td>85.0</td>\n",
              "      <td>16.0</td>\n",
              "    </tr>\n",
              "    <tr>\n",
              "      <th>8</th>\n",
              "      <td>92.5</td>\n",
              "      <td>17.5</td>\n",
              "    </tr>\n",
              "    <tr>\n",
              "      <th>9</th>\n",
              "      <td>100.0</td>\n",
              "      <td>19.0</td>\n",
              "    </tr>\n",
              "    <tr>\n",
              "      <th>10</th>\n",
              "      <td>100.0</td>\n",
              "      <td>19.0</td>\n",
              "    </tr>\n",
              "    <tr>\n",
              "      <th>11</th>\n",
              "      <td>100.0</td>\n",
              "      <td>19.0</td>\n",
              "    </tr>\n",
              "  </tbody>\n",
              "</table>\n",
              "</div>"
            ],
            "text/plain": [
              "    interpolate_col1  interpolate_col2\n",
              "0                NaN               NaN\n",
              "1                NaN               4.0\n",
              "2                5.0              10.0\n",
              "3               99.0             120.0\n",
              "4               54.5              70.5\n",
              "5               10.0              21.0\n",
              "6               63.0              33.0\n",
              "7               85.0              16.0\n",
              "8               92.5              17.5\n",
              "9              100.0              19.0\n",
              "10             100.0              19.0\n",
              "11             100.0              19.0"
            ]
          },
          "metadata": {
            "tags": []
          },
          "execution_count": 59
        }
      ]
    },
    {
      "cell_type": "markdown",
      "metadata": {
        "id": "x5kkjDwHzhnP"
      },
      "source": [
        "# Fill NaN using SimpleImputer  \n"
      ]
    },
    {
      "cell_type": "code",
      "metadata": {
        "id": "KouaGexs0Mii"
      },
      "source": [
        "my_dict = {'simpleimputer_col1' : [5, 99, np.nan, 10, 63, 85, np.nan, 100, np.nan, np.nan],\n",
        "           'simpleimputer_col2' : [10, 120, np.nan, 21, 33, 16, np.nan, 19, np.nan, np.nan]} \n",
        "# when there is NaN values the entire column dtypes changes from int to float dtype"
      ],
      "execution_count": 60,
      "outputs": []
    },
    {
      "cell_type": "code",
      "metadata": {
        "id": "9p9pBLcE0Yhj"
      },
      "source": [
        "df = pd.DataFrame(my_dict)"
      ],
      "execution_count": 61,
      "outputs": []
    },
    {
      "cell_type": "code",
      "metadata": {
        "id": "5qxKOJyz0dGo"
      },
      "source": [
        "from sklearn.impute import SimpleImputer\n",
        "\n",
        "impute = SimpleImputer(missing_values=np.nan, strategy='mean')\n",
        "for cols in ['simpleimputer_col1', 'simpleimputer_col2']:\n",
        "    df[cols] = impute.fit_transform(df[[cols]])"
      ],
      "execution_count": 62,
      "outputs": []
    },
    {
      "cell_type": "code",
      "metadata": {
        "colab": {
          "base_uri": "https://localhost:8080/",
          "height": 359
        },
        "id": "KI1eMq1_1rNP",
        "outputId": "3a065e1c-dea0-4ec1-d705-ff2bd804d3d3"
      },
      "source": [
        "df.head(10)"
      ],
      "execution_count": 63,
      "outputs": [
        {
          "output_type": "execute_result",
          "data": {
            "text/html": [
              "<div>\n",
              "<style scoped>\n",
              "    .dataframe tbody tr th:only-of-type {\n",
              "        vertical-align: middle;\n",
              "    }\n",
              "\n",
              "    .dataframe tbody tr th {\n",
              "        vertical-align: top;\n",
              "    }\n",
              "\n",
              "    .dataframe thead th {\n",
              "        text-align: right;\n",
              "    }\n",
              "</style>\n",
              "<table border=\"1\" class=\"dataframe\">\n",
              "  <thead>\n",
              "    <tr style=\"text-align: right;\">\n",
              "      <th></th>\n",
              "      <th>simpleimputer_col1</th>\n",
              "      <th>simpleimputer_col2</th>\n",
              "    </tr>\n",
              "  </thead>\n",
              "  <tbody>\n",
              "    <tr>\n",
              "      <th>0</th>\n",
              "      <td>5.000000</td>\n",
              "      <td>10.0</td>\n",
              "    </tr>\n",
              "    <tr>\n",
              "      <th>1</th>\n",
              "      <td>99.000000</td>\n",
              "      <td>120.0</td>\n",
              "    </tr>\n",
              "    <tr>\n",
              "      <th>2</th>\n",
              "      <td>60.333333</td>\n",
              "      <td>36.5</td>\n",
              "    </tr>\n",
              "    <tr>\n",
              "      <th>3</th>\n",
              "      <td>10.000000</td>\n",
              "      <td>21.0</td>\n",
              "    </tr>\n",
              "    <tr>\n",
              "      <th>4</th>\n",
              "      <td>63.000000</td>\n",
              "      <td>33.0</td>\n",
              "    </tr>\n",
              "    <tr>\n",
              "      <th>5</th>\n",
              "      <td>85.000000</td>\n",
              "      <td>16.0</td>\n",
              "    </tr>\n",
              "    <tr>\n",
              "      <th>6</th>\n",
              "      <td>60.333333</td>\n",
              "      <td>36.5</td>\n",
              "    </tr>\n",
              "    <tr>\n",
              "      <th>7</th>\n",
              "      <td>100.000000</td>\n",
              "      <td>19.0</td>\n",
              "    </tr>\n",
              "    <tr>\n",
              "      <th>8</th>\n",
              "      <td>60.333333</td>\n",
              "      <td>36.5</td>\n",
              "    </tr>\n",
              "    <tr>\n",
              "      <th>9</th>\n",
              "      <td>60.333333</td>\n",
              "      <td>36.5</td>\n",
              "    </tr>\n",
              "  </tbody>\n",
              "</table>\n",
              "</div>"
            ],
            "text/plain": [
              "   simpleimputer_col1  simpleimputer_col2\n",
              "0            5.000000                10.0\n",
              "1           99.000000               120.0\n",
              "2           60.333333                36.5\n",
              "3           10.000000                21.0\n",
              "4           63.000000                33.0\n",
              "5           85.000000                16.0\n",
              "6           60.333333                36.5\n",
              "7          100.000000                19.0\n",
              "8           60.333333                36.5\n",
              "9           60.333333                36.5"
            ]
          },
          "metadata": {
            "tags": []
          },
          "execution_count": 63
        }
      ]
    }
  ]
}