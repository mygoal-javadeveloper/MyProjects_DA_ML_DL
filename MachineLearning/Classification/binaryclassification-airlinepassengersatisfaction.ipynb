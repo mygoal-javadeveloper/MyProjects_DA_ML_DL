{
 "cells": [
  {
   "cell_type": "code",
   "execution_count": 1,
   "metadata": {
    "_cell_guid": "b1076dfc-b9ad-4769-8c92-a6c4dae69d19",
    "_uuid": "8f2839f25d086af736a60e9eeb907d3b93b6e0e5",
    "execution": {
     "iopub.execute_input": "2021-03-19T07:13:43.805490Z",
     "iopub.status.busy": "2021-03-19T07:13:43.804793Z",
     "iopub.status.idle": "2021-03-19T07:13:43.821386Z",
     "shell.execute_reply": "2021-03-19T07:13:43.820515Z"
    },
    "papermill": {
     "duration": 0.05428,
     "end_time": "2021-03-19T07:13:43.821595",
     "exception": false,
     "start_time": "2021-03-19T07:13:43.767315",
     "status": "completed"
    },
    "tags": []
   },
   "outputs": [
    {
     "name": "stdout",
     "output_type": "stream",
     "text": [
      "/kaggle/input/airline-passenger-satisfaction/train.csv\n",
      "/kaggle/input/airline-passenger-satisfaction/test.csv\n"
     ]
    }
   ],
   "source": [
    "# This Python 3 environment comes with many helpful analytics libraries installed\n",
    "# It is defined by the kaggle/python Docker image: https://github.com/kaggle/docker-python\n",
    "# For example, here's several helpful packages to load\n",
    "\n",
    "import numpy as np # linear algebra\n",
    "import pandas as pd # data processing, CSV file I/O (e.g. pd.read_csv)\n",
    "\n",
    "# Input data files are available in the read-only \"../input/\" directory\n",
    "# For example, running this (by clicking run or pressing Shift+Enter) will list all files under the input directory\n",
    "\n",
    "import os\n",
    "for dirname, _, filenames in os.walk('/kaggle/input'):\n",
    "    for filename in filenames:\n",
    "        print(os.path.join(dirname, filename))\n",
    "\n",
    "# You can write up to 20GB to the current directory (/kaggle/working/) that gets preserved as output when you create a version using \"Save & Run All\" \n",
    "# You can also write temporary files to /kaggle/temp/, but they won't be saved outside of the current session"
   ]
  },
  {
   "cell_type": "code",
   "execution_count": 2,
   "metadata": {
    "execution": {
     "iopub.execute_input": "2021-03-19T07:13:43.889166Z",
     "iopub.status.busy": "2021-03-19T07:13:43.888548Z",
     "iopub.status.idle": "2021-03-19T07:13:43.891606Z",
     "shell.execute_reply": "2021-03-19T07:13:43.890995Z"
    },
    "papermill": {
     "duration": 0.038518,
     "end_time": "2021-03-19T07:13:43.891739",
     "exception": false,
     "start_time": "2021-03-19T07:13:43.853221",
     "status": "completed"
    },
    "tags": []
   },
   "outputs": [],
   "source": [
    "import warnings\n",
    "warnings.filterwarnings('ignore')"
   ]
  },
  {
   "cell_type": "code",
   "execution_count": 3,
   "metadata": {
    "execution": {
     "iopub.execute_input": "2021-03-19T07:13:43.958167Z",
     "iopub.status.busy": "2021-03-19T07:13:43.957506Z",
     "iopub.status.idle": "2021-03-19T07:13:43.961568Z",
     "shell.execute_reply": "2021-03-19T07:13:43.962078Z"
    },
    "papermill": {
     "duration": 0.038235,
     "end_time": "2021-03-19T07:13:43.962275",
     "exception": false,
     "start_time": "2021-03-19T07:13:43.924040",
     "status": "completed"
    },
    "tags": []
   },
   "outputs": [],
   "source": [
    "pd.options.display.max_columns = 25"
   ]
  },
  {
   "cell_type": "code",
   "execution_count": 4,
   "metadata": {
    "execution": {
     "iopub.execute_input": "2021-03-19T07:13:44.029596Z",
     "iopub.status.busy": "2021-03-19T07:13:44.028933Z",
     "iopub.status.idle": "2021-03-19T07:13:44.645365Z",
     "shell.execute_reply": "2021-03-19T07:13:44.644499Z"
    },
    "papermill": {
     "duration": 0.651711,
     "end_time": "2021-03-19T07:13:44.645543",
     "exception": false,
     "start_time": "2021-03-19T07:13:43.993832",
     "status": "completed"
    },
    "tags": []
   },
   "outputs": [],
   "source": [
    "# reading the train and test datasets\n",
    "train_df = pd.read_csv('/kaggle/input/airline-passenger-satisfaction/train.csv', index_col = 0)\n",
    "test_df = pd.read_csv('/kaggle/input/airline-passenger-satisfaction/test.csv', index_col = 0)"
   ]
  },
  {
   "cell_type": "code",
   "execution_count": 5,
   "metadata": {
    "execution": {
     "iopub.execute_input": "2021-03-19T07:13:44.713663Z",
     "iopub.status.busy": "2021-03-19T07:13:44.712959Z",
     "iopub.status.idle": "2021-03-19T07:13:44.785996Z",
     "shell.execute_reply": "2021-03-19T07:13:44.785486Z"
    },
    "papermill": {
     "duration": 0.109343,
     "end_time": "2021-03-19T07:13:44.786195",
     "exception": false,
     "start_time": "2021-03-19T07:13:44.676852",
     "status": "completed"
    },
    "tags": []
   },
   "outputs": [
    {
     "name": "stdout",
     "output_type": "stream",
     "text": [
      "<class 'pandas.core.frame.DataFrame'>\n",
      "Int64Index: 103904 entries, 0 to 103903\n",
      "Data columns (total 24 columns):\n",
      " #   Column                             Non-Null Count   Dtype  \n",
      "---  ------                             --------------   -----  \n",
      " 0   id                                 103904 non-null  int64  \n",
      " 1   Gender                             103904 non-null  object \n",
      " 2   Customer Type                      103904 non-null  object \n",
      " 3   Age                                103904 non-null  int64  \n",
      " 4   Type of Travel                     103904 non-null  object \n",
      " 5   Class                              103904 non-null  object \n",
      " 6   Flight Distance                    103904 non-null  int64  \n",
      " 7   Inflight wifi service              103904 non-null  int64  \n",
      " 8   Departure/Arrival time convenient  103904 non-null  int64  \n",
      " 9   Ease of Online booking             103904 non-null  int64  \n",
      " 10  Gate location                      103904 non-null  int64  \n",
      " 11  Food and drink                     103904 non-null  int64  \n",
      " 12  Online boarding                    103904 non-null  int64  \n",
      " 13  Seat comfort                       103904 non-null  int64  \n",
      " 14  Inflight entertainment             103904 non-null  int64  \n",
      " 15  On-board service                   103904 non-null  int64  \n",
      " 16  Leg room service                   103904 non-null  int64  \n",
      " 17  Baggage handling                   103904 non-null  int64  \n",
      " 18  Checkin service                    103904 non-null  int64  \n",
      " 19  Inflight service                   103904 non-null  int64  \n",
      " 20  Cleanliness                        103904 non-null  int64  \n",
      " 21  Departure Delay in Minutes         103904 non-null  int64  \n",
      " 22  Arrival Delay in Minutes           103594 non-null  float64\n",
      " 23  satisfaction                       103904 non-null  object \n",
      "dtypes: float64(1), int64(18), object(5)\n",
      "memory usage: 19.8+ MB\n"
     ]
    }
   ],
   "source": [
    "# getting brief overview of the train dataset - number of columns and rows (shape of dataset), \n",
    "# columns names and its dtype, \n",
    "# how many non-null values it has \n",
    "# and memory usage\n",
    "train_df.info()"
   ]
  },
  {
   "cell_type": "code",
   "execution_count": 6,
   "metadata": {
    "execution": {
     "iopub.execute_input": "2021-03-19T07:13:44.856454Z",
     "iopub.status.busy": "2021-03-19T07:13:44.855594Z",
     "iopub.status.idle": "2021-03-19T07:13:44.882537Z",
     "shell.execute_reply": "2021-03-19T07:13:44.883023Z"
    },
    "papermill": {
     "duration": 0.064805,
     "end_time": "2021-03-19T07:13:44.883207",
     "exception": false,
     "start_time": "2021-03-19T07:13:44.818402",
     "status": "completed"
    },
    "tags": []
   },
   "outputs": [
    {
     "name": "stdout",
     "output_type": "stream",
     "text": [
      "<class 'pandas.core.frame.DataFrame'>\n",
      "Int64Index: 25976 entries, 0 to 25975\n",
      "Data columns (total 24 columns):\n",
      " #   Column                             Non-Null Count  Dtype  \n",
      "---  ------                             --------------  -----  \n",
      " 0   id                                 25976 non-null  int64  \n",
      " 1   Gender                             25976 non-null  object \n",
      " 2   Customer Type                      25976 non-null  object \n",
      " 3   Age                                25976 non-null  int64  \n",
      " 4   Type of Travel                     25976 non-null  object \n",
      " 5   Class                              25976 non-null  object \n",
      " 6   Flight Distance                    25976 non-null  int64  \n",
      " 7   Inflight wifi service              25976 non-null  int64  \n",
      " 8   Departure/Arrival time convenient  25976 non-null  int64  \n",
      " 9   Ease of Online booking             25976 non-null  int64  \n",
      " 10  Gate location                      25976 non-null  int64  \n",
      " 11  Food and drink                     25976 non-null  int64  \n",
      " 12  Online boarding                    25976 non-null  int64  \n",
      " 13  Seat comfort                       25976 non-null  int64  \n",
      " 14  Inflight entertainment             25976 non-null  int64  \n",
      " 15  On-board service                   25976 non-null  int64  \n",
      " 16  Leg room service                   25976 non-null  int64  \n",
      " 17  Baggage handling                   25976 non-null  int64  \n",
      " 18  Checkin service                    25976 non-null  int64  \n",
      " 19  Inflight service                   25976 non-null  int64  \n",
      " 20  Cleanliness                        25976 non-null  int64  \n",
      " 21  Departure Delay in Minutes         25976 non-null  int64  \n",
      " 22  Arrival Delay in Minutes           25893 non-null  float64\n",
      " 23  satisfaction                       25976 non-null  object \n",
      "dtypes: float64(1), int64(18), object(5)\n",
      "memory usage: 5.0+ MB\n"
     ]
    }
   ],
   "source": [
    "# getting brief overview of the test dataset - number of columns and rows (shape of dataset), \n",
    "# columns names and its dtype, \n",
    "# how many non-null values it has \n",
    "# and memory usage\n",
    "test_df.info()"
   ]
  },
  {
   "cell_type": "code",
   "execution_count": 7,
   "metadata": {
    "execution": {
     "iopub.execute_input": "2021-03-19T07:13:44.955643Z",
     "iopub.status.busy": "2021-03-19T07:13:44.954984Z",
     "iopub.status.idle": "2021-03-19T07:13:44.958944Z",
     "shell.execute_reply": "2021-03-19T07:13:44.958334Z"
    },
    "papermill": {
     "duration": 0.043439,
     "end_time": "2021-03-19T07:13:44.959095",
     "exception": false,
     "start_time": "2021-03-19T07:13:44.915656",
     "status": "completed"
    },
    "tags": []
   },
   "outputs": [
    {
     "data": {
      "text/plain": [
       "Index(['id', 'Gender', 'Customer Type', 'Age', 'Type of Travel', 'Class',\n",
       "       'Flight Distance', 'Inflight wifi service',\n",
       "       'Departure/Arrival time convenient', 'Ease of Online booking',\n",
       "       'Gate location', 'Food and drink', 'Online boarding', 'Seat comfort',\n",
       "       'Inflight entertainment', 'On-board service', 'Leg room service',\n",
       "       'Baggage handling', 'Checkin service', 'Inflight service',\n",
       "       'Cleanliness', 'Departure Delay in Minutes', 'Arrival Delay in Minutes',\n",
       "       'satisfaction'],\n",
       "      dtype='object')"
      ]
     },
     "execution_count": 7,
     "metadata": {},
     "output_type": "execute_result"
    }
   ],
   "source": [
    "# getting all the columns name of the train dataset\n",
    "train_df.columns"
   ]
  },
  {
   "cell_type": "code",
   "execution_count": 8,
   "metadata": {
    "execution": {
     "iopub.execute_input": "2021-03-19T07:13:45.029200Z",
     "iopub.status.busy": "2021-03-19T07:13:45.028512Z",
     "iopub.status.idle": "2021-03-19T07:13:45.035419Z",
     "shell.execute_reply": "2021-03-19T07:13:45.035911Z"
    },
    "papermill": {
     "duration": 0.044074,
     "end_time": "2021-03-19T07:13:45.036102",
     "exception": false,
     "start_time": "2021-03-19T07:13:44.992028",
     "status": "completed"
    },
    "tags": []
   },
   "outputs": [],
   "source": [
    "# changing the column name as per Python naming convention\n",
    "train_df.rename(columns = {'Gender' : 'gender', 'Customer Type': 'customer_type', 'Age' : 'age', \n",
    "                           'Type of Travel': 'travel_type', 'Class': 'class', \n",
    "                           'Flight Distance': 'flight_distance', \n",
    "                           'Inflight wifi service': 'inflight_wifi',\n",
    "                           'Departure/Arrival time convenient': 'departure_n_arrival_time_convenient', \n",
    "                           'Ease of Online booking' : 'easy_onlinebooking',\n",
    "                           'Gate location' : 'gate_location', 'Food and drink' : 'food_n_drink', \n",
    "                           'Online boarding' : 'online_boarding', 'Seat comfort': 'seat_comfort',\n",
    "                           'Inflight entertainment' : 'inflight_entertainment', \n",
    "                           'On-board service' : 'onboard_service', \n",
    "                           'Leg room service' : 'leg_room_service',\n",
    "                           'Baggage handling' : 'baggage_handling',\n",
    "                           'Checkin service' : 'checkin_service', \n",
    "                           'Inflight service' : 'inflight_service','Cleanliness' : 'cleanliness',\n",
    "                           'Departure Delay in Minutes': 'departure_delay_min', \n",
    "                           'Arrival Delay in Minutes' : 'arrival_delay_minutes',\n",
    "                           'satisfaction' : 'satisfaction'}, inplace= True)"
   ]
  },
  {
   "cell_type": "code",
   "execution_count": 9,
   "metadata": {
    "execution": {
     "iopub.execute_input": "2021-03-19T07:13:45.105507Z",
     "iopub.status.busy": "2021-03-19T07:13:45.104904Z",
     "iopub.status.idle": "2021-03-19T07:13:45.111033Z",
     "shell.execute_reply": "2021-03-19T07:13:45.111608Z"
    },
    "papermill": {
     "duration": 0.042474,
     "end_time": "2021-03-19T07:13:45.111795",
     "exception": false,
     "start_time": "2021-03-19T07:13:45.069321",
     "status": "completed"
    },
    "tags": []
   },
   "outputs": [],
   "source": [
    "# changing the column name as per Python naming convention\n",
    "test_df.rename(columns = {'Gender' : 'gender', 'Customer Type': 'customer_type', 'Age' : 'age', \n",
    "                           'Type of Travel': 'travel_type', 'Class': 'class', \n",
    "                           'Flight Distance': 'flight_distance', \n",
    "                           'Inflight wifi service': 'inflight_wifi',\n",
    "                           'Departure/Arrival time convenient': 'departure_n_arrival_time_convenient', \n",
    "                           'Ease of Online booking' : 'easy_onlinebooking',\n",
    "                           'Gate location' : 'gate_location', 'Food and drink' : 'food_n_drink', \n",
    "                           'Online boarding' : 'online_boarding', 'Seat comfort': 'seat_comfort',\n",
    "                           'Inflight entertainment' : 'inflight_entertainment', \n",
    "                           'On-board service' : 'onboard_service', \n",
    "                           'Leg room service' : 'leg_room_service',\n",
    "                           'Baggage handling' : 'baggage_handling',\n",
    "                           'Checkin service' : 'checkin_service', \n",
    "                           'Inflight service' : 'inflight_service','Cleanliness' : 'cleanliness',\n",
    "                           'Departure Delay in Minutes': 'departure_delay_min', \n",
    "                           'Arrival Delay in Minutes' : 'arrival_delay_minutes',\n",
    "                           'satisfaction' : 'satisfaction'}, inplace= True)"
   ]
  },
  {
   "cell_type": "code",
   "execution_count": 10,
   "metadata": {
    "execution": {
     "iopub.execute_input": "2021-03-19T07:13:45.180962Z",
     "iopub.status.busy": "2021-03-19T07:13:45.180329Z",
     "iopub.status.idle": "2021-03-19T07:13:45.206313Z",
     "shell.execute_reply": "2021-03-19T07:13:45.206810Z"
    },
    "papermill": {
     "duration": 0.062271,
     "end_time": "2021-03-19T07:13:45.206981",
     "exception": false,
     "start_time": "2021-03-19T07:13:45.144710",
     "status": "completed"
    },
    "tags": []
   },
   "outputs": [
    {
     "data": {
      "text/html": [
       "<div>\n",
       "<style scoped>\n",
       "    .dataframe tbody tr th:only-of-type {\n",
       "        vertical-align: middle;\n",
       "    }\n",
       "\n",
       "    .dataframe tbody tr th {\n",
       "        vertical-align: top;\n",
       "    }\n",
       "\n",
       "    .dataframe thead th {\n",
       "        text-align: right;\n",
       "    }\n",
       "</style>\n",
       "<table border=\"1\" class=\"dataframe\">\n",
       "  <thead>\n",
       "    <tr style=\"text-align: right;\">\n",
       "      <th></th>\n",
       "      <th>id</th>\n",
       "      <th>gender</th>\n",
       "      <th>customer_type</th>\n",
       "      <th>age</th>\n",
       "      <th>travel_type</th>\n",
       "      <th>class</th>\n",
       "      <th>flight_distance</th>\n",
       "      <th>inflight_wifi</th>\n",
       "      <th>departure_n_arrival_time_convenient</th>\n",
       "      <th>easy_onlinebooking</th>\n",
       "      <th>gate_location</th>\n",
       "      <th>food_n_drink</th>\n",
       "      <th>online_boarding</th>\n",
       "      <th>seat_comfort</th>\n",
       "      <th>inflight_entertainment</th>\n",
       "      <th>onboard_service</th>\n",
       "      <th>leg_room_service</th>\n",
       "      <th>baggage_handling</th>\n",
       "      <th>checkin_service</th>\n",
       "      <th>inflight_service</th>\n",
       "      <th>cleanliness</th>\n",
       "      <th>departure_delay_min</th>\n",
       "      <th>arrival_delay_minutes</th>\n",
       "      <th>satisfaction</th>\n",
       "    </tr>\n",
       "  </thead>\n",
       "  <tbody>\n",
       "    <tr>\n",
       "      <th>0</th>\n",
       "      <td>70172</td>\n",
       "      <td>Male</td>\n",
       "      <td>Loyal Customer</td>\n",
       "      <td>13</td>\n",
       "      <td>Personal Travel</td>\n",
       "      <td>Eco Plus</td>\n",
       "      <td>460</td>\n",
       "      <td>3</td>\n",
       "      <td>4</td>\n",
       "      <td>3</td>\n",
       "      <td>1</td>\n",
       "      <td>5</td>\n",
       "      <td>3</td>\n",
       "      <td>5</td>\n",
       "      <td>5</td>\n",
       "      <td>4</td>\n",
       "      <td>3</td>\n",
       "      <td>4</td>\n",
       "      <td>4</td>\n",
       "      <td>5</td>\n",
       "      <td>5</td>\n",
       "      <td>25</td>\n",
       "      <td>18.0</td>\n",
       "      <td>neutral or dissatisfied</td>\n",
       "    </tr>\n",
       "    <tr>\n",
       "      <th>1</th>\n",
       "      <td>5047</td>\n",
       "      <td>Male</td>\n",
       "      <td>disloyal Customer</td>\n",
       "      <td>25</td>\n",
       "      <td>Business travel</td>\n",
       "      <td>Business</td>\n",
       "      <td>235</td>\n",
       "      <td>3</td>\n",
       "      <td>2</td>\n",
       "      <td>3</td>\n",
       "      <td>3</td>\n",
       "      <td>1</td>\n",
       "      <td>3</td>\n",
       "      <td>1</td>\n",
       "      <td>1</td>\n",
       "      <td>1</td>\n",
       "      <td>5</td>\n",
       "      <td>3</td>\n",
       "      <td>1</td>\n",
       "      <td>4</td>\n",
       "      <td>1</td>\n",
       "      <td>1</td>\n",
       "      <td>6.0</td>\n",
       "      <td>neutral or dissatisfied</td>\n",
       "    </tr>\n",
       "    <tr>\n",
       "      <th>2</th>\n",
       "      <td>110028</td>\n",
       "      <td>Female</td>\n",
       "      <td>Loyal Customer</td>\n",
       "      <td>26</td>\n",
       "      <td>Business travel</td>\n",
       "      <td>Business</td>\n",
       "      <td>1142</td>\n",
       "      <td>2</td>\n",
       "      <td>2</td>\n",
       "      <td>2</td>\n",
       "      <td>2</td>\n",
       "      <td>5</td>\n",
       "      <td>5</td>\n",
       "      <td>5</td>\n",
       "      <td>5</td>\n",
       "      <td>4</td>\n",
       "      <td>3</td>\n",
       "      <td>4</td>\n",
       "      <td>4</td>\n",
       "      <td>4</td>\n",
       "      <td>5</td>\n",
       "      <td>0</td>\n",
       "      <td>0.0</td>\n",
       "      <td>satisfied</td>\n",
       "    </tr>\n",
       "    <tr>\n",
       "      <th>3</th>\n",
       "      <td>24026</td>\n",
       "      <td>Female</td>\n",
       "      <td>Loyal Customer</td>\n",
       "      <td>25</td>\n",
       "      <td>Business travel</td>\n",
       "      <td>Business</td>\n",
       "      <td>562</td>\n",
       "      <td>2</td>\n",
       "      <td>5</td>\n",
       "      <td>5</td>\n",
       "      <td>5</td>\n",
       "      <td>2</td>\n",
       "      <td>2</td>\n",
       "      <td>2</td>\n",
       "      <td>2</td>\n",
       "      <td>2</td>\n",
       "      <td>5</td>\n",
       "      <td>3</td>\n",
       "      <td>1</td>\n",
       "      <td>4</td>\n",
       "      <td>2</td>\n",
       "      <td>11</td>\n",
       "      <td>9.0</td>\n",
       "      <td>neutral or dissatisfied</td>\n",
       "    </tr>\n",
       "    <tr>\n",
       "      <th>4</th>\n",
       "      <td>119299</td>\n",
       "      <td>Male</td>\n",
       "      <td>Loyal Customer</td>\n",
       "      <td>61</td>\n",
       "      <td>Business travel</td>\n",
       "      <td>Business</td>\n",
       "      <td>214</td>\n",
       "      <td>3</td>\n",
       "      <td>3</td>\n",
       "      <td>3</td>\n",
       "      <td>3</td>\n",
       "      <td>4</td>\n",
       "      <td>5</td>\n",
       "      <td>5</td>\n",
       "      <td>3</td>\n",
       "      <td>3</td>\n",
       "      <td>4</td>\n",
       "      <td>4</td>\n",
       "      <td>3</td>\n",
       "      <td>3</td>\n",
       "      <td>3</td>\n",
       "      <td>0</td>\n",
       "      <td>0.0</td>\n",
       "      <td>satisfied</td>\n",
       "    </tr>\n",
       "  </tbody>\n",
       "</table>\n",
       "</div>"
      ],
      "text/plain": [
       "       id  gender      customer_type  age      travel_type     class  \\\n",
       "0   70172    Male     Loyal Customer   13  Personal Travel  Eco Plus   \n",
       "1    5047    Male  disloyal Customer   25  Business travel  Business   \n",
       "2  110028  Female     Loyal Customer   26  Business travel  Business   \n",
       "3   24026  Female     Loyal Customer   25  Business travel  Business   \n",
       "4  119299    Male     Loyal Customer   61  Business travel  Business   \n",
       "\n",
       "   flight_distance  inflight_wifi  departure_n_arrival_time_convenient  \\\n",
       "0              460              3                                    4   \n",
       "1              235              3                                    2   \n",
       "2             1142              2                                    2   \n",
       "3              562              2                                    5   \n",
       "4              214              3                                    3   \n",
       "\n",
       "   easy_onlinebooking  gate_location  food_n_drink  online_boarding  \\\n",
       "0                   3              1             5                3   \n",
       "1                   3              3             1                3   \n",
       "2                   2              2             5                5   \n",
       "3                   5              5             2                2   \n",
       "4                   3              3             4                5   \n",
       "\n",
       "   seat_comfort  inflight_entertainment  onboard_service  leg_room_service  \\\n",
       "0             5                       5                4                 3   \n",
       "1             1                       1                1                 5   \n",
       "2             5                       5                4                 3   \n",
       "3             2                       2                2                 5   \n",
       "4             5                       3                3                 4   \n",
       "\n",
       "   baggage_handling  checkin_service  inflight_service  cleanliness  \\\n",
       "0                 4                4                 5            5   \n",
       "1                 3                1                 4            1   \n",
       "2                 4                4                 4            5   \n",
       "3                 3                1                 4            2   \n",
       "4                 4                3                 3            3   \n",
       "\n",
       "   departure_delay_min  arrival_delay_minutes             satisfaction  \n",
       "0                   25                   18.0  neutral or dissatisfied  \n",
       "1                    1                    6.0  neutral or dissatisfied  \n",
       "2                    0                    0.0                satisfied  \n",
       "3                   11                    9.0  neutral or dissatisfied  \n",
       "4                    0                    0.0                satisfied  "
      ]
     },
     "execution_count": 10,
     "metadata": {},
     "output_type": "execute_result"
    }
   ],
   "source": [
    "# first 5 rows content of the train dataset\n",
    "train_df.head()"
   ]
  },
  {
   "cell_type": "code",
   "execution_count": 11,
   "metadata": {
    "execution": {
     "iopub.execute_input": "2021-03-19T07:13:45.278960Z",
     "iopub.status.busy": "2021-03-19T07:13:45.278043Z",
     "iopub.status.idle": "2021-03-19T07:13:45.299070Z",
     "shell.execute_reply": "2021-03-19T07:13:45.299643Z"
    },
    "papermill": {
     "duration": 0.059125,
     "end_time": "2021-03-19T07:13:45.299821",
     "exception": false,
     "start_time": "2021-03-19T07:13:45.240696",
     "status": "completed"
    },
    "tags": []
   },
   "outputs": [
    {
     "data": {
      "text/html": [
       "<div>\n",
       "<style scoped>\n",
       "    .dataframe tbody tr th:only-of-type {\n",
       "        vertical-align: middle;\n",
       "    }\n",
       "\n",
       "    .dataframe tbody tr th {\n",
       "        vertical-align: top;\n",
       "    }\n",
       "\n",
       "    .dataframe thead th {\n",
       "        text-align: right;\n",
       "    }\n",
       "</style>\n",
       "<table border=\"1\" class=\"dataframe\">\n",
       "  <thead>\n",
       "    <tr style=\"text-align: right;\">\n",
       "      <th></th>\n",
       "      <th>id</th>\n",
       "      <th>gender</th>\n",
       "      <th>customer_type</th>\n",
       "      <th>age</th>\n",
       "      <th>travel_type</th>\n",
       "      <th>class</th>\n",
       "      <th>flight_distance</th>\n",
       "      <th>inflight_wifi</th>\n",
       "      <th>departure_n_arrival_time_convenient</th>\n",
       "      <th>easy_onlinebooking</th>\n",
       "      <th>gate_location</th>\n",
       "      <th>food_n_drink</th>\n",
       "      <th>online_boarding</th>\n",
       "      <th>seat_comfort</th>\n",
       "      <th>inflight_entertainment</th>\n",
       "      <th>onboard_service</th>\n",
       "      <th>leg_room_service</th>\n",
       "      <th>baggage_handling</th>\n",
       "      <th>checkin_service</th>\n",
       "      <th>inflight_service</th>\n",
       "      <th>cleanliness</th>\n",
       "      <th>departure_delay_min</th>\n",
       "      <th>arrival_delay_minutes</th>\n",
       "      <th>satisfaction</th>\n",
       "    </tr>\n",
       "  </thead>\n",
       "  <tbody>\n",
       "    <tr>\n",
       "      <th>0</th>\n",
       "      <td>19556</td>\n",
       "      <td>Female</td>\n",
       "      <td>Loyal Customer</td>\n",
       "      <td>52</td>\n",
       "      <td>Business travel</td>\n",
       "      <td>Eco</td>\n",
       "      <td>160</td>\n",
       "      <td>5</td>\n",
       "      <td>4</td>\n",
       "      <td>3</td>\n",
       "      <td>4</td>\n",
       "      <td>3</td>\n",
       "      <td>4</td>\n",
       "      <td>3</td>\n",
       "      <td>5</td>\n",
       "      <td>5</td>\n",
       "      <td>5</td>\n",
       "      <td>5</td>\n",
       "      <td>2</td>\n",
       "      <td>5</td>\n",
       "      <td>5</td>\n",
       "      <td>50</td>\n",
       "      <td>44.0</td>\n",
       "      <td>satisfied</td>\n",
       "    </tr>\n",
       "    <tr>\n",
       "      <th>1</th>\n",
       "      <td>90035</td>\n",
       "      <td>Female</td>\n",
       "      <td>Loyal Customer</td>\n",
       "      <td>36</td>\n",
       "      <td>Business travel</td>\n",
       "      <td>Business</td>\n",
       "      <td>2863</td>\n",
       "      <td>1</td>\n",
       "      <td>1</td>\n",
       "      <td>3</td>\n",
       "      <td>1</td>\n",
       "      <td>5</td>\n",
       "      <td>4</td>\n",
       "      <td>5</td>\n",
       "      <td>4</td>\n",
       "      <td>4</td>\n",
       "      <td>4</td>\n",
       "      <td>4</td>\n",
       "      <td>3</td>\n",
       "      <td>4</td>\n",
       "      <td>5</td>\n",
       "      <td>0</td>\n",
       "      <td>0.0</td>\n",
       "      <td>satisfied</td>\n",
       "    </tr>\n",
       "    <tr>\n",
       "      <th>2</th>\n",
       "      <td>12360</td>\n",
       "      <td>Male</td>\n",
       "      <td>disloyal Customer</td>\n",
       "      <td>20</td>\n",
       "      <td>Business travel</td>\n",
       "      <td>Eco</td>\n",
       "      <td>192</td>\n",
       "      <td>2</td>\n",
       "      <td>0</td>\n",
       "      <td>2</td>\n",
       "      <td>4</td>\n",
       "      <td>2</td>\n",
       "      <td>2</td>\n",
       "      <td>2</td>\n",
       "      <td>2</td>\n",
       "      <td>4</td>\n",
       "      <td>1</td>\n",
       "      <td>3</td>\n",
       "      <td>2</td>\n",
       "      <td>2</td>\n",
       "      <td>2</td>\n",
       "      <td>0</td>\n",
       "      <td>0.0</td>\n",
       "      <td>neutral or dissatisfied</td>\n",
       "    </tr>\n",
       "    <tr>\n",
       "      <th>3</th>\n",
       "      <td>77959</td>\n",
       "      <td>Male</td>\n",
       "      <td>Loyal Customer</td>\n",
       "      <td>44</td>\n",
       "      <td>Business travel</td>\n",
       "      <td>Business</td>\n",
       "      <td>3377</td>\n",
       "      <td>0</td>\n",
       "      <td>0</td>\n",
       "      <td>0</td>\n",
       "      <td>2</td>\n",
       "      <td>3</td>\n",
       "      <td>4</td>\n",
       "      <td>4</td>\n",
       "      <td>1</td>\n",
       "      <td>1</td>\n",
       "      <td>1</td>\n",
       "      <td>1</td>\n",
       "      <td>3</td>\n",
       "      <td>1</td>\n",
       "      <td>4</td>\n",
       "      <td>0</td>\n",
       "      <td>6.0</td>\n",
       "      <td>satisfied</td>\n",
       "    </tr>\n",
       "    <tr>\n",
       "      <th>4</th>\n",
       "      <td>36875</td>\n",
       "      <td>Female</td>\n",
       "      <td>Loyal Customer</td>\n",
       "      <td>49</td>\n",
       "      <td>Business travel</td>\n",
       "      <td>Eco</td>\n",
       "      <td>1182</td>\n",
       "      <td>2</td>\n",
       "      <td>3</td>\n",
       "      <td>4</td>\n",
       "      <td>3</td>\n",
       "      <td>4</td>\n",
       "      <td>1</td>\n",
       "      <td>2</td>\n",
       "      <td>2</td>\n",
       "      <td>2</td>\n",
       "      <td>2</td>\n",
       "      <td>2</td>\n",
       "      <td>4</td>\n",
       "      <td>2</td>\n",
       "      <td>4</td>\n",
       "      <td>0</td>\n",
       "      <td>20.0</td>\n",
       "      <td>satisfied</td>\n",
       "    </tr>\n",
       "  </tbody>\n",
       "</table>\n",
       "</div>"
      ],
      "text/plain": [
       "      id  gender      customer_type  age      travel_type     class  \\\n",
       "0  19556  Female     Loyal Customer   52  Business travel       Eco   \n",
       "1  90035  Female     Loyal Customer   36  Business travel  Business   \n",
       "2  12360    Male  disloyal Customer   20  Business travel       Eco   \n",
       "3  77959    Male     Loyal Customer   44  Business travel  Business   \n",
       "4  36875  Female     Loyal Customer   49  Business travel       Eco   \n",
       "\n",
       "   flight_distance  inflight_wifi  departure_n_arrival_time_convenient  \\\n",
       "0              160              5                                    4   \n",
       "1             2863              1                                    1   \n",
       "2              192              2                                    0   \n",
       "3             3377              0                                    0   \n",
       "4             1182              2                                    3   \n",
       "\n",
       "   easy_onlinebooking  gate_location  food_n_drink  online_boarding  \\\n",
       "0                   3              4             3                4   \n",
       "1                   3              1             5                4   \n",
       "2                   2              4             2                2   \n",
       "3                   0              2             3                4   \n",
       "4                   4              3             4                1   \n",
       "\n",
       "   seat_comfort  inflight_entertainment  onboard_service  leg_room_service  \\\n",
       "0             3                       5                5                 5   \n",
       "1             5                       4                4                 4   \n",
       "2             2                       2                4                 1   \n",
       "3             4                       1                1                 1   \n",
       "4             2                       2                2                 2   \n",
       "\n",
       "   baggage_handling  checkin_service  inflight_service  cleanliness  \\\n",
       "0                 5                2                 5            5   \n",
       "1                 4                3                 4            5   \n",
       "2                 3                2                 2            2   \n",
       "3                 1                3                 1            4   \n",
       "4                 2                4                 2            4   \n",
       "\n",
       "   departure_delay_min  arrival_delay_minutes             satisfaction  \n",
       "0                   50                   44.0                satisfied  \n",
       "1                    0                    0.0                satisfied  \n",
       "2                    0                    0.0  neutral or dissatisfied  \n",
       "3                    0                    6.0                satisfied  \n",
       "4                    0                   20.0                satisfied  "
      ]
     },
     "execution_count": 11,
     "metadata": {},
     "output_type": "execute_result"
    }
   ],
   "source": [
    "# first 5 rows content of the test dataset\n",
    "test_df.head()"
   ]
  },
  {
   "cell_type": "code",
   "execution_count": 12,
   "metadata": {
    "execution": {
     "iopub.execute_input": "2021-03-19T07:13:45.372482Z",
     "iopub.status.busy": "2021-03-19T07:13:45.371826Z",
     "iopub.status.idle": "2021-03-19T07:13:45.376202Z",
     "shell.execute_reply": "2021-03-19T07:13:45.376673Z"
    },
    "papermill": {
     "duration": 0.042119,
     "end_time": "2021-03-19T07:13:45.376834",
     "exception": false,
     "start_time": "2021-03-19T07:13:45.334715",
     "status": "completed"
    },
    "tags": []
   },
   "outputs": [
    {
     "data": {
      "text/plain": [
       "((103904, 24), (25976, 24))"
      ]
     },
     "execution_count": 12,
     "metadata": {},
     "output_type": "execute_result"
    }
   ],
   "source": [
    "# shape of the dataset\n",
    "train_df.shape, test_df.shape"
   ]
  },
  {
   "cell_type": "code",
   "execution_count": 13,
   "metadata": {
    "execution": {
     "iopub.execute_input": "2021-03-19T07:13:45.450374Z",
     "iopub.status.busy": "2021-03-19T07:13:45.449738Z",
     "iopub.status.idle": "2021-03-19T07:13:45.563142Z",
     "shell.execute_reply": "2021-03-19T07:13:45.562595Z"
    },
    "papermill": {
     "duration": 0.151313,
     "end_time": "2021-03-19T07:13:45.563295",
     "exception": false,
     "start_time": "2021-03-19T07:13:45.411982",
     "status": "completed"
    },
    "tags": []
   },
   "outputs": [
    {
     "data": {
      "text/plain": [
       "0"
      ]
     },
     "execution_count": 13,
     "metadata": {},
     "output_type": "execute_result"
    }
   ],
   "source": [
    "# checking for any duplicate records\n",
    "train_df.duplicated().sum()"
   ]
  },
  {
   "cell_type": "code",
   "execution_count": 14,
   "metadata": {
    "execution": {
     "iopub.execute_input": "2021-03-19T07:13:45.665935Z",
     "iopub.status.busy": "2021-03-19T07:13:45.665117Z",
     "iopub.status.idle": "2021-03-19T07:13:45.685192Z",
     "shell.execute_reply": "2021-03-19T07:13:45.685630Z"
    },
    "papermill": {
     "duration": 0.086932,
     "end_time": "2021-03-19T07:13:45.685819",
     "exception": false,
     "start_time": "2021-03-19T07:13:45.598887",
     "status": "completed"
    },
    "tags": []
   },
   "outputs": [
    {
     "data": {
      "text/plain": [
       "neutral or dissatisfied    56.67\n",
       "satisfied                  43.33\n",
       "Name: satisfaction, dtype: float64"
      ]
     },
     "execution_count": 14,
     "metadata": {},
     "output_type": "execute_result"
    }
   ],
   "source": [
    "round(train_df['satisfaction'].value_counts(normalize = True) * 100, 2)"
   ]
  },
  {
   "cell_type": "code",
   "execution_count": 15,
   "metadata": {
    "execution": {
     "iopub.execute_input": "2021-03-19T07:13:45.762123Z",
     "iopub.status.busy": "2021-03-19T07:13:45.761476Z",
     "iopub.status.idle": "2021-03-19T07:13:46.855156Z",
     "shell.execute_reply": "2021-03-19T07:13:46.854587Z"
    },
    "papermill": {
     "duration": 1.132914,
     "end_time": "2021-03-19T07:13:46.855303",
     "exception": false,
     "start_time": "2021-03-19T07:13:45.722389",
     "status": "completed"
    },
    "tags": []
   },
   "outputs": [
    {
     "data": {
      "image/png": "[encoded data removed]",
      "text/plain": [
       "<Figure size 432x288 with 1 Axes>"
      ]
     },
     "metadata": {},
     "output_type": "display_data"
    }
   ],
   "source": [
    "import matplotlib.pyplot as plt\n",
    "import seaborn as sns\n",
    "\n",
    "sns.set_theme(style = 'darkgrid')\n",
    "sns.countplot(x = 'satisfaction', data = train_df)\n",
    "plt.show()"
   ]
  },
  {
   "cell_type": "markdown",
   "metadata": {
    "papermill": {
     "duration": 0.036892,
     "end_time": "2021-03-19T07:13:46.933325",
     "exception": false,
     "start_time": "2021-03-19T07:13:46.896433",
     "status": "completed"
    },
    "tags": []
   },
   "source": [
    "#### converting object dtype columns to numeric dtype"
   ]
  },
  {
   "cell_type": "code",
   "execution_count": 16,
   "metadata": {
    "execution": {
     "iopub.execute_input": "2021-03-19T07:13:47.020465Z",
     "iopub.status.busy": "2021-03-19T07:13:47.019752Z",
     "iopub.status.idle": "2021-03-19T07:13:47.022886Z",
     "shell.execute_reply": "2021-03-19T07:13:47.023333Z"
    },
    "papermill": {
     "duration": 0.053257,
     "end_time": "2021-03-19T07:13:47.023509",
     "exception": false,
     "start_time": "2021-03-19T07:13:46.970252",
     "status": "completed"
    },
    "tags": []
   },
   "outputs": [
    {
     "data": {
      "text/plain": [
       "['gender', 'customer_type', 'travel_type', 'class', 'satisfaction']"
      ]
     },
     "execution_count": 16,
     "metadata": {},
     "output_type": "execute_result"
    }
   ],
   "source": [
    "# getting all object dtype column name\n",
    "\n",
    "colname = list(train_df.select_dtypes(['object']).columns)\n",
    "colname"
   ]
  },
  {
   "cell_type": "markdown",
   "metadata": {
    "papermill": {
     "duration": 0.037414,
     "end_time": "2021-03-19T07:13:47.098384",
     "exception": false,
     "start_time": "2021-03-19T07:13:47.060970",
     "status": "completed"
    },
    "tags": []
   },
   "source": [
    "#### checking whether the train and test dataset object column have same unique values"
   ]
  },
  {
   "cell_type": "code",
   "execution_count": 17,
   "metadata": {
    "execution": {
     "iopub.execute_input": "2021-03-19T07:13:47.175923Z",
     "iopub.status.busy": "2021-03-19T07:13:47.175284Z",
     "iopub.status.idle": "2021-03-19T07:13:47.208309Z",
     "shell.execute_reply": "2021-03-19T07:13:47.207782Z"
    },
    "papermill": {
     "duration": 0.073161,
     "end_time": "2021-03-19T07:13:47.208566",
     "exception": false,
     "start_time": "2021-03-19T07:13:47.135405",
     "status": "completed"
    },
    "tags": []
   },
   "outputs": [
    {
     "data": {
      "text/plain": [
       "Female    52727\n",
       "Male      51177\n",
       "Name: gender, dtype: int64"
      ]
     },
     "execution_count": 17,
     "metadata": {},
     "output_type": "execute_result"
    }
   ],
   "source": [
    "# finding the unique values count\n",
    "train_df['gender'].value_counts()"
   ]
  },
  {
   "cell_type": "code",
   "execution_count": 18,
   "metadata": {
    "execution": {
     "iopub.execute_input": "2021-03-19T07:13:47.322498Z",
     "iopub.status.busy": "2021-03-19T07:13:47.320816Z",
     "iopub.status.idle": "2021-03-19T07:13:47.326854Z",
     "shell.execute_reply": "2021-03-19T07:13:47.326255Z"
    },
    "papermill": {
     "duration": 0.080839,
     "end_time": "2021-03-19T07:13:47.326992",
     "exception": false,
     "start_time": "2021-03-19T07:13:47.246153",
     "status": "completed"
    },
    "tags": []
   },
   "outputs": [
    {
     "data": {
      "text/plain": [
       "True"
      ]
     },
     "execution_count": 18,
     "metadata": {},
     "output_type": "execute_result"
    }
   ],
   "source": [
    "train_df['gender'].value_counts().sort_index().index.tolist() == test_df['gender'].value_counts().sort_index().index.tolist()"
   ]
  },
  {
   "cell_type": "code",
   "execution_count": 19,
   "metadata": {
    "execution": {
     "iopub.execute_input": "2021-03-19T07:13:47.435126Z",
     "iopub.status.busy": "2021-03-19T07:13:47.432766Z",
     "iopub.status.idle": "2021-03-19T07:13:47.438821Z",
     "shell.execute_reply": "2021-03-19T07:13:47.438231Z"
    },
    "papermill": {
     "duration": 0.073721,
     "end_time": "2021-03-19T07:13:47.438964",
     "exception": false,
     "start_time": "2021-03-19T07:13:47.365243",
     "status": "completed"
    },
    "tags": []
   },
   "outputs": [
    {
     "data": {
      "text/plain": [
       "Loyal Customer       84923\n",
       "disloyal Customer    18981\n",
       "Name: customer_type, dtype: int64"
      ]
     },
     "execution_count": 19,
     "metadata": {},
     "output_type": "execute_result"
    }
   ],
   "source": [
    "train_df['customer_type'].value_counts()"
   ]
  },
  {
   "cell_type": "code",
   "execution_count": 20,
   "metadata": {
    "execution": {
     "iopub.execute_input": "2021-03-19T07:13:47.520652Z",
     "iopub.status.busy": "2021-03-19T07:13:47.520024Z",
     "iopub.status.idle": "2021-03-19T07:13:47.559179Z",
     "shell.execute_reply": "2021-03-19T07:13:47.558649Z"
    },
    "papermill": {
     "duration": 0.080665,
     "end_time": "2021-03-19T07:13:47.559324",
     "exception": false,
     "start_time": "2021-03-19T07:13:47.478659",
     "status": "completed"
    },
    "tags": []
   },
   "outputs": [
    {
     "data": {
      "text/plain": [
       "True"
      ]
     },
     "execution_count": 20,
     "metadata": {},
     "output_type": "execute_result"
    }
   ],
   "source": [
    "train_df['customer_type'].value_counts().sort_index().index.tolist() == test_df['customer_type'].value_counts().sort_index().index.tolist()"
   ]
  },
  {
   "cell_type": "code",
   "execution_count": 21,
   "metadata": {
    "execution": {
     "iopub.execute_input": "2021-03-19T07:13:47.672168Z",
     "iopub.status.busy": "2021-03-19T07:13:47.671512Z",
     "iopub.status.idle": "2021-03-19T07:13:47.674648Z",
     "shell.execute_reply": "2021-03-19T07:13:47.675136Z"
    },
    "papermill": {
     "duration": 0.076911,
     "end_time": "2021-03-19T07:13:47.675303",
     "exception": false,
     "start_time": "2021-03-19T07:13:47.598392",
     "status": "completed"
    },
    "tags": []
   },
   "outputs": [
    {
     "data": {
      "text/plain": [
       "Business travel    71655\n",
       "Personal Travel    32249\n",
       "Name: travel_type, dtype: int64"
      ]
     },
     "execution_count": 21,
     "metadata": {},
     "output_type": "execute_result"
    }
   ],
   "source": [
    "train_df['travel_type'].value_counts()"
   ]
  },
  {
   "cell_type": "code",
   "execution_count": 22,
   "metadata": {
    "execution": {
     "iopub.execute_input": "2021-03-19T07:13:47.783667Z",
     "iopub.status.busy": "2021-03-19T07:13:47.772935Z",
     "iopub.status.idle": "2021-03-19T07:13:47.795895Z",
     "shell.execute_reply": "2021-03-19T07:13:47.795392Z"
    },
    "papermill": {
     "duration": 0.081506,
     "end_time": "2021-03-19T07:13:47.796049",
     "exception": false,
     "start_time": "2021-03-19T07:13:47.714543",
     "status": "completed"
    },
    "tags": []
   },
   "outputs": [
    {
     "data": {
      "text/plain": [
       "True"
      ]
     },
     "execution_count": 22,
     "metadata": {},
     "output_type": "execute_result"
    }
   ],
   "source": [
    "train_df['travel_type'].value_counts().sort_index().index.tolist() == test_df['travel_type'].value_counts().sort_index().index.tolist()"
   ]
  },
  {
   "cell_type": "code",
   "execution_count": 23,
   "metadata": {
    "execution": {
     "iopub.execute_input": "2021-03-19T07:13:47.909730Z",
     "iopub.status.busy": "2021-03-19T07:13:47.909071Z",
     "iopub.status.idle": "2021-03-19T07:13:47.914201Z",
     "shell.execute_reply": "2021-03-19T07:13:47.914806Z"
    },
    "papermill": {
     "duration": 0.078839,
     "end_time": "2021-03-19T07:13:47.914986",
     "exception": false,
     "start_time": "2021-03-19T07:13:47.836147",
     "status": "completed"
    },
    "tags": []
   },
   "outputs": [
    {
     "data": {
      "text/plain": [
       "Business    49665\n",
       "Eco         46745\n",
       "Eco Plus     7494\n",
       "Name: class, dtype: int64"
      ]
     },
     "execution_count": 23,
     "metadata": {},
     "output_type": "execute_result"
    }
   ],
   "source": [
    "train_df['class'].value_counts()"
   ]
  },
  {
   "cell_type": "code",
   "execution_count": 24,
   "metadata": {
    "execution": {
     "iopub.execute_input": "2021-03-19T07:13:47.999356Z",
     "iopub.status.busy": "2021-03-19T07:13:47.998733Z",
     "iopub.status.idle": "2021-03-19T07:13:48.038966Z",
     "shell.execute_reply": "2021-03-19T07:13:48.038458Z"
    },
    "papermill": {
     "duration": 0.083734,
     "end_time": "2021-03-19T07:13:48.039129",
     "exception": false,
     "start_time": "2021-03-19T07:13:47.955395",
     "status": "completed"
    },
    "tags": []
   },
   "outputs": [
    {
     "data": {
      "text/plain": [
       "True"
      ]
     },
     "execution_count": 24,
     "metadata": {},
     "output_type": "execute_result"
    }
   ],
   "source": [
    "train_df['class'].value_counts().sort_index().index.tolist() == test_df['class'].value_counts().sort_index().index.tolist()"
   ]
  },
  {
   "cell_type": "code",
   "execution_count": 25,
   "metadata": {
    "execution": {
     "iopub.execute_input": "2021-03-19T07:13:48.152677Z",
     "iopub.status.busy": "2021-03-19T07:13:48.150150Z",
     "iopub.status.idle": "2021-03-19T07:13:48.156033Z",
     "shell.execute_reply": "2021-03-19T07:13:48.156550Z"
    },
    "papermill": {
     "duration": 0.076891,
     "end_time": "2021-03-19T07:13:48.156734",
     "exception": false,
     "start_time": "2021-03-19T07:13:48.079843",
     "status": "completed"
    },
    "tags": []
   },
   "outputs": [
    {
     "data": {
      "text/plain": [
       "neutral or dissatisfied    58879\n",
       "satisfied                  45025\n",
       "Name: satisfaction, dtype: int64"
      ]
     },
     "execution_count": 25,
     "metadata": {},
     "output_type": "execute_result"
    }
   ],
   "source": [
    "train_df['satisfaction'].value_counts()"
   ]
  },
  {
   "cell_type": "code",
   "execution_count": 26,
   "metadata": {
    "execution": {
     "iopub.execute_input": "2021-03-19T07:13:48.278728Z",
     "iopub.status.busy": "2021-03-19T07:13:48.269747Z",
     "iopub.status.idle": "2021-03-19T07:13:48.283552Z",
     "shell.execute_reply": "2021-03-19T07:13:48.282997Z"
    },
    "papermill": {
     "duration": 0.085457,
     "end_time": "2021-03-19T07:13:48.283694",
     "exception": false,
     "start_time": "2021-03-19T07:13:48.198237",
     "status": "completed"
    },
    "tags": []
   },
   "outputs": [
    {
     "data": {
      "text/plain": [
       "True"
      ]
     },
     "execution_count": 26,
     "metadata": {},
     "output_type": "execute_result"
    }
   ],
   "source": [
    "train_df['satisfaction'].value_counts().sort_index().index.tolist() == test_df['satisfaction'].value_counts().sort_index().index.tolist()"
   ]
  },
  {
   "cell_type": "markdown",
   "metadata": {
    "papermill": {
     "duration": 0.041604,
     "end_time": "2021-03-19T07:13:48.367218",
     "exception": false,
     "start_time": "2021-03-19T07:13:48.325614",
     "status": "completed"
    },
    "tags": []
   },
   "source": [
    "#### Finding the unique values and also checking whether the unique values are same in train and test dataset. As while converting object dtype to numeric dtype if both the train and test dataset doesn't have same unique values it will create a discrepancy in these columns values which may affect the prediction results of the model. Though these dataset has same unique values in each of the object dtype columns in both train and test, then though it is always ideal to combine both train and test to perform the conversion of object dtype to numeric dtype and later again separated train and test dataset"
   ]
  },
  {
   "cell_type": "code",
   "execution_count": 27,
   "metadata": {
    "execution": {
     "iopub.execute_input": "2021-03-19T07:13:48.460761Z",
     "iopub.status.busy": "2021-03-19T07:13:48.459269Z",
     "iopub.status.idle": "2021-03-19T07:13:48.519843Z",
     "shell.execute_reply": "2021-03-19T07:13:48.519194Z"
    },
    "papermill": {
     "duration": 0.110558,
     "end_time": "2021-03-19T07:13:48.519996",
     "exception": false,
     "start_time": "2021-03-19T07:13:48.409438",
     "status": "completed"
    },
    "tags": []
   },
   "outputs": [],
   "source": [
    "train_df['training_set'] = 1\n",
    "test_df['training_set'] = 0\n",
    "frame = [train_df, test_df]\n",
    "temp_df = pd.concat(frame)\n",
    "temp_df.reset_index(drop = True, inplace= True)"
   ]
  },
  {
   "cell_type": "code",
   "execution_count": 28,
   "metadata": {
    "execution": {
     "iopub.execute_input": "2021-03-19T07:13:48.618749Z",
     "iopub.status.busy": "2021-03-19T07:13:48.613525Z",
     "iopub.status.idle": "2021-03-19T07:13:48.679582Z",
     "shell.execute_reply": "2021-03-19T07:13:48.678990Z"
    },
    "papermill": {
     "duration": 0.117228,
     "end_time": "2021-03-19T07:13:48.679725",
     "exception": false,
     "start_time": "2021-03-19T07:13:48.562497",
     "status": "completed"
    },
    "tags": []
   },
   "outputs": [],
   "source": [
    "temp_df['gender'] = temp_df['gender'].astype('category').cat.codes\n",
    "temp_df['customer_type'] = temp_df['customer_type'].astype('category').cat.codes\n",
    "temp_df['travel_type'] = temp_df['travel_type'].astype('category').cat.codes\n",
    "temp_df['class'] = temp_df['class'].astype('category').cat.codes\n",
    "temp_df['satisfaction'] = temp_df['satisfaction'].astype('category').cat.codes"
   ]
  },
  {
   "cell_type": "code",
   "execution_count": 29,
   "metadata": {
    "execution": {
     "iopub.execute_input": "2021-03-19T07:13:48.772354Z",
     "iopub.status.busy": "2021-03-19T07:13:48.771629Z",
     "iopub.status.idle": "2021-03-19T07:13:48.806857Z",
     "shell.execute_reply": "2021-03-19T07:13:48.806187Z"
    },
    "papermill": {
     "duration": 0.085158,
     "end_time": "2021-03-19T07:13:48.806998",
     "exception": false,
     "start_time": "2021-03-19T07:13:48.721840",
     "status": "completed"
    },
    "tags": []
   },
   "outputs": [],
   "source": [
    "train_df = temp_df[temp_df['training_set'] == 1]\n",
    "train_df.drop(['training_set'], axis = 1, inplace = True)\n",
    "train_df.reset_index(drop = True, inplace = True)"
   ]
  },
  {
   "cell_type": "code",
   "execution_count": 30,
   "metadata": {
    "execution": {
     "iopub.execute_input": "2021-03-19T07:13:48.905566Z",
     "iopub.status.busy": "2021-03-19T07:13:48.904626Z",
     "iopub.status.idle": "2021-03-19T07:13:48.915525Z",
     "shell.execute_reply": "2021-03-19T07:13:48.914655Z"
    },
    "papermill": {
     "duration": 0.066372,
     "end_time": "2021-03-19T07:13:48.915736",
     "exception": false,
     "start_time": "2021-03-19T07:13:48.849364",
     "status": "completed"
    },
    "tags": []
   },
   "outputs": [],
   "source": [
    "test_df = temp_df[temp_df['training_set'] == 0]\n",
    "test_df.drop(['training_set'], axis = 1, inplace =True)\n",
    "test_df.reset_index(drop = True, inplace= True)"
   ]
  },
  {
   "cell_type": "code",
   "execution_count": 31,
   "metadata": {
    "execution": {
     "iopub.execute_input": "2021-03-19T07:13:49.024670Z",
     "iopub.status.busy": "2021-03-19T07:13:49.024030Z",
     "iopub.status.idle": "2021-03-19T07:13:49.042934Z",
     "shell.execute_reply": "2021-03-19T07:13:49.043564Z"
    },
    "papermill": {
     "duration": 0.076345,
     "end_time": "2021-03-19T07:13:49.043736",
     "exception": false,
     "start_time": "2021-03-19T07:13:48.967391",
     "status": "completed"
    },
    "tags": []
   },
   "outputs": [
    {
     "name": "stdout",
     "output_type": "stream",
     "text": [
      "<class 'pandas.core.frame.DataFrame'>\n",
      "RangeIndex: 103904 entries, 0 to 103903\n",
      "Data columns (total 24 columns):\n",
      " #   Column                               Non-Null Count   Dtype  \n",
      "---  ------                               --------------   -----  \n",
      " 0   id                                   103904 non-null  int64  \n",
      " 1   gender                               103904 non-null  int8   \n",
      " 2   customer_type                        103904 non-null  int8   \n",
      " 3   age                                  103904 non-null  int64  \n",
      " 4   travel_type                          103904 non-null  int8   \n",
      " 5   class                                103904 non-null  int8   \n",
      " 6   flight_distance                      103904 non-null  int64  \n",
      " 7   inflight_wifi                        103904 non-null  int64  \n",
      " 8   departure_n_arrival_time_convenient  103904 non-null  int64  \n",
      " 9   easy_onlinebooking                   103904 non-null  int64  \n",
      " 10  gate_location                        103904 non-null  int64  \n",
      " 11  food_n_drink                         103904 non-null  int64  \n",
      " 12  online_boarding                      103904 non-null  int64  \n",
      " 13  seat_comfort                         103904 non-null  int64  \n",
      " 14  inflight_entertainment               103904 non-null  int64  \n",
      " 15  onboard_service                      103904 non-null  int64  \n",
      " 16  leg_room_service                     103904 non-null  int64  \n",
      " 17  baggage_handling                     103904 non-null  int64  \n",
      " 18  checkin_service                      103904 non-null  int64  \n",
      " 19  inflight_service                     103904 non-null  int64  \n",
      " 20  cleanliness                          103904 non-null  int64  \n",
      " 21  departure_delay_min                  103904 non-null  int64  \n",
      " 22  arrival_delay_minutes                103594 non-null  float64\n",
      " 23  satisfaction                         103904 non-null  int8   \n",
      "dtypes: float64(1), int64(18), int8(5)\n",
      "memory usage: 15.6 MB\n"
     ]
    }
   ],
   "source": [
    "train_df.info()"
   ]
  },
  {
   "cell_type": "code",
   "execution_count": 32,
   "metadata": {
    "execution": {
     "iopub.execute_input": "2021-03-19T07:13:49.136979Z",
     "iopub.status.busy": "2021-03-19T07:13:49.135968Z",
     "iopub.status.idle": "2021-03-19T07:13:49.150722Z",
     "shell.execute_reply": "2021-03-19T07:13:49.149862Z"
    },
    "papermill": {
     "duration": 0.06343,
     "end_time": "2021-03-19T07:13:49.150925",
     "exception": false,
     "start_time": "2021-03-19T07:13:49.087495",
     "status": "completed"
    },
    "tags": []
   },
   "outputs": [
    {
     "name": "stdout",
     "output_type": "stream",
     "text": [
      "<class 'pandas.core.frame.DataFrame'>\n",
      "RangeIndex: 25976 entries, 0 to 25975\n",
      "Data columns (total 24 columns):\n",
      " #   Column                               Non-Null Count  Dtype  \n",
      "---  ------                               --------------  -----  \n",
      " 0   id                                   25976 non-null  int64  \n",
      " 1   gender                               25976 non-null  int8   \n",
      " 2   customer_type                        25976 non-null  int8   \n",
      " 3   age                                  25976 non-null  int64  \n",
      " 4   travel_type                          25976 non-null  int8   \n",
      " 5   class                                25976 non-null  int8   \n",
      " 6   flight_distance                      25976 non-null  int64  \n",
      " 7   inflight_wifi                        25976 non-null  int64  \n",
      " 8   departure_n_arrival_time_convenient  25976 non-null  int64  \n",
      " 9   easy_onlinebooking                   25976 non-null  int64  \n",
      " 10  gate_location                        25976 non-null  int64  \n",
      " 11  food_n_drink                         25976 non-null  int64  \n",
      " 12  online_boarding                      25976 non-null  int64  \n",
      " 13  seat_comfort                         25976 non-null  int64  \n",
      " 14  inflight_entertainment               25976 non-null  int64  \n",
      " 15  onboard_service                      25976 non-null  int64  \n",
      " 16  leg_room_service                     25976 non-null  int64  \n",
      " 17  baggage_handling                     25976 non-null  int64  \n",
      " 18  checkin_service                      25976 non-null  int64  \n",
      " 19  inflight_service                     25976 non-null  int64  \n",
      " 20  cleanliness                          25976 non-null  int64  \n",
      " 21  departure_delay_min                  25976 non-null  int64  \n",
      " 22  arrival_delay_minutes                25893 non-null  float64\n",
      " 23  satisfaction                         25976 non-null  int8   \n",
      "dtypes: float64(1), int64(18), int8(5)\n",
      "memory usage: 3.9 MB\n"
     ]
    }
   ],
   "source": [
    "test_df.info()"
   ]
  },
  {
   "cell_type": "code",
   "execution_count": 33,
   "metadata": {
    "execution": {
     "iopub.execute_input": "2021-03-19T07:13:49.252854Z",
     "iopub.status.busy": "2021-03-19T07:13:49.252213Z",
     "iopub.status.idle": "2021-03-19T07:13:49.392008Z",
     "shell.execute_reply": "2021-03-19T07:13:49.392492Z"
    },
    "papermill": {
     "duration": 0.19715,
     "end_time": "2021-03-19T07:13:49.392671",
     "exception": false,
     "start_time": "2021-03-19T07:13:49.195521",
     "status": "completed"
    },
    "tags": []
   },
   "outputs": [
    {
     "data": {
      "text/html": [
       "<div>\n",
       "<style scoped>\n",
       "    .dataframe tbody tr th:only-of-type {\n",
       "        vertical-align: middle;\n",
       "    }\n",
       "\n",
       "    .dataframe tbody tr th {\n",
       "        vertical-align: top;\n",
       "    }\n",
       "\n",
       "    .dataframe thead th {\n",
       "        text-align: right;\n",
       "    }\n",
       "</style>\n",
       "<table border=\"1\" class=\"dataframe\">\n",
       "  <thead>\n",
       "    <tr style=\"text-align: right;\">\n",
       "      <th></th>\n",
       "      <th>id</th>\n",
       "      <th>gender</th>\n",
       "      <th>customer_type</th>\n",
       "      <th>age</th>\n",
       "      <th>travel_type</th>\n",
       "      <th>class</th>\n",
       "      <th>flight_distance</th>\n",
       "      <th>inflight_wifi</th>\n",
       "      <th>departure_n_arrival_time_convenient</th>\n",
       "      <th>easy_onlinebooking</th>\n",
       "      <th>gate_location</th>\n",
       "      <th>food_n_drink</th>\n",
       "      <th>online_boarding</th>\n",
       "      <th>seat_comfort</th>\n",
       "      <th>inflight_entertainment</th>\n",
       "      <th>onboard_service</th>\n",
       "      <th>leg_room_service</th>\n",
       "      <th>baggage_handling</th>\n",
       "      <th>checkin_service</th>\n",
       "      <th>inflight_service</th>\n",
       "      <th>cleanliness</th>\n",
       "      <th>departure_delay_min</th>\n",
       "      <th>arrival_delay_minutes</th>\n",
       "      <th>satisfaction</th>\n",
       "    </tr>\n",
       "  </thead>\n",
       "  <tbody>\n",
       "    <tr>\n",
       "      <th>count</th>\n",
       "      <td>103904.000000</td>\n",
       "      <td>103904.000000</td>\n",
       "      <td>103904.000000</td>\n",
       "      <td>103904.000000</td>\n",
       "      <td>103904.000000</td>\n",
       "      <td>103904.000000</td>\n",
       "      <td>103904.000000</td>\n",
       "      <td>103904.000000</td>\n",
       "      <td>103904.000000</td>\n",
       "      <td>103904.000000</td>\n",
       "      <td>103904.000000</td>\n",
       "      <td>103904.000000</td>\n",
       "      <td>103904.000000</td>\n",
       "      <td>103904.000000</td>\n",
       "      <td>103904.000000</td>\n",
       "      <td>103904.000000</td>\n",
       "      <td>103904.000000</td>\n",
       "      <td>103904.000000</td>\n",
       "      <td>103904.000000</td>\n",
       "      <td>103904.000000</td>\n",
       "      <td>103904.000000</td>\n",
       "      <td>103904.000000</td>\n",
       "      <td>103594.000000</td>\n",
       "      <td>103904.000000</td>\n",
       "    </tr>\n",
       "    <tr>\n",
       "      <th>mean</th>\n",
       "      <td>64924.210502</td>\n",
       "      <td>0.492541</td>\n",
       "      <td>0.182678</td>\n",
       "      <td>39.379706</td>\n",
       "      <td>0.310373</td>\n",
       "      <td>0.594135</td>\n",
       "      <td>1189.448375</td>\n",
       "      <td>2.729683</td>\n",
       "      <td>3.060296</td>\n",
       "      <td>2.756901</td>\n",
       "      <td>2.976883</td>\n",
       "      <td>3.202129</td>\n",
       "      <td>3.250375</td>\n",
       "      <td>3.439396</td>\n",
       "      <td>3.358158</td>\n",
       "      <td>3.382363</td>\n",
       "      <td>3.351055</td>\n",
       "      <td>3.631833</td>\n",
       "      <td>3.304290</td>\n",
       "      <td>3.640428</td>\n",
       "      <td>3.286351</td>\n",
       "      <td>14.815618</td>\n",
       "      <td>15.178678</td>\n",
       "      <td>0.433333</td>\n",
       "    </tr>\n",
       "    <tr>\n",
       "      <th>std</th>\n",
       "      <td>37463.812252</td>\n",
       "      <td>0.499947</td>\n",
       "      <td>0.386404</td>\n",
       "      <td>15.114964</td>\n",
       "      <td>0.462649</td>\n",
       "      <td>0.620799</td>\n",
       "      <td>997.147281</td>\n",
       "      <td>1.327829</td>\n",
       "      <td>1.525075</td>\n",
       "      <td>1.398929</td>\n",
       "      <td>1.277621</td>\n",
       "      <td>1.329533</td>\n",
       "      <td>1.349509</td>\n",
       "      <td>1.319088</td>\n",
       "      <td>1.332991</td>\n",
       "      <td>1.288354</td>\n",
       "      <td>1.315605</td>\n",
       "      <td>1.180903</td>\n",
       "      <td>1.265396</td>\n",
       "      <td>1.175663</td>\n",
       "      <td>1.312273</td>\n",
       "      <td>38.230901</td>\n",
       "      <td>38.698682</td>\n",
       "      <td>0.495538</td>\n",
       "    </tr>\n",
       "    <tr>\n",
       "      <th>min</th>\n",
       "      <td>1.000000</td>\n",
       "      <td>0.000000</td>\n",
       "      <td>0.000000</td>\n",
       "      <td>7.000000</td>\n",
       "      <td>0.000000</td>\n",
       "      <td>0.000000</td>\n",
       "      <td>31.000000</td>\n",
       "      <td>0.000000</td>\n",
       "      <td>0.000000</td>\n",
       "      <td>0.000000</td>\n",
       "      <td>0.000000</td>\n",
       "      <td>0.000000</td>\n",
       "      <td>0.000000</td>\n",
       "      <td>0.000000</td>\n",
       "      <td>0.000000</td>\n",
       "      <td>0.000000</td>\n",
       "      <td>0.000000</td>\n",
       "      <td>1.000000</td>\n",
       "      <td>0.000000</td>\n",
       "      <td>0.000000</td>\n",
       "      <td>0.000000</td>\n",
       "      <td>0.000000</td>\n",
       "      <td>0.000000</td>\n",
       "      <td>0.000000</td>\n",
       "    </tr>\n",
       "    <tr>\n",
       "      <th>25%</th>\n",
       "      <td>32533.750000</td>\n",
       "      <td>0.000000</td>\n",
       "      <td>0.000000</td>\n",
       "      <td>27.000000</td>\n",
       "      <td>0.000000</td>\n",
       "      <td>0.000000</td>\n",
       "      <td>414.000000</td>\n",
       "      <td>2.000000</td>\n",
       "      <td>2.000000</td>\n",
       "      <td>2.000000</td>\n",
       "      <td>2.000000</td>\n",
       "      <td>2.000000</td>\n",
       "      <td>2.000000</td>\n",
       "      <td>2.000000</td>\n",
       "      <td>2.000000</td>\n",
       "      <td>2.000000</td>\n",
       "      <td>2.000000</td>\n",
       "      <td>3.000000</td>\n",
       "      <td>3.000000</td>\n",
       "      <td>3.000000</td>\n",
       "      <td>2.000000</td>\n",
       "      <td>0.000000</td>\n",
       "      <td>0.000000</td>\n",
       "      <td>0.000000</td>\n",
       "    </tr>\n",
       "    <tr>\n",
       "      <th>50%</th>\n",
       "      <td>64856.500000</td>\n",
       "      <td>0.000000</td>\n",
       "      <td>0.000000</td>\n",
       "      <td>40.000000</td>\n",
       "      <td>0.000000</td>\n",
       "      <td>1.000000</td>\n",
       "      <td>843.000000</td>\n",
       "      <td>3.000000</td>\n",
       "      <td>3.000000</td>\n",
       "      <td>3.000000</td>\n",
       "      <td>3.000000</td>\n",
       "      <td>3.000000</td>\n",
       "      <td>3.000000</td>\n",
       "      <td>4.000000</td>\n",
       "      <td>4.000000</td>\n",
       "      <td>4.000000</td>\n",
       "      <td>4.000000</td>\n",
       "      <td>4.000000</td>\n",
       "      <td>3.000000</td>\n",
       "      <td>4.000000</td>\n",
       "      <td>3.000000</td>\n",
       "      <td>0.000000</td>\n",
       "      <td>0.000000</td>\n",
       "      <td>0.000000</td>\n",
       "    </tr>\n",
       "    <tr>\n",
       "      <th>75%</th>\n",
       "      <td>97368.250000</td>\n",
       "      <td>1.000000</td>\n",
       "      <td>0.000000</td>\n",
       "      <td>51.000000</td>\n",
       "      <td>1.000000</td>\n",
       "      <td>1.000000</td>\n",
       "      <td>1743.000000</td>\n",
       "      <td>4.000000</td>\n",
       "      <td>4.000000</td>\n",
       "      <td>4.000000</td>\n",
       "      <td>4.000000</td>\n",
       "      <td>4.000000</td>\n",
       "      <td>4.000000</td>\n",
       "      <td>5.000000</td>\n",
       "      <td>4.000000</td>\n",
       "      <td>4.000000</td>\n",
       "      <td>4.000000</td>\n",
       "      <td>5.000000</td>\n",
       "      <td>4.000000</td>\n",
       "      <td>5.000000</td>\n",
       "      <td>4.000000</td>\n",
       "      <td>12.000000</td>\n",
       "      <td>13.000000</td>\n",
       "      <td>1.000000</td>\n",
       "    </tr>\n",
       "    <tr>\n",
       "      <th>max</th>\n",
       "      <td>129880.000000</td>\n",
       "      <td>1.000000</td>\n",
       "      <td>1.000000</td>\n",
       "      <td>85.000000</td>\n",
       "      <td>1.000000</td>\n",
       "      <td>2.000000</td>\n",
       "      <td>4983.000000</td>\n",
       "      <td>5.000000</td>\n",
       "      <td>5.000000</td>\n",
       "      <td>5.000000</td>\n",
       "      <td>5.000000</td>\n",
       "      <td>5.000000</td>\n",
       "      <td>5.000000</td>\n",
       "      <td>5.000000</td>\n",
       "      <td>5.000000</td>\n",
       "      <td>5.000000</td>\n",
       "      <td>5.000000</td>\n",
       "      <td>5.000000</td>\n",
       "      <td>5.000000</td>\n",
       "      <td>5.000000</td>\n",
       "      <td>5.000000</td>\n",
       "      <td>1592.000000</td>\n",
       "      <td>1584.000000</td>\n",
       "      <td>1.000000</td>\n",
       "    </tr>\n",
       "  </tbody>\n",
       "</table>\n",
       "</div>"
      ],
      "text/plain": [
       "                  id         gender  customer_type            age  \\\n",
       "count  103904.000000  103904.000000  103904.000000  103904.000000   \n",
       "mean    64924.210502       0.492541       0.182678      39.379706   \n",
       "std     37463.812252       0.499947       0.386404      15.114964   \n",
       "min         1.000000       0.000000       0.000000       7.000000   \n",
       "25%     32533.750000       0.000000       0.000000      27.000000   \n",
       "50%     64856.500000       0.000000       0.000000      40.000000   \n",
       "75%     97368.250000       1.000000       0.000000      51.000000   \n",
       "max    129880.000000       1.000000       1.000000      85.000000   \n",
       "\n",
       "         travel_type          class  flight_distance  inflight_wifi  \\\n",
       "count  103904.000000  103904.000000    103904.000000  103904.000000   \n",
       "mean        0.310373       0.594135      1189.448375       2.729683   \n",
       "std         0.462649       0.620799       997.147281       1.327829   \n",
       "min         0.000000       0.000000        31.000000       0.000000   \n",
       "25%         0.000000       0.000000       414.000000       2.000000   \n",
       "50%         0.000000       1.000000       843.000000       3.000000   \n",
       "75%         1.000000       1.000000      1743.000000       4.000000   \n",
       "max         1.000000       2.000000      4983.000000       5.000000   \n",
       "\n",
       "       departure_n_arrival_time_convenient  easy_onlinebooking  gate_location  \\\n",
       "count                        103904.000000       103904.000000  103904.000000   \n",
       "mean                              3.060296            2.756901       2.976883   \n",
       "std                               1.525075            1.398929       1.277621   \n",
       "min                               0.000000            0.000000       0.000000   \n",
       "25%                               2.000000            2.000000       2.000000   \n",
       "50%                               3.000000            3.000000       3.000000   \n",
       "75%                               4.000000            4.000000       4.000000   \n",
       "max                               5.000000            5.000000       5.000000   \n",
       "\n",
       "        food_n_drink  online_boarding   seat_comfort  inflight_entertainment  \\\n",
       "count  103904.000000    103904.000000  103904.000000           103904.000000   \n",
       "mean        3.202129         3.250375       3.439396                3.358158   \n",
       "std         1.329533         1.349509       1.319088                1.332991   \n",
       "min         0.000000         0.000000       0.000000                0.000000   \n",
       "25%         2.000000         2.000000       2.000000                2.000000   \n",
       "50%         3.000000         3.000000       4.000000                4.000000   \n",
       "75%         4.000000         4.000000       5.000000                4.000000   \n",
       "max         5.000000         5.000000       5.000000                5.000000   \n",
       "\n",
       "       onboard_service  leg_room_service  baggage_handling  checkin_service  \\\n",
       "count    103904.000000     103904.000000     103904.000000    103904.000000   \n",
       "mean          3.382363          3.351055          3.631833         3.304290   \n",
       "std           1.288354          1.315605          1.180903         1.265396   \n",
       "min           0.000000          0.000000          1.000000         0.000000   \n",
       "25%           2.000000          2.000000          3.000000         3.000000   \n",
       "50%           4.000000          4.000000          4.000000         3.000000   \n",
       "75%           4.000000          4.000000          5.000000         4.000000   \n",
       "max           5.000000          5.000000          5.000000         5.000000   \n",
       "\n",
       "       inflight_service    cleanliness  departure_delay_min  \\\n",
       "count     103904.000000  103904.000000        103904.000000   \n",
       "mean           3.640428       3.286351            14.815618   \n",
       "std            1.175663       1.312273            38.230901   \n",
       "min            0.000000       0.000000             0.000000   \n",
       "25%            3.000000       2.000000             0.000000   \n",
       "50%            4.000000       3.000000             0.000000   \n",
       "75%            5.000000       4.000000            12.000000   \n",
       "max            5.000000       5.000000          1592.000000   \n",
       "\n",
       "       arrival_delay_minutes   satisfaction  \n",
       "count          103594.000000  103904.000000  \n",
       "mean               15.178678       0.433333  \n",
       "std                38.698682       0.495538  \n",
       "min                 0.000000       0.000000  \n",
       "25%                 0.000000       0.000000  \n",
       "50%                 0.000000       0.000000  \n",
       "75%                13.000000       1.000000  \n",
       "max              1584.000000       1.000000  "
      ]
     },
     "execution_count": 33,
     "metadata": {},
     "output_type": "execute_result"
    }
   ],
   "source": [
    "# basic statistical details\n",
    "train_df.describe()"
   ]
  },
  {
   "cell_type": "code",
   "execution_count": 34,
   "metadata": {
    "execution": {
     "iopub.execute_input": "2021-03-19T07:13:49.494207Z",
     "iopub.status.busy": "2021-03-19T07:13:49.493553Z",
     "iopub.status.idle": "2021-03-19T07:13:49.495947Z",
     "shell.execute_reply": "2021-03-19T07:13:49.496452Z"
    },
    "papermill": {
     "duration": 0.05959,
     "end_time": "2021-03-19T07:13:49.496623",
     "exception": false,
     "start_time": "2021-03-19T07:13:49.437033",
     "status": "completed"
    },
    "tags": []
   },
   "outputs": [],
   "source": [
    "# dropping the id column as it is not an important independent variable \n",
    "# for training the model and getting the prediction\n",
    "train_df.drop(['id'], axis = 1, inplace = True)\n",
    "test_df.drop(['id'], axis = 1, inplace = True)"
   ]
  },
  {
   "cell_type": "code",
   "execution_count": 35,
   "metadata": {
    "execution": {
     "iopub.execute_input": "2021-03-19T07:13:49.589019Z",
     "iopub.status.busy": "2021-03-19T07:13:49.588422Z",
     "iopub.status.idle": "2021-03-19T07:13:49.831472Z",
     "shell.execute_reply": "2021-03-19T07:13:49.829969Z"
    },
    "papermill": {
     "duration": 0.290366,
     "end_time": "2021-03-19T07:13:49.831633",
     "exception": false,
     "start_time": "2021-03-19T07:13:49.541267",
     "status": "completed"
    },
    "tags": []
   },
   "outputs": [],
   "source": [
    "# normalizing the data with MinMaxScalar\n",
    "from sklearn.preprocessing import MinMaxScaler"
   ]
  },
  {
   "cell_type": "code",
   "execution_count": 36,
   "metadata": {
    "execution": {
     "iopub.execute_input": "2021-03-19T07:13:49.929652Z",
     "iopub.status.busy": "2021-03-19T07:13:49.928841Z",
     "iopub.status.idle": "2021-03-19T07:13:49.933113Z",
     "shell.execute_reply": "2021-03-19T07:13:49.932588Z"
    },
    "papermill": {
     "duration": 0.055686,
     "end_time": "2021-03-19T07:13:49.933263",
     "exception": false,
     "start_time": "2021-03-19T07:13:49.877577",
     "status": "completed"
    },
    "tags": []
   },
   "outputs": [
    {
     "data": {
      "text/plain": [
       "['gender',\n",
       " 'customer_type',\n",
       " 'age',\n",
       " 'travel_type',\n",
       " 'class',\n",
       " 'flight_distance',\n",
       " 'inflight_wifi',\n",
       " 'departure_n_arrival_time_convenient',\n",
       " 'easy_onlinebooking',\n",
       " 'gate_location',\n",
       " 'food_n_drink',\n",
       " 'online_boarding',\n",
       " 'seat_comfort',\n",
       " 'inflight_entertainment',\n",
       " 'onboard_service',\n",
       " 'leg_room_service',\n",
       " 'baggage_handling',\n",
       " 'checkin_service',\n",
       " 'inflight_service',\n",
       " 'cleanliness',\n",
       " 'departure_delay_min',\n",
       " 'arrival_delay_minutes']"
      ]
     },
     "execution_count": 36,
     "metadata": {},
     "output_type": "execute_result"
    }
   ],
   "source": [
    "# independent variables name\n",
    "input_colname = list(train_df.columns)\n",
    "input_colname.remove('satisfaction')\n",
    "input_colname"
   ]
  },
  {
   "cell_type": "code",
   "execution_count": 37,
   "metadata": {
    "execution": {
     "iopub.execute_input": "2021-03-19T07:13:50.029150Z",
     "iopub.status.busy": "2021-03-19T07:13:50.028213Z",
     "iopub.status.idle": "2021-03-19T07:13:50.110927Z",
     "shell.execute_reply": "2021-03-19T07:13:50.111412Z"
    },
    "papermill": {
     "duration": 0.132681,
     "end_time": "2021-03-19T07:13:50.111596",
     "exception": false,
     "start_time": "2021-03-19T07:13:49.978915",
     "status": "completed"
    },
    "tags": []
   },
   "outputs": [
    {
     "data": {
      "text/html": [
       "<div>\n",
       "<style scoped>\n",
       "    .dataframe tbody tr th:only-of-type {\n",
       "        vertical-align: middle;\n",
       "    }\n",
       "\n",
       "    .dataframe tbody tr th {\n",
       "        vertical-align: top;\n",
       "    }\n",
       "\n",
       "    .dataframe thead th {\n",
       "        text-align: right;\n",
       "    }\n",
       "</style>\n",
       "<table border=\"1\" class=\"dataframe\">\n",
       "  <thead>\n",
       "    <tr style=\"text-align: right;\">\n",
       "      <th></th>\n",
       "      <th>gender</th>\n",
       "      <th>customer_type</th>\n",
       "      <th>age</th>\n",
       "      <th>travel_type</th>\n",
       "      <th>class</th>\n",
       "      <th>flight_distance</th>\n",
       "      <th>inflight_wifi</th>\n",
       "      <th>departure_n_arrival_time_convenient</th>\n",
       "      <th>easy_onlinebooking</th>\n",
       "      <th>gate_location</th>\n",
       "      <th>food_n_drink</th>\n",
       "      <th>online_boarding</th>\n",
       "      <th>seat_comfort</th>\n",
       "      <th>inflight_entertainment</th>\n",
       "      <th>onboard_service</th>\n",
       "      <th>leg_room_service</th>\n",
       "      <th>baggage_handling</th>\n",
       "      <th>checkin_service</th>\n",
       "      <th>inflight_service</th>\n",
       "      <th>cleanliness</th>\n",
       "      <th>departure_delay_min</th>\n",
       "      <th>arrival_delay_minutes</th>\n",
       "      <th>satisfaction</th>\n",
       "    </tr>\n",
       "  </thead>\n",
       "  <tbody>\n",
       "    <tr>\n",
       "      <th>0</th>\n",
       "      <td>1.0</td>\n",
       "      <td>0.0</td>\n",
       "      <td>0.076923</td>\n",
       "      <td>1.0</td>\n",
       "      <td>1.0</td>\n",
       "      <td>0.086632</td>\n",
       "      <td>0.6</td>\n",
       "      <td>0.8</td>\n",
       "      <td>0.6</td>\n",
       "      <td>0.2</td>\n",
       "      <td>1.0</td>\n",
       "      <td>0.6</td>\n",
       "      <td>1.0</td>\n",
       "      <td>1.0</td>\n",
       "      <td>0.8</td>\n",
       "      <td>0.6</td>\n",
       "      <td>0.75</td>\n",
       "      <td>0.8</td>\n",
       "      <td>1.0</td>\n",
       "      <td>1.0</td>\n",
       "      <td>0.015704</td>\n",
       "      <td>0.011364</td>\n",
       "      <td>0</td>\n",
       "    </tr>\n",
       "    <tr>\n",
       "      <th>1</th>\n",
       "      <td>1.0</td>\n",
       "      <td>1.0</td>\n",
       "      <td>0.230769</td>\n",
       "      <td>0.0</td>\n",
       "      <td>0.0</td>\n",
       "      <td>0.041195</td>\n",
       "      <td>0.6</td>\n",
       "      <td>0.4</td>\n",
       "      <td>0.6</td>\n",
       "      <td>0.6</td>\n",
       "      <td>0.2</td>\n",
       "      <td>0.6</td>\n",
       "      <td>0.2</td>\n",
       "      <td>0.2</td>\n",
       "      <td>0.2</td>\n",
       "      <td>1.0</td>\n",
       "      <td>0.50</td>\n",
       "      <td>0.2</td>\n",
       "      <td>0.8</td>\n",
       "      <td>0.2</td>\n",
       "      <td>0.000628</td>\n",
       "      <td>0.003788</td>\n",
       "      <td>0</td>\n",
       "    </tr>\n",
       "    <tr>\n",
       "      <th>2</th>\n",
       "      <td>0.0</td>\n",
       "      <td>0.0</td>\n",
       "      <td>0.243590</td>\n",
       "      <td>0.0</td>\n",
       "      <td>0.0</td>\n",
       "      <td>0.224354</td>\n",
       "      <td>0.4</td>\n",
       "      <td>0.4</td>\n",
       "      <td>0.4</td>\n",
       "      <td>0.4</td>\n",
       "      <td>1.0</td>\n",
       "      <td>1.0</td>\n",
       "      <td>1.0</td>\n",
       "      <td>1.0</td>\n",
       "      <td>0.8</td>\n",
       "      <td>0.6</td>\n",
       "      <td>0.75</td>\n",
       "      <td>0.8</td>\n",
       "      <td>0.8</td>\n",
       "      <td>1.0</td>\n",
       "      <td>0.000000</td>\n",
       "      <td>0.000000</td>\n",
       "      <td>1</td>\n",
       "    </tr>\n",
       "    <tr>\n",
       "      <th>3</th>\n",
       "      <td>0.0</td>\n",
       "      <td>0.0</td>\n",
       "      <td>0.230769</td>\n",
       "      <td>0.0</td>\n",
       "      <td>0.0</td>\n",
       "      <td>0.107229</td>\n",
       "      <td>0.4</td>\n",
       "      <td>1.0</td>\n",
       "      <td>1.0</td>\n",
       "      <td>1.0</td>\n",
       "      <td>0.4</td>\n",
       "      <td>0.4</td>\n",
       "      <td>0.4</td>\n",
       "      <td>0.4</td>\n",
       "      <td>0.4</td>\n",
       "      <td>1.0</td>\n",
       "      <td>0.50</td>\n",
       "      <td>0.2</td>\n",
       "      <td>0.8</td>\n",
       "      <td>0.4</td>\n",
       "      <td>0.006910</td>\n",
       "      <td>0.005682</td>\n",
       "      <td>0</td>\n",
       "    </tr>\n",
       "    <tr>\n",
       "      <th>4</th>\n",
       "      <td>1.0</td>\n",
       "      <td>0.0</td>\n",
       "      <td>0.692308</td>\n",
       "      <td>0.0</td>\n",
       "      <td>0.0</td>\n",
       "      <td>0.036955</td>\n",
       "      <td>0.6</td>\n",
       "      <td>0.6</td>\n",
       "      <td>0.6</td>\n",
       "      <td>0.6</td>\n",
       "      <td>0.8</td>\n",
       "      <td>1.0</td>\n",
       "      <td>1.0</td>\n",
       "      <td>0.6</td>\n",
       "      <td>0.6</td>\n",
       "      <td>0.8</td>\n",
       "      <td>0.75</td>\n",
       "      <td>0.6</td>\n",
       "      <td>0.6</td>\n",
       "      <td>0.6</td>\n",
       "      <td>0.000000</td>\n",
       "      <td>0.000000</td>\n",
       "      <td>1</td>\n",
       "    </tr>\n",
       "  </tbody>\n",
       "</table>\n",
       "</div>"
      ],
      "text/plain": [
       "   gender  customer_type       age  travel_type  class  flight_distance  \\\n",
       "0     1.0            0.0  0.076923          1.0    1.0         0.086632   \n",
       "1     1.0            1.0  0.230769          0.0    0.0         0.041195   \n",
       "2     0.0            0.0  0.243590          0.0    0.0         0.224354   \n",
       "3     0.0            0.0  0.230769          0.0    0.0         0.107229   \n",
       "4     1.0            0.0  0.692308          0.0    0.0         0.036955   \n",
       "\n",
       "   inflight_wifi  departure_n_arrival_time_convenient  easy_onlinebooking  \\\n",
       "0            0.6                                  0.8                 0.6   \n",
       "1            0.6                                  0.4                 0.6   \n",
       "2            0.4                                  0.4                 0.4   \n",
       "3            0.4                                  1.0                 1.0   \n",
       "4            0.6                                  0.6                 0.6   \n",
       "\n",
       "   gate_location  food_n_drink  online_boarding  seat_comfort  \\\n",
       "0            0.2           1.0              0.6           1.0   \n",
       "1            0.6           0.2              0.6           0.2   \n",
       "2            0.4           1.0              1.0           1.0   \n",
       "3            1.0           0.4              0.4           0.4   \n",
       "4            0.6           0.8              1.0           1.0   \n",
       "\n",
       "   inflight_entertainment  onboard_service  leg_room_service  \\\n",
       "0                     1.0              0.8               0.6   \n",
       "1                     0.2              0.2               1.0   \n",
       "2                     1.0              0.8               0.6   \n",
       "3                     0.4              0.4               1.0   \n",
       "4                     0.6              0.6               0.8   \n",
       "\n",
       "   baggage_handling  checkin_service  inflight_service  cleanliness  \\\n",
       "0              0.75              0.8               1.0          1.0   \n",
       "1              0.50              0.2               0.8          0.2   \n",
       "2              0.75              0.8               0.8          1.0   \n",
       "3              0.50              0.2               0.8          0.4   \n",
       "4              0.75              0.6               0.6          0.6   \n",
       "\n",
       "   departure_delay_min  arrival_delay_minutes  satisfaction  \n",
       "0             0.015704               0.011364             0  \n",
       "1             0.000628               0.003788             0  \n",
       "2             0.000000               0.000000             1  \n",
       "3             0.006910               0.005682             0  \n",
       "4             0.000000               0.000000             1  "
      ]
     },
     "execution_count": 37,
     "metadata": {},
     "output_type": "execute_result"
    }
   ],
   "source": [
    "minmaxtrain_df = train_df.copy()\n",
    "minmaxtrain_df.drop(['satisfaction'], axis = 1, inplace = True)\n",
    "\n",
    "minmax_scaler = MinMaxScaler()\n",
    "minmaxtrain_df = minmax_scaler.fit_transform(minmaxtrain_df)\n",
    "minmaxtrain_df = pd.DataFrame(minmaxtrain_df, columns = input_colname)\n",
    "minmaxtrain_df['satisfaction'] = train_df['satisfaction']\n",
    "minmaxtrain_df.head()"
   ]
  },
  {
   "cell_type": "code",
   "execution_count": 38,
   "metadata": {
    "execution": {
     "iopub.execute_input": "2021-03-19T07:13:50.207609Z",
     "iopub.status.busy": "2021-03-19T07:13:50.206596Z",
     "iopub.status.idle": "2021-03-19T07:13:50.248275Z",
     "shell.execute_reply": "2021-03-19T07:13:50.248717Z"
    },
    "papermill": {
     "duration": 0.091315,
     "end_time": "2021-03-19T07:13:50.248890",
     "exception": false,
     "start_time": "2021-03-19T07:13:50.157575",
     "status": "completed"
    },
    "tags": []
   },
   "outputs": [
    {
     "data": {
      "text/html": [
       "<div>\n",
       "<style scoped>\n",
       "    .dataframe tbody tr th:only-of-type {\n",
       "        vertical-align: middle;\n",
       "    }\n",
       "\n",
       "    .dataframe tbody tr th {\n",
       "        vertical-align: top;\n",
       "    }\n",
       "\n",
       "    .dataframe thead th {\n",
       "        text-align: right;\n",
       "    }\n",
       "</style>\n",
       "<table border=\"1\" class=\"dataframe\">\n",
       "  <thead>\n",
       "    <tr style=\"text-align: right;\">\n",
       "      <th></th>\n",
       "      <th>gender</th>\n",
       "      <th>customer_type</th>\n",
       "      <th>age</th>\n",
       "      <th>travel_type</th>\n",
       "      <th>class</th>\n",
       "      <th>flight_distance</th>\n",
       "      <th>inflight_wifi</th>\n",
       "      <th>departure_n_arrival_time_convenient</th>\n",
       "      <th>easy_onlinebooking</th>\n",
       "      <th>gate_location</th>\n",
       "      <th>food_n_drink</th>\n",
       "      <th>online_boarding</th>\n",
       "      <th>seat_comfort</th>\n",
       "      <th>inflight_entertainment</th>\n",
       "      <th>onboard_service</th>\n",
       "      <th>leg_room_service</th>\n",
       "      <th>baggage_handling</th>\n",
       "      <th>checkin_service</th>\n",
       "      <th>inflight_service</th>\n",
       "      <th>cleanliness</th>\n",
       "      <th>departure_delay_min</th>\n",
       "      <th>arrival_delay_minutes</th>\n",
       "      <th>satisfaction</th>\n",
       "    </tr>\n",
       "  </thead>\n",
       "  <tbody>\n",
       "    <tr>\n",
       "      <th>0</th>\n",
       "      <td>0.0</td>\n",
       "      <td>0.0</td>\n",
       "      <td>0.576923</td>\n",
       "      <td>0.0</td>\n",
       "      <td>0.5</td>\n",
       "      <td>0.026050</td>\n",
       "      <td>1.0</td>\n",
       "      <td>0.8</td>\n",
       "      <td>0.6</td>\n",
       "      <td>0.8</td>\n",
       "      <td>0.6</td>\n",
       "      <td>0.8</td>\n",
       "      <td>0.6</td>\n",
       "      <td>1.0</td>\n",
       "      <td>1.0</td>\n",
       "      <td>1.0</td>\n",
       "      <td>1.00</td>\n",
       "      <td>0.4</td>\n",
       "      <td>1.0</td>\n",
       "      <td>1.0</td>\n",
       "      <td>0.031407</td>\n",
       "      <td>0.027778</td>\n",
       "      <td>1</td>\n",
       "    </tr>\n",
       "    <tr>\n",
       "      <th>1</th>\n",
       "      <td>0.0</td>\n",
       "      <td>0.0</td>\n",
       "      <td>0.371795</td>\n",
       "      <td>0.0</td>\n",
       "      <td>0.0</td>\n",
       "      <td>0.571890</td>\n",
       "      <td>0.2</td>\n",
       "      <td>0.2</td>\n",
       "      <td>0.6</td>\n",
       "      <td>0.2</td>\n",
       "      <td>1.0</td>\n",
       "      <td>0.8</td>\n",
       "      <td>1.0</td>\n",
       "      <td>0.8</td>\n",
       "      <td>0.8</td>\n",
       "      <td>0.8</td>\n",
       "      <td>0.75</td>\n",
       "      <td>0.6</td>\n",
       "      <td>0.8</td>\n",
       "      <td>1.0</td>\n",
       "      <td>0.000000</td>\n",
       "      <td>0.000000</td>\n",
       "      <td>1</td>\n",
       "    </tr>\n",
       "    <tr>\n",
       "      <th>2</th>\n",
       "      <td>1.0</td>\n",
       "      <td>1.0</td>\n",
       "      <td>0.166667</td>\n",
       "      <td>0.0</td>\n",
       "      <td>0.5</td>\n",
       "      <td>0.032512</td>\n",
       "      <td>0.4</td>\n",
       "      <td>0.0</td>\n",
       "      <td>0.4</td>\n",
       "      <td>0.8</td>\n",
       "      <td>0.4</td>\n",
       "      <td>0.4</td>\n",
       "      <td>0.4</td>\n",
       "      <td>0.4</td>\n",
       "      <td>0.8</td>\n",
       "      <td>0.2</td>\n",
       "      <td>0.50</td>\n",
       "      <td>0.4</td>\n",
       "      <td>0.4</td>\n",
       "      <td>0.4</td>\n",
       "      <td>0.000000</td>\n",
       "      <td>0.000000</td>\n",
       "      <td>0</td>\n",
       "    </tr>\n",
       "    <tr>\n",
       "      <th>3</th>\n",
       "      <td>1.0</td>\n",
       "      <td>0.0</td>\n",
       "      <td>0.474359</td>\n",
       "      <td>0.0</td>\n",
       "      <td>0.0</td>\n",
       "      <td>0.675687</td>\n",
       "      <td>0.0</td>\n",
       "      <td>0.0</td>\n",
       "      <td>0.0</td>\n",
       "      <td>0.4</td>\n",
       "      <td>0.6</td>\n",
       "      <td>0.8</td>\n",
       "      <td>0.8</td>\n",
       "      <td>0.2</td>\n",
       "      <td>0.2</td>\n",
       "      <td>0.2</td>\n",
       "      <td>0.00</td>\n",
       "      <td>0.6</td>\n",
       "      <td>0.2</td>\n",
       "      <td>0.8</td>\n",
       "      <td>0.000000</td>\n",
       "      <td>0.003788</td>\n",
       "      <td>1</td>\n",
       "    </tr>\n",
       "    <tr>\n",
       "      <th>4</th>\n",
       "      <td>0.0</td>\n",
       "      <td>0.0</td>\n",
       "      <td>0.538462</td>\n",
       "      <td>0.0</td>\n",
       "      <td>0.5</td>\n",
       "      <td>0.232431</td>\n",
       "      <td>0.4</td>\n",
       "      <td>0.6</td>\n",
       "      <td>0.8</td>\n",
       "      <td>0.6</td>\n",
       "      <td>0.8</td>\n",
       "      <td>0.2</td>\n",
       "      <td>0.4</td>\n",
       "      <td>0.4</td>\n",
       "      <td>0.4</td>\n",
       "      <td>0.4</td>\n",
       "      <td>0.25</td>\n",
       "      <td>0.8</td>\n",
       "      <td>0.4</td>\n",
       "      <td>0.8</td>\n",
       "      <td>0.000000</td>\n",
       "      <td>0.012626</td>\n",
       "      <td>1</td>\n",
       "    </tr>\n",
       "  </tbody>\n",
       "</table>\n",
       "</div>"
      ],
      "text/plain": [
       "   gender  customer_type       age  travel_type  class  flight_distance  \\\n",
       "0     0.0            0.0  0.576923          0.0    0.5         0.026050   \n",
       "1     0.0            0.0  0.371795          0.0    0.0         0.571890   \n",
       "2     1.0            1.0  0.166667          0.0    0.5         0.032512   \n",
       "3     1.0            0.0  0.474359          0.0    0.0         0.675687   \n",
       "4     0.0            0.0  0.538462          0.0    0.5         0.232431   \n",
       "\n",
       "   inflight_wifi  departure_n_arrival_time_convenient  easy_onlinebooking  \\\n",
       "0            1.0                                  0.8                 0.6   \n",
       "1            0.2                                  0.2                 0.6   \n",
       "2            0.4                                  0.0                 0.4   \n",
       "3            0.0                                  0.0                 0.0   \n",
       "4            0.4                                  0.6                 0.8   \n",
       "\n",
       "   gate_location  food_n_drink  online_boarding  seat_comfort  \\\n",
       "0            0.8           0.6              0.8           0.6   \n",
       "1            0.2           1.0              0.8           1.0   \n",
       "2            0.8           0.4              0.4           0.4   \n",
       "3            0.4           0.6              0.8           0.8   \n",
       "4            0.6           0.8              0.2           0.4   \n",
       "\n",
       "   inflight_entertainment  onboard_service  leg_room_service  \\\n",
       "0                     1.0              1.0               1.0   \n",
       "1                     0.8              0.8               0.8   \n",
       "2                     0.4              0.8               0.2   \n",
       "3                     0.2              0.2               0.2   \n",
       "4                     0.4              0.4               0.4   \n",
       "\n",
       "   baggage_handling  checkin_service  inflight_service  cleanliness  \\\n",
       "0              1.00              0.4               1.0          1.0   \n",
       "1              0.75              0.6               0.8          1.0   \n",
       "2              0.50              0.4               0.4          0.4   \n",
       "3              0.00              0.6               0.2          0.8   \n",
       "4              0.25              0.8               0.4          0.8   \n",
       "\n",
       "   departure_delay_min  arrival_delay_minutes  satisfaction  \n",
       "0             0.031407               0.027778             1  \n",
       "1             0.000000               0.000000             1  \n",
       "2             0.000000               0.000000             0  \n",
       "3             0.000000               0.003788             1  \n",
       "4             0.000000               0.012626             1  "
      ]
     },
     "execution_count": 38,
     "metadata": {},
     "output_type": "execute_result"
    }
   ],
   "source": [
    "minmaxtest_df = test_df.copy()\n",
    "minmaxtest_df.drop(['satisfaction'], axis = 1, inplace = True)\n",
    "minmaxtest_df = minmax_scaler.transform(minmaxtest_df)\n",
    "minmaxtest_df = pd.DataFrame(minmaxtest_df, columns = input_colname)\n",
    "minmaxtest_df['satisfaction'] = test_df['satisfaction']\n",
    "minmaxtest_df.head()"
   ]
  },
  {
   "cell_type": "code",
   "execution_count": 39,
   "metadata": {
    "execution": {
     "iopub.execute_input": "2021-03-19T07:13:50.346115Z",
     "iopub.status.busy": "2021-03-19T07:13:50.345167Z",
     "iopub.status.idle": "2021-03-19T07:13:54.214022Z",
     "shell.execute_reply": "2021-03-19T07:13:54.214534Z"
    },
    "papermill": {
     "duration": 3.919345,
     "end_time": "2021-03-19T07:13:54.214702",
     "exception": false,
     "start_time": "2021-03-19T07:13:50.295357",
     "status": "completed"
    },
    "tags": []
   },
   "outputs": [
    {
     "data": {
      "image/png": "[encoded data removed]",
      "text/plain": [
       "<Figure size 1800x1440 with 2 Axes>"
      ]
     },
     "metadata": {},
     "output_type": "display_data"
    }
   ],
   "source": [
    "#finding the correlation between all the variables in a dataset\n",
    "\n",
    "feature_corr = minmaxtrain_df.corr()\n",
    "plt.figure(figsize = (25, 20))\n",
    "sns.heatmap(feature_corr, annot = True, cmap = 'RdYlGn')\n",
    "plt.show()"
   ]
  },
  {
   "cell_type": "code",
   "execution_count": 40,
   "metadata": {
    "execution": {
     "iopub.execute_input": "2021-03-19T07:13:54.344586Z",
     "iopub.status.busy": "2021-03-19T07:13:54.343541Z",
     "iopub.status.idle": "2021-03-19T07:13:54.371903Z",
     "shell.execute_reply": "2021-03-19T07:13:54.372435Z"
    },
    "papermill": {
     "duration": 0.100354,
     "end_time": "2021-03-19T07:13:54.372626",
     "exception": false,
     "start_time": "2021-03-19T07:13:54.272272",
     "status": "completed"
    },
    "tags": []
   },
   "outputs": [
    {
     "data": {
      "text/html": [
       "<div>\n",
       "<style scoped>\n",
       "    .dataframe tbody tr th:only-of-type {\n",
       "        vertical-align: middle;\n",
       "    }\n",
       "\n",
       "    .dataframe tbody tr th {\n",
       "        vertical-align: top;\n",
       "    }\n",
       "\n",
       "    .dataframe thead th {\n",
       "        text-align: right;\n",
       "    }\n",
       "</style>\n",
       "<table border=\"1\" class=\"dataframe\">\n",
       "  <thead>\n",
       "    <tr style=\"text-align: right;\">\n",
       "      <th></th>\n",
       "      <th>gender</th>\n",
       "      <th>customer_type</th>\n",
       "      <th>age</th>\n",
       "      <th>travel_type</th>\n",
       "      <th>class</th>\n",
       "      <th>flight_distance</th>\n",
       "      <th>inflight_wifi</th>\n",
       "      <th>departure_n_arrival_time_convenient</th>\n",
       "      <th>easy_onlinebooking</th>\n",
       "      <th>gate_location</th>\n",
       "      <th>food_n_drink</th>\n",
       "      <th>online_boarding</th>\n",
       "      <th>seat_comfort</th>\n",
       "      <th>inflight_entertainment</th>\n",
       "      <th>onboard_service</th>\n",
       "      <th>leg_room_service</th>\n",
       "      <th>baggage_handling</th>\n",
       "      <th>checkin_service</th>\n",
       "      <th>inflight_service</th>\n",
       "      <th>cleanliness</th>\n",
       "      <th>departure_delay_min</th>\n",
       "      <th>arrival_delay_minutes</th>\n",
       "    </tr>\n",
       "    <tr>\n",
       "      <th>satisfaction</th>\n",
       "      <th></th>\n",
       "      <th></th>\n",
       "      <th></th>\n",
       "      <th></th>\n",
       "      <th></th>\n",
       "      <th></th>\n",
       "      <th></th>\n",
       "      <th></th>\n",
       "      <th></th>\n",
       "      <th></th>\n",
       "      <th></th>\n",
       "      <th></th>\n",
       "      <th></th>\n",
       "      <th></th>\n",
       "      <th></th>\n",
       "      <th></th>\n",
       "      <th></th>\n",
       "      <th></th>\n",
       "      <th></th>\n",
       "      <th></th>\n",
       "      <th></th>\n",
       "      <th></th>\n",
       "    </tr>\n",
       "  </thead>\n",
       "  <tbody>\n",
       "    <tr>\n",
       "      <th>0</th>\n",
       "      <td>0.487203</td>\n",
       "      <td>0.246081</td>\n",
       "      <td>0.391881</td>\n",
       "      <td>0.492026</td>\n",
       "      <td>0.419029</td>\n",
       "      <td>0.181325</td>\n",
       "      <td>0.479927</td>\n",
       "      <td>0.625822</td>\n",
       "      <td>0.509370</td>\n",
       "      <td>0.595224</td>\n",
       "      <td>0.591610</td>\n",
       "      <td>0.531225</td>\n",
       "      <td>0.607259</td>\n",
       "      <td>0.578831</td>\n",
       "      <td>0.603832</td>\n",
       "      <td>0.598162</td>\n",
       "      <td>0.593998</td>\n",
       "      <td>0.608590</td>\n",
       "      <td>0.677763</td>\n",
       "      <td>0.587225</td>\n",
       "      <td>0.010367</td>\n",
       "      <td>0.010813</td>\n",
       "    </tr>\n",
       "    <tr>\n",
       "      <th>1</th>\n",
       "      <td>0.499522</td>\n",
       "      <td>0.099767</td>\n",
       "      <td>0.445520</td>\n",
       "      <td>0.072826</td>\n",
       "      <td>0.137579</td>\n",
       "      <td>0.302734</td>\n",
       "      <td>0.632258</td>\n",
       "      <td>0.594061</td>\n",
       "      <td>0.606316</td>\n",
       "      <td>0.595576</td>\n",
       "      <td>0.704262</td>\n",
       "      <td>0.805495</td>\n",
       "      <td>0.793306</td>\n",
       "      <td>0.792986</td>\n",
       "      <td>0.771465</td>\n",
       "      <td>0.764429</td>\n",
       "      <td>0.741599</td>\n",
       "      <td>0.729208</td>\n",
       "      <td>0.793892</td>\n",
       "      <td>0.748868</td>\n",
       "      <td>0.007920</td>\n",
       "      <td>0.007974</td>\n",
       "    </tr>\n",
       "  </tbody>\n",
       "</table>\n",
       "</div>"
      ],
      "text/plain": [
       "                gender  customer_type       age  travel_type     class  \\\n",
       "satisfaction                                                             \n",
       "0             0.487203       0.246081  0.391881     0.492026  0.419029   \n",
       "1             0.499522       0.099767  0.445520     0.072826  0.137579   \n",
       "\n",
       "              flight_distance  inflight_wifi  \\\n",
       "satisfaction                                   \n",
       "0                    0.181325       0.479927   \n",
       "1                    0.302734       0.632258   \n",
       "\n",
       "              departure_n_arrival_time_convenient  easy_onlinebooking  \\\n",
       "satisfaction                                                            \n",
       "0                                        0.625822            0.509370   \n",
       "1                                        0.594061            0.606316   \n",
       "\n",
       "              gate_location  food_n_drink  online_boarding  seat_comfort  \\\n",
       "satisfaction                                                               \n",
       "0                  0.595224      0.591610         0.531225      0.607259   \n",
       "1                  0.595576      0.704262         0.805495      0.793306   \n",
       "\n",
       "              inflight_entertainment  onboard_service  leg_room_service  \\\n",
       "satisfaction                                                              \n",
       "0                           0.578831         0.603832          0.598162   \n",
       "1                           0.792986         0.771465          0.764429   \n",
       "\n",
       "              baggage_handling  checkin_service  inflight_service  \\\n",
       "satisfaction                                                        \n",
       "0                     0.593998         0.608590          0.677763   \n",
       "1                     0.741599         0.729208          0.793892   \n",
       "\n",
       "              cleanliness  departure_delay_min  arrival_delay_minutes  \n",
       "satisfaction                                                           \n",
       "0                0.587225             0.010367               0.010813  \n",
       "1                0.748868             0.007920               0.007974  "
      ]
     },
     "execution_count": 40,
     "metadata": {},
     "output_type": "execute_result"
    }
   ],
   "source": [
    "#finding the mean relationship of independent variables with the dependent variable\n",
    "minmaxtrain_df.groupby('satisfaction').mean()"
   ]
  },
  {
   "cell_type": "code",
   "execution_count": 41,
   "metadata": {
    "execution": {
     "iopub.execute_input": "2021-03-19T07:13:54.501297Z",
     "iopub.status.busy": "2021-03-19T07:13:54.500333Z",
     "iopub.status.idle": "2021-03-19T07:13:54.503621Z",
     "shell.execute_reply": "2021-03-19T07:13:54.504165Z"
    },
    "papermill": {
     "duration": 0.072878,
     "end_time": "2021-03-19T07:13:54.504354",
     "exception": false,
     "start_time": "2021-03-19T07:13:54.431476",
     "status": "completed"
    },
    "tags": []
   },
   "outputs": [],
   "source": [
    "#initializing the X (independent variables) and y (dependent variable)\n",
    "\n",
    "X = minmaxtrain_df.drop(['satisfaction'], axis = 1)\n",
    "y = minmaxtrain_df['satisfaction']"
   ]
  },
  {
   "cell_type": "code",
   "execution_count": 42,
   "metadata": {
    "execution": {
     "iopub.execute_input": "2021-03-19T07:13:54.634464Z",
     "iopub.status.busy": "2021-03-19T07:13:54.633534Z",
     "iopub.status.idle": "2021-03-19T07:13:54.636868Z",
     "shell.execute_reply": "2021-03-19T07:13:54.636260Z"
    },
    "papermill": {
     "duration": 0.072079,
     "end_time": "2021-03-19T07:13:54.637002",
     "exception": false,
     "start_time": "2021-03-19T07:13:54.564923",
     "status": "completed"
    },
    "tags": []
   },
   "outputs": [],
   "source": [
    "X_test = minmaxtest_df.drop(['satisfaction'], axis = 1)\n",
    "y_test = minmaxtest_df['satisfaction']"
   ]
  },
  {
   "cell_type": "code",
   "execution_count": 43,
   "metadata": {
    "execution": {
     "iopub.execute_input": "2021-03-19T07:13:54.759231Z",
     "iopub.status.busy": "2021-03-19T07:13:54.758541Z",
     "iopub.status.idle": "2021-03-19T07:13:55.108132Z",
     "shell.execute_reply": "2021-03-19T07:13:55.107548Z"
    },
    "papermill": {
     "duration": 0.412783,
     "end_time": "2021-03-19T07:13:55.108368",
     "exception": false,
     "start_time": "2021-03-19T07:13:54.695585",
     "status": "completed"
    },
    "tags": []
   },
   "outputs": [],
   "source": [
    "# training XGBClassifier\n",
    "\n",
    "from xgboost import XGBClassifier\n",
    "from sklearn.model_selection import GridSearchCV\n",
    "from sklearn.metrics import confusion_matrix, accuracy_score, classification_report"
   ]
  },
  {
   "cell_type": "code",
   "execution_count": 44,
   "metadata": {
    "execution": {
     "iopub.execute_input": "2021-03-19T07:13:55.233455Z",
     "iopub.status.busy": "2021-03-19T07:13:55.232493Z",
     "iopub.status.idle": "2021-03-19T07:13:55.235873Z",
     "shell.execute_reply": "2021-03-19T07:13:55.235223Z"
    },
    "papermill": {
     "duration": 0.067176,
     "end_time": "2021-03-19T07:13:55.236007",
     "exception": false,
     "start_time": "2021-03-19T07:13:55.168831",
     "status": "completed"
    },
    "tags": []
   },
   "outputs": [],
   "source": [
    "xgbc_model = XGBClassifier(objective = 'binary:logistic', random_state = 42)"
   ]
  },
  {
   "cell_type": "code",
   "execution_count": 45,
   "metadata": {
    "execution": {
     "iopub.execute_input": "2021-03-19T07:13:55.359901Z",
     "iopub.status.busy": "2021-03-19T07:13:55.359274Z",
     "iopub.status.idle": "2021-03-19T07:13:55.362331Z",
     "shell.execute_reply": "2021-03-19T07:13:55.361769Z"
    },
    "papermill": {
     "duration": 0.06744,
     "end_time": "2021-03-19T07:13:55.362476",
     "exception": false,
     "start_time": "2021-03-19T07:13:55.295036",
     "status": "completed"
    },
    "tags": []
   },
   "outputs": [],
   "source": [
    "parameters = {\n",
    "    'max_depth' : [8],\n",
    "    'n_estimators' : [500],\n",
    "    'learning_rate': [0.01]\n",
    "}"
   ]
  },
  {
   "cell_type": "code",
   "execution_count": 46,
   "metadata": {
    "execution": {
     "iopub.execute_input": "2021-03-19T07:13:55.485042Z",
     "iopub.status.busy": "2021-03-19T07:13:55.484404Z",
     "iopub.status.idle": "2021-03-19T07:13:55.487158Z",
     "shell.execute_reply": "2021-03-19T07:13:55.486500Z"
    },
    "papermill": {
     "duration": 0.066456,
     "end_time": "2021-03-19T07:13:55.487296",
     "exception": false,
     "start_time": "2021-03-19T07:13:55.420840",
     "status": "completed"
    },
    "tags": []
   },
   "outputs": [],
   "source": [
    "gs = GridSearchCV(\n",
    "    estimator = xgbc_model,\n",
    "    param_grid = parameters,    \n",
    "    n_jobs = 10,\n",
    "    cv = 10,\n",
    "    verbose=True\n",
    ")"
   ]
  },
  {
   "cell_type": "code",
   "execution_count": 47,
   "metadata": {
    "execution": {
     "iopub.execute_input": "2021-03-19T07:13:55.610268Z",
     "iopub.status.busy": "2021-03-19T07:13:55.609569Z",
     "iopub.status.idle": "2021-03-19T07:48:14.682404Z",
     "shell.execute_reply": "2021-03-19T07:48:14.682903Z"
    },
    "papermill": {
     "duration": 2059.136929,
     "end_time": "2021-03-19T07:48:14.683097",
     "exception": false,
     "start_time": "2021-03-19T07:13:55.546168",
     "status": "completed"
    },
    "tags": []
   },
   "outputs": [
    {
     "name": "stdout",
     "output_type": "stream",
     "text": [
      "Fitting 10 folds for each of 1 candidates, totalling 10 fits\n",
      "[07:47:25] WARNING: ../src/learner.cc:1061: Starting in XGBoost 1.3.0, the default evaluation metric used with the objective 'binary:logistic' was changed from 'error' to 'logloss'. Explicitly set eval_metric if you'd like to restore the old behavior.\n"
     ]
    },
    {
     "data": {
      "text/plain": [
       "GridSearchCV(cv=10,\n",
       "             estimator=XGBClassifier(base_score=None, booster=None,\n",
       "                                     colsample_bylevel=None,\n",
       "                                     colsample_bynode=None,\n",
       "                                     colsample_bytree=None, gamma=None,\n",
       "                                     gpu_id=None, importance_type='gain',\n",
       "                                     interaction_constraints=None,\n",
       "                                     learning_rate=None, max_delta_step=None,\n",
       "                                     max_depth=None, min_child_weight=None,\n",
       "                                     missing=nan, monotone_constraints=None,\n",
       "                                     n_estimators=100, n_jobs=None,\n",
       "                                     num_parallel_tree=None, random_state=42,\n",
       "                                     reg_alpha=None, reg_lambda=None,\n",
       "                                     scale_pos_weight=None, subsample=None,\n",
       "                                     tree_method=None, validate_parameters=None,\n",
       "                                     verbosity=None),\n",
       "             n_jobs=10,\n",
       "             param_grid={'learning_rate': [0.01], 'max_depth': [8],\n",
       "                         'n_estimators': [500]},\n",
       "             verbose=True)"
      ]
     },
     "execution_count": 47,
     "metadata": {},
     "output_type": "execute_result"
    }
   ],
   "source": [
    "gs.fit(X,y)"
   ]
  },
  {
   "cell_type": "code",
   "execution_count": 48,
   "metadata": {
    "execution": {
     "iopub.execute_input": "2021-03-19T07:48:14.804841Z",
     "iopub.status.busy": "2021-03-19T07:48:14.804249Z",
     "iopub.status.idle": "2021-03-19T07:48:14.975671Z",
     "shell.execute_reply": "2021-03-19T07:48:14.976231Z"
    },
    "papermill": {
     "duration": 0.233924,
     "end_time": "2021-03-19T07:48:14.976419",
     "exception": false,
     "start_time": "2021-03-19T07:48:14.742495",
     "status": "completed"
    },
    "tags": []
   },
   "outputs": [],
   "source": [
    "pred = gs.predict(X_test)"
   ]
  },
  {
   "cell_type": "code",
   "execution_count": 49,
   "metadata": {
    "execution": {
     "iopub.execute_input": "2021-03-19T07:48:15.105646Z",
     "iopub.status.busy": "2021-03-19T07:48:15.104666Z",
     "iopub.status.idle": "2021-03-19T07:48:15.276649Z",
     "shell.execute_reply": "2021-03-19T07:48:15.277193Z"
    },
    "papermill": {
     "duration": 0.238999,
     "end_time": "2021-03-19T07:48:15.277407",
     "exception": false,
     "start_time": "2021-03-19T07:48:15.038408",
     "status": "completed"
    },
    "tags": []
   },
   "outputs": [
    {
     "data": {
      "text/plain": [
       "0.9607714813674161"
      ]
     },
     "execution_count": 49,
     "metadata": {},
     "output_type": "execute_result"
    }
   ],
   "source": [
    "# model score\n",
    "gs.score(X_test, y_test)"
   ]
  },
  {
   "cell_type": "code",
   "execution_count": 50,
   "metadata": {
    "execution": {
     "iopub.execute_input": "2021-03-19T07:48:15.404367Z",
     "iopub.status.busy": "2021-03-19T07:48:15.403642Z",
     "iopub.status.idle": "2021-03-19T07:48:15.445754Z",
     "shell.execute_reply": "2021-03-19T07:48:15.445108Z"
    },
    "papermill": {
     "duration": 0.107237,
     "end_time": "2021-03-19T07:48:15.445903",
     "exception": false,
     "start_time": "2021-03-19T07:48:15.338666",
     "status": "completed"
    },
    "tags": []
   },
   "outputs": [
    {
     "name": "stdout",
     "output_type": "stream",
     "text": [
      "True Positive 10729\n",
      "True Negative 14228\n",
      "False Positive 345\n",
      "False Negative 674\n"
     ]
    }
   ],
   "source": [
    "#getting confusion matrix values\n",
    "\n",
    "tn, fp, fn, tp = confusion_matrix(y_test, pred).ravel()\n",
    "\n",
    "print(\"True Positive\", tp)\n",
    "print(\"True Negative\", tn)\n",
    "print(\"False Positive\", fp)\n",
    "print(\"False Negative\", fn)"
   ]
  },
  {
   "cell_type": "code",
   "execution_count": 51,
   "metadata": {
    "execution": {
     "iopub.execute_input": "2021-03-19T07:48:15.573653Z",
     "iopub.status.busy": "2021-03-19T07:48:15.573000Z",
     "iopub.status.idle": "2021-03-19T07:48:15.580577Z",
     "shell.execute_reply": "2021-03-19T07:48:15.580069Z"
    },
    "papermill": {
     "duration": 0.073262,
     "end_time": "2021-03-19T07:48:15.580729",
     "exception": false,
     "start_time": "2021-03-19T07:48:15.507467",
     "status": "completed"
    },
    "tags": []
   },
   "outputs": [
    {
     "data": {
      "text/plain": [
       "0.9607714813674161"
      ]
     },
     "execution_count": 51,
     "metadata": {},
     "output_type": "execute_result"
    }
   ],
   "source": [
    "accuracy_score(y_test, pred)"
   ]
  },
  {
   "cell_type": "code",
   "execution_count": 52,
   "metadata": {
    "execution": {
     "iopub.execute_input": "2021-03-19T07:48:15.710010Z",
     "iopub.status.busy": "2021-03-19T07:48:15.709393Z",
     "iopub.status.idle": "2021-03-19T07:48:15.756358Z",
     "shell.execute_reply": "2021-03-19T07:48:15.755736Z"
    },
    "papermill": {
     "duration": 0.113064,
     "end_time": "2021-03-19T07:48:15.756513",
     "exception": false,
     "start_time": "2021-03-19T07:48:15.643449",
     "status": "completed"
    },
    "tags": []
   },
   "outputs": [
    {
     "name": "stdout",
     "output_type": "stream",
     "text": [
      "              precision    recall  f1-score   support\n",
      "\n",
      "           0       0.95      0.98      0.97     14573\n",
      "           1       0.97      0.94      0.95     11403\n",
      "\n",
      "    accuracy                           0.96     25976\n",
      "   macro avg       0.96      0.96      0.96     25976\n",
      "weighted avg       0.96      0.96      0.96     25976\n",
      "\n"
     ]
    }
   ],
   "source": [
    "print(classification_report(y_test, pred))"
   ]
  }
 ],
 "metadata": {
  "kernelspec": {
   "display_name": "Python 3",
   "language": "python",
   "name": "python3"
  },
  "language_info": {
   "codemirror_mode": {
    "name": "ipython",
    "version": 3
   },
   "file_extension": ".py",
   "mimetype": "text/x-python",
   "name": "python",
   "nbconvert_exporter": "python",
   "pygments_lexer": "ipython3",
   "version": "3.7.9"
  },
  "papermill": {
   "default_parameters": {},
   "duration": 2080.592937,
   "end_time": "2021-03-19T07:48:18.765630",
   "environment_variables": {},
   "exception": null,
   "input_path": "__notebook__.ipynb",
   "output_path": "__notebook__.ipynb",
   "parameters": {},
   "start_time": "2021-03-19T07:13:38.172693",
   "version": "2.2.2"
  }
 },
 "nbformat": 4,
 "nbformat_minor": 4
}
