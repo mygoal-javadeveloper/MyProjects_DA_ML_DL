{
  "nbformat": 4,
  "nbformat_minor": 0,
  "metadata": {
    "colab": {
      "name": "InterviewTask.ipynb",
      "provenance": [],
      "collapsed_sections": []
    },
    "kernelspec": {
      "name": "python3",
      "display_name": "Python 3"
    },
    "language_info": {
      "name": "python"
    }
  },
  "cells": [
    {
      "cell_type": "markdown",
      "metadata": {
        "id": "BRfdp9y1vzWN"
      },
      "source": [
        "# Name : Nisrin Dhoondia \n",
        "\n",
        "# Email: nisrin.dhoondia@gmail.com  \n",
        "\n"
      ]
    },
    {
      "cell_type": "markdown",
      "metadata": {
        "id": "wire0iUlGEvZ"
      },
      "source": [
        "# Importing the data  \n"
      ]
    },
    {
      "cell_type": "code",
      "metadata": {
        "id": "_sd6W8ADvyjY"
      },
      "source": [
        "# importing required libraries\n",
        "\n",
        "import numpy as np\n",
        "import pandas as pd\n",
        "import matplotlib.pyplot as plt\n",
        "import seaborn as sns\n",
        "\n",
        "%matplotlib inline\n",
        "\n",
        "import warnings\n",
        "warnings.filterwarnings('ignore')\n",
        "\n",
        "pd.options.display.max_rows = 999"
      ],
      "execution_count": 1,
      "outputs": []
    },
    {
      "cell_type": "code",
      "metadata": {
        "colab": {
          "resources": {
            "http://localhost:8080/nbextensions/google.colab/files.js": {
              "data": "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",
              "ok": true,
              "headers": [
                [
                  "content-type",
                  "application/javascript"
                ]
              ],
              "status": 200,
              "status_text": ""
            }
          },
          "base_uri": "https://localhost:8080/",
          "height": 72
        },
        "id": "6dbCQmgC8JQL",
        "outputId": "123dbd99-c42b-4792-fe6a-aa76096262cf"
      },
      "source": [
        "# uploading the data in google colab\n",
        "from google.colab import files\n",
        "uploaded = files.upload()"
      ],
      "execution_count": 2,
      "outputs": [
        {
          "output_type": "display_data",
          "data": {
            "text/html": [
              "\n",
              "     <input type=\"file\" id=\"files-4bd7db0a-ef6e-48dc-a4ce-4d471b7dd7f5\" name=\"files[]\" multiple disabled\n",
              "        style=\"border:none\" />\n",
              "     <output id=\"result-4bd7db0a-ef6e-48dc-a4ce-4d471b7dd7f5\">\n",
              "      Upload widget is only available when the cell has been executed in the\n",
              "      current browser session. Please rerun this cell to enable.\n",
              "      </output>\n",
              "      <script src=\"/nbextensions/google.colab/files.js\"></script> "
            ],
            "text/plain": [
              "<IPython.core.display.HTML object>"
            ]
          },
          "metadata": {
            "tags": []
          }
        },
        {
          "output_type": "stream",
          "text": [
            "Saving Sample Data.xlsx to Sample Data.xlsx\n"
          ],
          "name": "stdout"
        }
      ]
    },
    {
      "cell_type": "code",
      "metadata": {
        "id": "zrheb6pS55WI"
      },
      "source": [
        "# reading the data and assigning to a variable\n",
        "loanallotment_df = pd.read_excel('Sample Data.xlsx')"
      ],
      "execution_count": 3,
      "outputs": []
    },
    {
      "cell_type": "markdown",
      "metadata": {
        "id": "nxeHi1DYGx2N"
      },
      "source": [
        "# Understanding the data"
      ]
    },
    {
      "cell_type": "code",
      "metadata": {
        "colab": {
          "base_uri": "https://localhost:8080/"
        },
        "id": "NOfGf5D48ZIX",
        "outputId": "9b7dac0f-e900-431f-8b33-627705ddd0d9"
      },
      "source": [
        "# all the columns name of the dataset\n",
        "loanallotment_df.columns"
      ],
      "execution_count": 4,
      "outputs": [
        {
          "output_type": "execute_result",
          "data": {
            "text/plain": [
              "Index(['Period', 'AccountNumber', 'AccountType', 'BorrowerName',\n",
              "       'IndustryType', 'CounterpartyIndustryType', 'AnyLitigation',\n",
              "       'LastPaymentDate', 'LastPaymentStatus', 'LastPaymentAmountAvg',\n",
              "       'AccountBalanceAverage', 'CreditTransactionAmountAverage', 'NetRevenue',\n",
              "       'CurrentRatio', 'NoOfPastReturns', 'ReturnAmountAverage',\n",
              "       'TotalReceivableAmount', 'TotalPayableAmount', 'Default'],\n",
              "      dtype='object')"
            ]
          },
          "metadata": {
            "tags": []
          },
          "execution_count": 4
        }
      ]
    },
    {
      "cell_type": "code",
      "metadata": {
        "id": "W3wFmxk4GpaO"
      },
      "source": [
        "# renaming the columns\n",
        "loanallotment_df.rename(columns = {'Period' : 'period', 'AccountNumber' : 'account_number', 'AccountType' : 'account_type', 'BorrowerName' : 'borrower_name',\n",
        "                                   'IndustryType' : 'industry_type', 'CounterpartyIndustryType' :'counterparty_industrytype', \n",
        "                                   'AnyLitigation' : 'anylitigation', 'LastPaymentDate' : 'lastpayment_date', 'LastPaymentStatus' : 'lastpayment_status', \n",
        "                                   'LastPaymentAmountAvg' : 'lastpayment_amountavg', 'AccountBalanceAverage' : 'accountbalanceavg', \n",
        "                                   'CreditTransactionAmountAverage' : 'credittransaction_amountavg', 'NetRevenue' : 'netrevenue', \n",
        "                                   'CurrentRatio' : 'currentratio', 'NoOfPastReturns' : 'totalnum_pastreturns', 'ReturnAmountAverage' : 'returnamountavg',\n",
        "                                   'TotalReceivableAmount' : 'totalreceivableamount', 'TotalPayableAmount' : 'totalpayableamount', 'Default' : 'default'\n",
        "                                   }, inplace = True)"
      ],
      "execution_count": 5,
      "outputs": []
    },
    {
      "cell_type": "code",
      "metadata": {
        "colab": {
          "base_uri": "https://localhost:8080/"
        },
        "id": "3nk116G88g-S",
        "outputId": "40cd2902-8832-4842-ea1e-b07ff07616ec"
      },
      "source": [
        "# getting brief overview of the dataset - number of columns and rows (shape of dataset), \n",
        "# columns names and its dtype, \n",
        "# how many non-null values it has \n",
        "# and memory usage\n",
        "loanallotment_df.info()"
      ],
      "execution_count": 6,
      "outputs": [
        {
          "output_type": "stream",
          "text": [
            "<class 'pandas.core.frame.DataFrame'>\n",
            "RangeIndex: 19012 entries, 0 to 19011\n",
            "Data columns (total 19 columns):\n",
            " #   Column                       Non-Null Count  Dtype         \n",
            "---  ------                       --------------  -----         \n",
            " 0   period                       19012 non-null  object        \n",
            " 1   account_number               19012 non-null  int64         \n",
            " 2   account_type                 19012 non-null  object        \n",
            " 3   borrower_name                19012 non-null  object        \n",
            " 4   industry_type                19012 non-null  object        \n",
            " 5   counterparty_industrytype    19012 non-null  object        \n",
            " 6   anylitigation                19012 non-null  object        \n",
            " 7   lastpayment_date             19012 non-null  datetime64[ns]\n",
            " 8   lastpayment_status           19012 non-null  object        \n",
            " 9   lastpayment_amountavg        19012 non-null  int64         \n",
            " 10  accountbalanceavg            19012 non-null  int64         \n",
            " 11  credittransaction_amountavg  19012 non-null  int64         \n",
            " 12  netrevenue                   19012 non-null  int64         \n",
            " 13  currentratio                 19012 non-null  float64       \n",
            " 14  totalnum_pastreturns         19012 non-null  int64         \n",
            " 15  returnamountavg              19012 non-null  int64         \n",
            " 16  totalreceivableamount        19012 non-null  int64         \n",
            " 17  totalpayableamount           19012 non-null  int64         \n",
            " 18  default                      19012 non-null  object        \n",
            "dtypes: datetime64[ns](1), float64(1), int64(9), object(8)\n",
            "memory usage: 2.8+ MB\n"
          ],
          "name": "stdout"
        }
      ]
    },
    {
      "cell_type": "code",
      "metadata": {
        "colab": {
          "base_uri": "https://localhost:8080/"
        },
        "id": "spoydi459C97",
        "outputId": "229be021-256d-47f8-cf45-2dbae92e1e0f"
      },
      "source": [
        "# number of columns and rows of the dataset\n",
        "loanallotment_df.shape"
      ],
      "execution_count": 7,
      "outputs": [
        {
          "output_type": "execute_result",
          "data": {
            "text/plain": [
              "(19012, 19)"
            ]
          },
          "metadata": {
            "tags": []
          },
          "execution_count": 7
        }
      ]
    },
    {
      "cell_type": "code",
      "metadata": {
        "colab": {
          "base_uri": "https://localhost:8080/",
          "height": 309
        },
        "id": "P1jjIqVX8yOu",
        "outputId": "96927aef-e481-4be6-e5a4-575e29392349"
      },
      "source": [
        "# first 5 rows content of the dataset\n",
        "loanallotment_df.head()"
      ],
      "execution_count": 8,
      "outputs": [
        {
          "output_type": "execute_result",
          "data": {
            "text/html": [
              "<div>\n",
              "<style scoped>\n",
              "    .dataframe tbody tr th:only-of-type {\n",
              "        vertical-align: middle;\n",
              "    }\n",
              "\n",
              "    .dataframe tbody tr th {\n",
              "        vertical-align: top;\n",
              "    }\n",
              "\n",
              "    .dataframe thead th {\n",
              "        text-align: right;\n",
              "    }\n",
              "</style>\n",
              "<table border=\"1\" class=\"dataframe\">\n",
              "  <thead>\n",
              "    <tr style=\"text-align: right;\">\n",
              "      <th></th>\n",
              "      <th>period</th>\n",
              "      <th>account_number</th>\n",
              "      <th>account_type</th>\n",
              "      <th>borrower_name</th>\n",
              "      <th>industry_type</th>\n",
              "      <th>counterparty_industrytype</th>\n",
              "      <th>anylitigation</th>\n",
              "      <th>lastpayment_date</th>\n",
              "      <th>lastpayment_status</th>\n",
              "      <th>lastpayment_amountavg</th>\n",
              "      <th>accountbalanceavg</th>\n",
              "      <th>credittransaction_amountavg</th>\n",
              "      <th>netrevenue</th>\n",
              "      <th>currentratio</th>\n",
              "      <th>totalnum_pastreturns</th>\n",
              "      <th>returnamountavg</th>\n",
              "      <th>totalreceivableamount</th>\n",
              "      <th>totalpayableamount</th>\n",
              "      <th>default</th>\n",
              "    </tr>\n",
              "  </thead>\n",
              "  <tbody>\n",
              "    <tr>\n",
              "      <th>0</th>\n",
              "      <td>Dec-19</td>\n",
              "      <td>1000001631</td>\n",
              "      <td>Current Account</td>\n",
              "      <td>Borrower-1000001631</td>\n",
              "      <td>Construction Industry</td>\n",
              "      <td>Computer Industry</td>\n",
              "      <td>Yes</td>\n",
              "      <td>2019-11-10</td>\n",
              "      <td>Cleared</td>\n",
              "      <td>270000</td>\n",
              "      <td>13468000</td>\n",
              "      <td>14235000</td>\n",
              "      <td>22205000</td>\n",
              "      <td>1.32</td>\n",
              "      <td>3</td>\n",
              "      <td>86000</td>\n",
              "      <td>130822000</td>\n",
              "      <td>51591000</td>\n",
              "      <td>No</td>\n",
              "    </tr>\n",
              "    <tr>\n",
              "      <th>1</th>\n",
              "      <td>Dec-19</td>\n",
              "      <td>1000000227</td>\n",
              "      <td>Term Loan Account</td>\n",
              "      <td>Borrower-1000000227</td>\n",
              "      <td>Health care Industry</td>\n",
              "      <td>Telecommunication industry</td>\n",
              "      <td>No</td>\n",
              "      <td>2019-11-22</td>\n",
              "      <td>Bounced</td>\n",
              "      <td>117000</td>\n",
              "      <td>24995000</td>\n",
              "      <td>29032000</td>\n",
              "      <td>46708000</td>\n",
              "      <td>1.83</td>\n",
              "      <td>2</td>\n",
              "      <td>175000</td>\n",
              "      <td>152972000</td>\n",
              "      <td>38816000</td>\n",
              "      <td>Yes</td>\n",
              "    </tr>\n",
              "    <tr>\n",
              "      <th>2</th>\n",
              "      <td>Dec-19</td>\n",
              "      <td>1000000832</td>\n",
              "      <td>Current Account</td>\n",
              "      <td>Borrower-1000000832</td>\n",
              "      <td>Health care Industry</td>\n",
              "      <td>Health care Industry</td>\n",
              "      <td>No</td>\n",
              "      <td>2019-10-17</td>\n",
              "      <td>Bounced</td>\n",
              "      <td>141000</td>\n",
              "      <td>14089000</td>\n",
              "      <td>26401000</td>\n",
              "      <td>45725000</td>\n",
              "      <td>1.63</td>\n",
              "      <td>3</td>\n",
              "      <td>190000</td>\n",
              "      <td>68901000</td>\n",
              "      <td>142547000</td>\n",
              "      <td>Yes</td>\n",
              "    </tr>\n",
              "    <tr>\n",
              "      <th>3</th>\n",
              "      <td>Dec-19</td>\n",
              "      <td>1000000187</td>\n",
              "      <td>Term Loan Account</td>\n",
              "      <td>Borrower-1000000187</td>\n",
              "      <td>Food Industry</td>\n",
              "      <td>Pharmaceutical Industry</td>\n",
              "      <td>No</td>\n",
              "      <td>2019-11-10</td>\n",
              "      <td>Cleared</td>\n",
              "      <td>198000</td>\n",
              "      <td>25995000</td>\n",
              "      <td>39570000</td>\n",
              "      <td>11592000</td>\n",
              "      <td>1.73</td>\n",
              "      <td>0</td>\n",
              "      <td>0</td>\n",
              "      <td>103056000</td>\n",
              "      <td>153022000</td>\n",
              "      <td>No</td>\n",
              "    </tr>\n",
              "    <tr>\n",
              "      <th>4</th>\n",
              "      <td>Dec-19</td>\n",
              "      <td>1000001368</td>\n",
              "      <td>Term Loan Account</td>\n",
              "      <td>Borrower-1000001368</td>\n",
              "      <td>Transport Industry</td>\n",
              "      <td>Computer Industry</td>\n",
              "      <td>No</td>\n",
              "      <td>2019-12-27</td>\n",
              "      <td>Cleared</td>\n",
              "      <td>228000</td>\n",
              "      <td>21519000</td>\n",
              "      <td>24774000</td>\n",
              "      <td>38511000</td>\n",
              "      <td>1.43</td>\n",
              "      <td>1</td>\n",
              "      <td>92000</td>\n",
              "      <td>117120000</td>\n",
              "      <td>118425000</td>\n",
              "      <td>No</td>\n",
              "    </tr>\n",
              "  </tbody>\n",
              "</table>\n",
              "</div>"
            ],
            "text/plain": [
              "   period  account_number  ... totalpayableamount default\n",
              "0  Dec-19      1000001631  ...           51591000      No\n",
              "1  Dec-19      1000000227  ...           38816000     Yes\n",
              "2  Dec-19      1000000832  ...          142547000     Yes\n",
              "3  Dec-19      1000000187  ...          153022000      No\n",
              "4  Dec-19      1000001368  ...          118425000      No\n",
              "\n",
              "[5 rows x 19 columns]"
            ]
          },
          "metadata": {
            "tags": []
          },
          "execution_count": 8
        }
      ]
    },
    {
      "cell_type": "code",
      "metadata": {
        "colab": {
          "base_uri": "https://localhost:8080/",
          "height": 309
        },
        "id": "mUoV1c32KVYz",
        "outputId": "e9dc4f7c-2ae9-4c04-ea64-23fb7698a322"
      },
      "source": [
        "# last 5 rows content of the dataset\n",
        "loanallotment_df.tail()"
      ],
      "execution_count": 9,
      "outputs": [
        {
          "output_type": "execute_result",
          "data": {
            "text/html": [
              "<div>\n",
              "<style scoped>\n",
              "    .dataframe tbody tr th:only-of-type {\n",
              "        vertical-align: middle;\n",
              "    }\n",
              "\n",
              "    .dataframe tbody tr th {\n",
              "        vertical-align: top;\n",
              "    }\n",
              "\n",
              "    .dataframe thead th {\n",
              "        text-align: right;\n",
              "    }\n",
              "</style>\n",
              "<table border=\"1\" class=\"dataframe\">\n",
              "  <thead>\n",
              "    <tr style=\"text-align: right;\">\n",
              "      <th></th>\n",
              "      <th>period</th>\n",
              "      <th>account_number</th>\n",
              "      <th>account_type</th>\n",
              "      <th>borrower_name</th>\n",
              "      <th>industry_type</th>\n",
              "      <th>counterparty_industrytype</th>\n",
              "      <th>anylitigation</th>\n",
              "      <th>lastpayment_date</th>\n",
              "      <th>lastpayment_status</th>\n",
              "      <th>lastpayment_amountavg</th>\n",
              "      <th>accountbalanceavg</th>\n",
              "      <th>credittransaction_amountavg</th>\n",
              "      <th>netrevenue</th>\n",
              "      <th>currentratio</th>\n",
              "      <th>totalnum_pastreturns</th>\n",
              "      <th>returnamountavg</th>\n",
              "      <th>totalreceivableamount</th>\n",
              "      <th>totalpayableamount</th>\n",
              "      <th>default</th>\n",
              "    </tr>\n",
              "  </thead>\n",
              "  <tbody>\n",
              "    <tr>\n",
              "      <th>19007</th>\n",
              "      <td>Mar-16</td>\n",
              "      <td>1000001587</td>\n",
              "      <td>Term Loan Account</td>\n",
              "      <td>Borrower-1000001587</td>\n",
              "      <td>Education Industry</td>\n",
              "      <td>Health care Industry</td>\n",
              "      <td>Yes</td>\n",
              "      <td>2016-01-28</td>\n",
              "      <td>Bounced</td>\n",
              "      <td>287000</td>\n",
              "      <td>29680000</td>\n",
              "      <td>29804000</td>\n",
              "      <td>19995000</td>\n",
              "      <td>1.76</td>\n",
              "      <td>1</td>\n",
              "      <td>56000</td>\n",
              "      <td>38246000</td>\n",
              "      <td>148162000</td>\n",
              "      <td>Yes</td>\n",
              "    </tr>\n",
              "    <tr>\n",
              "      <th>19008</th>\n",
              "      <td>Mar-16</td>\n",
              "      <td>1000000460</td>\n",
              "      <td>Current Account</td>\n",
              "      <td>Borrower-1000000460</td>\n",
              "      <td>Pharmaceutical Industry</td>\n",
              "      <td>Telecommunication industry</td>\n",
              "      <td>Yes</td>\n",
              "      <td>2016-03-21</td>\n",
              "      <td>Bounced</td>\n",
              "      <td>278000</td>\n",
              "      <td>22602000</td>\n",
              "      <td>28825000</td>\n",
              "      <td>45315000</td>\n",
              "      <td>1.89</td>\n",
              "      <td>0</td>\n",
              "      <td>0</td>\n",
              "      <td>31198000</td>\n",
              "      <td>45073000</td>\n",
              "      <td>No</td>\n",
              "    </tr>\n",
              "    <tr>\n",
              "      <th>19009</th>\n",
              "      <td>Mar-16</td>\n",
              "      <td>1000000425</td>\n",
              "      <td>Current Account</td>\n",
              "      <td>Borrower-1000000425</td>\n",
              "      <td>Agriculture industry</td>\n",
              "      <td>Aerospace Industry</td>\n",
              "      <td>Yes</td>\n",
              "      <td>2016-03-19</td>\n",
              "      <td>Bounced</td>\n",
              "      <td>418000</td>\n",
              "      <td>8367000</td>\n",
              "      <td>14105000</td>\n",
              "      <td>30823000</td>\n",
              "      <td>1.96</td>\n",
              "      <td>1</td>\n",
              "      <td>60000</td>\n",
              "      <td>107826000</td>\n",
              "      <td>44251000</td>\n",
              "      <td>No</td>\n",
              "    </tr>\n",
              "    <tr>\n",
              "      <th>19010</th>\n",
              "      <td>Mar-16</td>\n",
              "      <td>1000001540</td>\n",
              "      <td>Term Loan Account</td>\n",
              "      <td>Borrower-1000001540</td>\n",
              "      <td>Education Industry</td>\n",
              "      <td>Agriculture industry</td>\n",
              "      <td>Yes</td>\n",
              "      <td>2016-01-03</td>\n",
              "      <td>Cleared</td>\n",
              "      <td>239000</td>\n",
              "      <td>11264000</td>\n",
              "      <td>12047000</td>\n",
              "      <td>41344000</td>\n",
              "      <td>1.52</td>\n",
              "      <td>1</td>\n",
              "      <td>180000</td>\n",
              "      <td>104231000</td>\n",
              "      <td>118651000</td>\n",
              "      <td>No</td>\n",
              "    </tr>\n",
              "    <tr>\n",
              "      <th>19011</th>\n",
              "      <td>Mar-16</td>\n",
              "      <td>1000000607</td>\n",
              "      <td>Current Account</td>\n",
              "      <td>Borrower-1000000607</td>\n",
              "      <td>Computer Industry</td>\n",
              "      <td>Health care Industry</td>\n",
              "      <td>Yes</td>\n",
              "      <td>2016-03-14</td>\n",
              "      <td>Bounced</td>\n",
              "      <td>468000</td>\n",
              "      <td>12973000</td>\n",
              "      <td>22842000</td>\n",
              "      <td>29100000</td>\n",
              "      <td>1.88</td>\n",
              "      <td>1</td>\n",
              "      <td>190000</td>\n",
              "      <td>92323000</td>\n",
              "      <td>59201000</td>\n",
              "      <td>No</td>\n",
              "    </tr>\n",
              "  </tbody>\n",
              "</table>\n",
              "</div>"
            ],
            "text/plain": [
              "       period  account_number  ... totalpayableamount default\n",
              "19007  Mar-16      1000001587  ...          148162000     Yes\n",
              "19008  Mar-16      1000000460  ...           45073000      No\n",
              "19009  Mar-16      1000000425  ...           44251000      No\n",
              "19010  Mar-16      1000001540  ...          118651000      No\n",
              "19011  Mar-16      1000000607  ...           59201000      No\n",
              "\n",
              "[5 rows x 19 columns]"
            ]
          },
          "metadata": {
            "tags": []
          },
          "execution_count": 9
        }
      ]
    },
    {
      "cell_type": "code",
      "metadata": {
        "id": "fPkHfsoutVAJ"
      },
      "source": [
        "# dropping account_number and borrower_name as it is not important independent feature for the dependent variable prediction\n",
        "# nor for analysis of the dataset\n",
        "\n",
        "# there are others too but we will drop at the later stage\n",
        "\n",
        "loanallotment_df.drop(['account_number', 'borrower_name'], axis = 1, inplace= True)"
      ],
      "execution_count": 10,
      "outputs": []
    },
    {
      "cell_type": "code",
      "metadata": {
        "id": "bxHNXcbPj8Gg"
      },
      "source": [
        "# converting period column fro object dtype to datetime dtype\n",
        "loanallotment_df['period'] = pd.to_datetime(loanallotment_df['period'], format = '%b-%y')"
      ],
      "execution_count": 11,
      "outputs": []
    },
    {
      "cell_type": "code",
      "metadata": {
        "id": "GnVn5I4J81js",
        "colab": {
          "base_uri": "https://localhost:8080/"
        },
        "outputId": "dc69d005-12fe-4225-c9d0-30195c9bc097"
      },
      "source": [
        "# checking for null values in dataset\n",
        "loanallotment_df.isnull().sum()"
      ],
      "execution_count": 12,
      "outputs": [
        {
          "output_type": "execute_result",
          "data": {
            "text/plain": [
              "period                         0\n",
              "account_type                   0\n",
              "industry_type                  0\n",
              "counterparty_industrytype      0\n",
              "anylitigation                  0\n",
              "lastpayment_date               0\n",
              "lastpayment_status             0\n",
              "lastpayment_amountavg          0\n",
              "accountbalanceavg              0\n",
              "credittransaction_amountavg    0\n",
              "netrevenue                     0\n",
              "currentratio                   0\n",
              "totalnum_pastreturns           0\n",
              "returnamountavg                0\n",
              "totalreceivableamount          0\n",
              "totalpayableamount             0\n",
              "default                        0\n",
              "dtype: int64"
            ]
          },
          "metadata": {
            "tags": []
          },
          "execution_count": 12
        }
      ]
    },
    {
      "cell_type": "code",
      "metadata": {
        "colab": {
          "base_uri": "https://localhost:8080/"
        },
        "id": "0kIhLwmnKoJr",
        "outputId": "aec88850-03e6-45c3-eb00-7661ee443847"
      },
      "source": [
        "# checking for any duplicate records\n",
        "loanallotment_df.duplicated().sum()"
      ],
      "execution_count": 13,
      "outputs": [
        {
          "output_type": "execute_result",
          "data": {
            "text/plain": [
              "0"
            ]
          },
          "metadata": {
            "tags": []
          },
          "execution_count": 13
        }
      ]
    },
    {
      "cell_type": "code",
      "metadata": {
        "colab": {
          "base_uri": "https://localhost:8080/"
        },
        "id": "XL81YvjEK1O3",
        "outputId": "ab71bdce-cabd-47a6-849e-1692395269fa"
      },
      "source": [
        "# getting all object dtype columns name\n",
        "object_cols = loanallotment_df.select_dtypes(['object']).columns.tolist()\n",
        "object_cols"
      ],
      "execution_count": 14,
      "outputs": [
        {
          "output_type": "execute_result",
          "data": {
            "text/plain": [
              "['account_type',\n",
              " 'industry_type',\n",
              " 'counterparty_industrytype',\n",
              " 'anylitigation',\n",
              " 'lastpayment_status',\n",
              " 'default']"
            ]
          },
          "metadata": {
            "tags": []
          },
          "execution_count": 14
        }
      ]
    },
    {
      "cell_type": "code",
      "metadata": {
        "colab": {
          "base_uri": "https://localhost:8080/"
        },
        "id": "AaqZNc_5YzXq",
        "outputId": "febce955-feb2-4637-b008-954f26147e6e"
      },
      "source": [
        "# getting all number dtype columns name\n",
        "num_cols = loanallotment_df.select_dtypes(['number']).columns.tolist()\n",
        "num_cols"
      ],
      "execution_count": 15,
      "outputs": [
        {
          "output_type": "execute_result",
          "data": {
            "text/plain": [
              "['lastpayment_amountavg',\n",
              " 'accountbalanceavg',\n",
              " 'credittransaction_amountavg',\n",
              " 'netrevenue',\n",
              " 'currentratio',\n",
              " 'totalnum_pastreturns',\n",
              " 'returnamountavg',\n",
              " 'totalreceivableamount',\n",
              " 'totalpayableamount']"
            ]
          },
          "metadata": {
            "tags": []
          },
          "execution_count": 15
        }
      ]
    },
    {
      "cell_type": "code",
      "metadata": {
        "colab": {
          "base_uri": "https://localhost:8080/",
          "height": 317
        },
        "id": "GlGefRb5a1GH",
        "outputId": "5b700fd6-e295-4dbe-c5a5-16a5ddd0f11c"
      },
      "source": [
        "# basic statistical details of all number dtypes columns in the dataset\n",
        "loanallotment_df.describe()"
      ],
      "execution_count": 16,
      "outputs": [
        {
          "output_type": "execute_result",
          "data": {
            "text/html": [
              "<div>\n",
              "<style scoped>\n",
              "    .dataframe tbody tr th:only-of-type {\n",
              "        vertical-align: middle;\n",
              "    }\n",
              "\n",
              "    .dataframe tbody tr th {\n",
              "        vertical-align: top;\n",
              "    }\n",
              "\n",
              "    .dataframe thead th {\n",
              "        text-align: right;\n",
              "    }\n",
              "</style>\n",
              "<table border=\"1\" class=\"dataframe\">\n",
              "  <thead>\n",
              "    <tr style=\"text-align: right;\">\n",
              "      <th></th>\n",
              "      <th>lastpayment_amountavg</th>\n",
              "      <th>accountbalanceavg</th>\n",
              "      <th>credittransaction_amountavg</th>\n",
              "      <th>netrevenue</th>\n",
              "      <th>currentratio</th>\n",
              "      <th>totalnum_pastreturns</th>\n",
              "      <th>returnamountavg</th>\n",
              "      <th>totalreceivableamount</th>\n",
              "      <th>totalpayableamount</th>\n",
              "    </tr>\n",
              "  </thead>\n",
              "  <tbody>\n",
              "    <tr>\n",
              "      <th>count</th>\n",
              "      <td>19012.000000</td>\n",
              "      <td>1.901200e+04</td>\n",
              "      <td>1.901200e+04</td>\n",
              "      <td>1.901200e+04</td>\n",
              "      <td>19012.000000</td>\n",
              "      <td>19012.000000</td>\n",
              "      <td>19012.000000</td>\n",
              "      <td>1.901200e+04</td>\n",
              "      <td>1.901200e+04</td>\n",
              "    </tr>\n",
              "    <tr>\n",
              "      <th>mean</th>\n",
              "      <td>252682.200715</td>\n",
              "      <td>1.917492e+07</td>\n",
              "      <td>2.608428e+07</td>\n",
              "      <td>3.203578e+07</td>\n",
              "      <td>1.502712</td>\n",
              "      <td>1.492794</td>\n",
              "      <td>115209.499264</td>\n",
              "      <td>1.023523e+08</td>\n",
              "      <td>1.017531e+08</td>\n",
              "    </tr>\n",
              "    <tr>\n",
              "      <th>std</th>\n",
              "      <td>113448.539592</td>\n",
              "      <td>7.313928e+06</td>\n",
              "      <td>8.366392e+06</td>\n",
              "      <td>1.269638e+07</td>\n",
              "      <td>0.287630</td>\n",
              "      <td>1.119216</td>\n",
              "      <td>84269.714648</td>\n",
              "      <td>3.918255e+07</td>\n",
              "      <td>3.886944e+07</td>\n",
              "    </tr>\n",
              "    <tr>\n",
              "      <th>min</th>\n",
              "      <td>62000.000000</td>\n",
              "      <td>6.049000e+06</td>\n",
              "      <td>6.520000e+06</td>\n",
              "      <td>1.911000e+06</td>\n",
              "      <td>1.000000</td>\n",
              "      <td>0.000000</td>\n",
              "      <td>0.000000</td>\n",
              "      <td>2.943400e+07</td>\n",
              "      <td>3.106100e+07</td>\n",
              "    </tr>\n",
              "    <tr>\n",
              "      <th>25%</th>\n",
              "      <td>158000.000000</td>\n",
              "      <td>1.246400e+07</td>\n",
              "      <td>1.959675e+07</td>\n",
              "      <td>2.173200e+07</td>\n",
              "      <td>1.250000</td>\n",
              "      <td>0.000000</td>\n",
              "      <td>0.000000</td>\n",
              "      <td>6.658000e+07</td>\n",
              "      <td>6.629900e+07</td>\n",
              "    </tr>\n",
              "    <tr>\n",
              "      <th>50%</th>\n",
              "      <td>247000.000000</td>\n",
              "      <td>1.977550e+07</td>\n",
              "      <td>2.656700e+07</td>\n",
              "      <td>3.474350e+07</td>\n",
              "      <td>1.500000</td>\n",
              "      <td>1.000000</td>\n",
              "      <td>120000.000000</td>\n",
              "      <td>1.062630e+08</td>\n",
              "      <td>1.054840e+08</td>\n",
              "    </tr>\n",
              "    <tr>\n",
              "      <th>75%</th>\n",
              "      <td>324000.000000</td>\n",
              "      <td>2.623625e+07</td>\n",
              "      <td>3.256525e+07</td>\n",
              "      <td>4.350800e+07</td>\n",
              "      <td>1.750000</td>\n",
              "      <td>2.000000</td>\n",
              "      <td>197000.000000</td>\n",
              "      <td>1.404152e+08</td>\n",
              "      <td>1.394300e+08</td>\n",
              "    </tr>\n",
              "    <tr>\n",
              "      <th>max</th>\n",
              "      <td>500000.000000</td>\n",
              "      <td>2.980700e+07</td>\n",
              "      <td>4.307800e+07</td>\n",
              "      <td>4.922700e+07</td>\n",
              "      <td>2.000000</td>\n",
              "      <td>3.000000</td>\n",
              "      <td>237000.000000</td>\n",
              "      <td>1.584260e+08</td>\n",
              "      <td>1.571800e+08</td>\n",
              "    </tr>\n",
              "  </tbody>\n",
              "</table>\n",
              "</div>"
            ],
            "text/plain": [
              "       lastpayment_amountavg  ...  totalpayableamount\n",
              "count           19012.000000  ...        1.901200e+04\n",
              "mean           252682.200715  ...        1.017531e+08\n",
              "std            113448.539592  ...        3.886944e+07\n",
              "min             62000.000000  ...        3.106100e+07\n",
              "25%            158000.000000  ...        6.629900e+07\n",
              "50%            247000.000000  ...        1.054840e+08\n",
              "75%            324000.000000  ...        1.394300e+08\n",
              "max            500000.000000  ...        1.571800e+08\n",
              "\n",
              "[8 rows x 9 columns]"
            ]
          },
          "metadata": {
            "tags": []
          },
          "execution_count": 16
        }
      ]
    },
    {
      "cell_type": "code",
      "metadata": {
        "colab": {
          "base_uri": "https://localhost:8080/"
        },
        "id": "qgleIqkZZy1-",
        "outputId": "bc81e234-bff3-4e6d-f930-c59dff0b29e6"
      },
      "source": [
        "# Interquartile Range (IQR)\n",
        "Q1 = loanallotment_df.quantile(0.25)\n",
        "Q3 = loanallotment_df.quantile(0.75)\n",
        "IQR = Q3 - Q1\n",
        "IQR"
      ],
      "execution_count": 17,
      "outputs": [
        {
          "output_type": "execute_result",
          "data": {
            "text/plain": [
              "lastpayment_amountavg            166000.0\n",
              "accountbalanceavg              13772250.0\n",
              "credittransaction_amountavg    12968500.0\n",
              "netrevenue                     21776000.0\n",
              "currentratio                          0.5\n",
              "totalnum_pastreturns                  2.0\n",
              "returnamountavg                  197000.0\n",
              "totalreceivableamount          73835250.0\n",
              "totalpayableamount             73131000.0\n",
              "dtype: float64"
            ]
          },
          "metadata": {
            "tags": []
          },
          "execution_count": 17
        }
      ]
    },
    {
      "cell_type": "code",
      "metadata": {
        "colab": {
          "base_uri": "https://localhost:8080/",
          "height": 224
        },
        "id": "0CIgG1FodEkq",
        "outputId": "d0570350-1926-4913-abc3-2ac41dd4c2a9"
      },
      "source": [
        "# creating a temp dataset having only number dtypes column\n",
        "temp_df = loanallotment_df.loc[:, 'lastpayment_amountavg' : 'totalpayableamount']\n",
        "temp_df.head()"
      ],
      "execution_count": 18,
      "outputs": [
        {
          "output_type": "execute_result",
          "data": {
            "text/html": [
              "<div>\n",
              "<style scoped>\n",
              "    .dataframe tbody tr th:only-of-type {\n",
              "        vertical-align: middle;\n",
              "    }\n",
              "\n",
              "    .dataframe tbody tr th {\n",
              "        vertical-align: top;\n",
              "    }\n",
              "\n",
              "    .dataframe thead th {\n",
              "        text-align: right;\n",
              "    }\n",
              "</style>\n",
              "<table border=\"1\" class=\"dataframe\">\n",
              "  <thead>\n",
              "    <tr style=\"text-align: right;\">\n",
              "      <th></th>\n",
              "      <th>lastpayment_amountavg</th>\n",
              "      <th>accountbalanceavg</th>\n",
              "      <th>credittransaction_amountavg</th>\n",
              "      <th>netrevenue</th>\n",
              "      <th>currentratio</th>\n",
              "      <th>totalnum_pastreturns</th>\n",
              "      <th>returnamountavg</th>\n",
              "      <th>totalreceivableamount</th>\n",
              "      <th>totalpayableamount</th>\n",
              "    </tr>\n",
              "  </thead>\n",
              "  <tbody>\n",
              "    <tr>\n",
              "      <th>0</th>\n",
              "      <td>270000</td>\n",
              "      <td>13468000</td>\n",
              "      <td>14235000</td>\n",
              "      <td>22205000</td>\n",
              "      <td>1.32</td>\n",
              "      <td>3</td>\n",
              "      <td>86000</td>\n",
              "      <td>130822000</td>\n",
              "      <td>51591000</td>\n",
              "    </tr>\n",
              "    <tr>\n",
              "      <th>1</th>\n",
              "      <td>117000</td>\n",
              "      <td>24995000</td>\n",
              "      <td>29032000</td>\n",
              "      <td>46708000</td>\n",
              "      <td>1.83</td>\n",
              "      <td>2</td>\n",
              "      <td>175000</td>\n",
              "      <td>152972000</td>\n",
              "      <td>38816000</td>\n",
              "    </tr>\n",
              "    <tr>\n",
              "      <th>2</th>\n",
              "      <td>141000</td>\n",
              "      <td>14089000</td>\n",
              "      <td>26401000</td>\n",
              "      <td>45725000</td>\n",
              "      <td>1.63</td>\n",
              "      <td>3</td>\n",
              "      <td>190000</td>\n",
              "      <td>68901000</td>\n",
              "      <td>142547000</td>\n",
              "    </tr>\n",
              "    <tr>\n",
              "      <th>3</th>\n",
              "      <td>198000</td>\n",
              "      <td>25995000</td>\n",
              "      <td>39570000</td>\n",
              "      <td>11592000</td>\n",
              "      <td>1.73</td>\n",
              "      <td>0</td>\n",
              "      <td>0</td>\n",
              "      <td>103056000</td>\n",
              "      <td>153022000</td>\n",
              "    </tr>\n",
              "    <tr>\n",
              "      <th>4</th>\n",
              "      <td>228000</td>\n",
              "      <td>21519000</td>\n",
              "      <td>24774000</td>\n",
              "      <td>38511000</td>\n",
              "      <td>1.43</td>\n",
              "      <td>1</td>\n",
              "      <td>92000</td>\n",
              "      <td>117120000</td>\n",
              "      <td>118425000</td>\n",
              "    </tr>\n",
              "  </tbody>\n",
              "</table>\n",
              "</div>"
            ],
            "text/plain": [
              "   lastpayment_amountavg  ...  totalpayableamount\n",
              "0                 270000  ...            51591000\n",
              "1                 117000  ...            38816000\n",
              "2                 141000  ...           142547000\n",
              "3                 198000  ...           153022000\n",
              "4                 228000  ...           118425000\n",
              "\n",
              "[5 rows x 9 columns]"
            ]
          },
          "metadata": {
            "tags": []
          },
          "execution_count": 18
        }
      ]
    },
    {
      "cell_type": "code",
      "metadata": {
        "colab": {
          "base_uri": "https://localhost:8080/"
        },
        "id": "vPf_SVM_eUNy",
        "outputId": "28c5c0c9-1fe6-416b-d6ed-563de041dcc0"
      },
      "source": [
        "# number of columns and rows of the temp dataset\n",
        "temp_df.shape"
      ],
      "execution_count": 19,
      "outputs": [
        {
          "output_type": "execute_result",
          "data": {
            "text/plain": [
              "(19012, 9)"
            ]
          },
          "metadata": {
            "tags": []
          },
          "execution_count": 19
        }
      ]
    },
    {
      "cell_type": "code",
      "metadata": {
        "colab": {
          "base_uri": "https://localhost:8080/"
        },
        "id": "bTwvgPmKbmPF",
        "outputId": "06f202ad-570f-4d64-ec7a-251b66ffb60e"
      },
      "source": [
        "# the code below generates an output with the 'True' and 'False' values for each datapoints \n",
        "# where the values are 'True' represent the presence of the outlier\n",
        "outlier_df = temp_df[((temp_df <= (Q1 - 1.5 * IQR)) | (temp_df >= (Q3 + 1.5 * IQR))).all(axis = 1)]\n",
        "len(outlier_df)"
      ],
      "execution_count": 20,
      "outputs": [
        {
          "output_type": "execute_result",
          "data": {
            "text/plain": [
              "0"
            ]
          },
          "metadata": {
            "tags": []
          },
          "execution_count": 20
        }
      ]
    },
    {
      "cell_type": "code",
      "metadata": {
        "colab": {
          "base_uri": "https://localhost:8080/"
        },
        "id": "nXi66uzTe_DE",
        "outputId": "697d9cd8-6c22-4486-ecbe-97f4218d9576"
      },
      "source": [
        "# the unique values and its frequency in the object columns of the dataset\n",
        "for col in object_cols:\n",
        "  print(col, ':')\n",
        "  val_counts = round(loanallotment_df[col].value_counts(normalize = True) * 100, 2)\n",
        "  print(val_counts)\n",
        "  print()"
      ],
      "execution_count": 21,
      "outputs": [
        {
          "output_type": "stream",
          "text": [
            "account_type :\n",
            "Current Account      59.17\n",
            "Term Loan Account    40.83\n",
            "Name: account_type, dtype: float64\n",
            "\n",
            "industry_type :\n",
            "Agriculture industry          12.10\n",
            "Computer Industry             11.15\n",
            "Pharmaceutical Industry       10.92\n",
            "Telecommunication industry    10.43\n",
            "Transport Industry            10.23\n",
            "Construction Industry          9.43\n",
            "Aerospace Industry             9.26\n",
            "Education Industry             8.93\n",
            "Health care Industry           8.82\n",
            "Food Industry                  8.74\n",
            "Name: industry_type, dtype: float64\n",
            "\n",
            "counterparty_industrytype :\n",
            "Construction Industry         12.78\n",
            "Computer Industry             12.46\n",
            "Agriculture industry          11.91\n",
            "Transport Industry            10.91\n",
            "Telecommunication industry    10.64\n",
            "Health care Industry           9.38\n",
            "Pharmaceutical Industry        9.35\n",
            "Aerospace Industry             8.97\n",
            "Education Industry             7.29\n",
            "Food Industry                  6.31\n",
            "Name: counterparty_industrytype, dtype: float64\n",
            "\n",
            "anylitigation :\n",
            "Yes    50.22\n",
            "No     49.78\n",
            "Name: anylitigation, dtype: float64\n",
            "\n",
            "lastpayment_status :\n",
            "Cleared    50.22\n",
            "Bounced    49.78\n",
            "Name: lastpayment_status, dtype: float64\n",
            "\n",
            "default :\n",
            "Yes    50.29\n",
            "No     49.71\n",
            "Name: default, dtype: float64\n",
            "\n"
          ],
          "name": "stdout"
        }
      ]
    },
    {
      "cell_type": "code",
      "metadata": {
        "colab": {
          "base_uri": "https://localhost:8080/",
          "height": 288
        },
        "id": "jtUMA-Ps67WK",
        "outputId": "5f1cef50-53c5-4557-c2e4-f5f98c6af73b"
      },
      "source": [
        "# visualization of dependant variable to check the balance of the dataset\n",
        "sns.set_theme(style = 'darkgrid')\n",
        "sns.countplot(x = 'default', data = loanallotment_df)\n",
        "plt.show()"
      ],
      "execution_count": 22,
      "outputs": [
        {
          "output_type": "display_data",
          "data": {
            "image/png": "[encoded data removed]",
            "text/plain": [
              "<Figure size 432x288 with 1 Axes>"
            ]
          },
          "metadata": {
            "tags": []
          }
        }
      ]
    },
    {
      "cell_type": "markdown",
      "metadata": {
        "id": "iPNRYc2H_cq3"
      },
      "source": [
        "The dataset is balanced and it is not a good sign as it depicts that 50.29% of the total borrower who goes for loan has defaulted the loan payment or rather has failed to pay back the loan amount according to the initial arrangement.\n",
        "And 49.71% has only paid entire loan amount."
      ]
    },
    {
      "cell_type": "markdown",
      "metadata": {
        "id": "PU-l0V29FSJj"
      },
      "source": [
        "Lets find if we can get some insights on who? and why? borrower default or not their loan payments"
      ]
    },
    {
      "cell_type": "code",
      "metadata": {
        "colab": {
          "base_uri": "https://localhost:8080/",
          "height": 518
        },
        "id": "gB92H8DRIsNI",
        "outputId": "2c0a941c-85a3-4488-d232-419f3957e087"
      },
      "source": [
        "# Default and Account Type\n",
        "plt.figure(figsize = (12, 8))\n",
        "sns.set_theme(style = 'darkgrid')\n",
        "sns.countplot('default', hue = 'account_type', data = loanallotment_df)\n",
        "plt.title('Distribution of Default based on Account Type')\n",
        "plt.xlabel('Default', fontsize=12)\n",
        "plt.ylabel('Account Type', fontsize=12)\n",
        "plt.show()"
      ],
      "execution_count": 23,
      "outputs": [
        {
          "output_type": "display_data",
          "data": {
            "image/png": "[encoded data removed]",
            "text/plain": [
              "<Figure size 864x576 with 1 Axes>"
            ]
          },
          "metadata": {
            "tags": []
          }
        }
      ]
    },
    {
      "cell_type": "markdown",
      "metadata": {
        "id": "WTzJUmUKCbH-"
      },
      "source": [
        "Borrower's Account Type doesnot determine whether the loan payment will be defaulted or not"
      ]
    },
    {
      "cell_type": "code",
      "metadata": {
        "colab": {
          "base_uri": "https://localhost:8080/"
        },
        "id": "TkMY1dTLl0ff",
        "outputId": "fe274dfb-85c7-41db-8b09-53969007e1ae"
      },
      "source": [
        "# Default, dependent feature and Industry Type, independent feature\n",
        "\n",
        "# industry paid loan amount\n",
        "industry_notdefault = loanallotment_df[loanallotment_df['default'] == 'No']\n",
        "industry_notdefault['industry_type'].value_counts()"
      ],
      "execution_count": 24,
      "outputs": [
        {
          "output_type": "execute_result",
          "data": {
            "text/plain": [
              "Agriculture industry          1147\n",
              "Computer Industry             1050\n",
              "Pharmaceutical Industry       1018\n",
              "Telecommunication industry     968\n",
              "Transport Industry             960\n",
              "Construction Industry          891\n",
              "Aerospace Industry             870\n",
              "Education Industry             854\n",
              "Health care Industry           847\n",
              "Food Industry                  845\n",
              "Name: industry_type, dtype: int64"
            ]
          },
          "metadata": {
            "tags": []
          },
          "execution_count": 24
        }
      ]
    },
    {
      "cell_type": "code",
      "metadata": {
        "colab": {
          "base_uri": "https://localhost:8080/"
        },
        "id": "oDd8H_tjBlgE",
        "outputId": "b0a3f77c-eae8-48ab-d877-240a5e9ffb96"
      },
      "source": [
        "# industry default loan payment\n",
        "industry_default = loanallotment_df[loanallotment_df['default'] == 'Yes']\n",
        "industry_default['industry_type'].value_counts()"
      ],
      "execution_count": 25,
      "outputs": [
        {
          "output_type": "execute_result",
          "data": {
            "text/plain": [
              "Agriculture industry          1153\n",
              "Computer Industry             1070\n",
              "Pharmaceutical Industry       1059\n",
              "Telecommunication industry    1015\n",
              "Transport Industry             984\n",
              "Construction Industry          902\n",
              "Aerospace Industry             890\n",
              "Education Industry             844\n",
              "Health care Industry           829\n",
              "Food Industry                  816\n",
              "Name: industry_type, dtype: int64"
            ]
          },
          "metadata": {
            "tags": []
          },
          "execution_count": 25
        }
      ]
    },
    {
      "cell_type": "code",
      "metadata": {
        "colab": {
          "base_uri": "https://localhost:8080/"
        },
        "id": "G7RIh6wbBIw2",
        "outputId": "fccdfe24-a952-4907-9cfb-11e26a829a92"
      },
      "source": [
        "industry_default['industry_type'].value_counts().values - industry_notdefault['industry_type'].value_counts().values"
      ],
      "execution_count": 26,
      "outputs": [
        {
          "output_type": "execute_result",
          "data": {
            "text/plain": [
              "array([  6,  20,  41,  47,  24,  11,  20, -10, -18, -29])"
            ]
          },
          "metadata": {
            "tags": []
          },
          "execution_count": 26
        }
      ]
    },
    {
      "cell_type": "code",
      "metadata": {
        "colab": {
          "base_uri": "https://localhost:8080/"
        },
        "id": "vE0MUFk7jI7J",
        "outputId": "00c72c5d-089c-4cb3-ebce-300fade30141"
      },
      "source": [
        "industry_default['industry_type'].value_counts().values > industry_notdefault['industry_type'].value_counts().values"
      ],
      "execution_count": 27,
      "outputs": [
        {
          "output_type": "execute_result",
          "data": {
            "text/plain": [
              "array([ True,  True,  True,  True,  True,  True,  True, False, False,\n",
              "       False])"
            ]
          },
          "metadata": {
            "tags": []
          },
          "execution_count": 27
        }
      ]
    },
    {
      "cell_type": "code",
      "metadata": {
        "colab": {
          "base_uri": "https://localhost:8080/",
          "height": 1000
        },
        "id": "SFMJPsYSJUX0",
        "outputId": "f0d3927f-9671-476b-cc1a-67cadffcfc59"
      },
      "source": [
        "# Default, dependent feature and Industry Type, independent feature\n",
        "plt.figure(figsize = (15, 17))\n",
        "sns.set_theme(style = 'darkgrid')\n",
        "sns.countplot('default', hue = 'industry_type', data = loanallotment_df)\n",
        "plt.title('Distribution of Default based on Industry Type')\n",
        "plt.xlabel('Default', fontsize=12)\n",
        "plt.ylabel('Industry Type', fontsize=12)\n",
        "plt.show()"
      ],
      "execution_count": 28,
      "outputs": [
        {
          "output_type": "display_data",
          "data": {
            "image/png": "[encoded data removed]",
            "text/plain": [
              "<Figure size 1080x1224 with 1 Axes>"
            ]
          },
          "metadata": {
            "tags": []
          }
        }
      ]
    },
    {
      "cell_type": "markdown",
      "metadata": {
        "id": "5kyVwmnxElR8"
      },
      "source": [
        "Telecommunication industry, Pharmaceutical Industry and Transport Industry have more default compare to full loan payment."
      ]
    },
    {
      "cell_type": "code",
      "metadata": {
        "colab": {
          "base_uri": "https://localhost:8080/"
        },
        "id": "AoVQfSrhHKf3",
        "outputId": "b1aed288-e072-4f83-a9bc-fb29894ae611"
      },
      "source": [
        "# Default, dependent feature and Credit Transaction Amount Average, independent feature\n",
        "\n",
        "# borrower who paid loan amount and his Credit Transaction Amount Average\n",
        "industry_notdefault['credittransaction_amountavg'].value_counts(bins = 20).sort_index(ascending = False)"
      ],
      "execution_count": 29,
      "outputs": [
        {
          "output_type": "execute_result",
          "data": {
            "text/plain": [
              "(41237750.0, 43065000.0]    152\n",
              "(39410500.0, 41237750.0]    285\n",
              "(37583250.0, 39410500.0]    377\n",
              "(35756000.0, 37583250.0]    501\n",
              "(33928750.0, 35756000.0]    590\n",
              "(32101500.0, 33928750.0]    613\n",
              "(30274250.0, 32101500.0]    754\n",
              "(28447000.0, 30274250.0]    803\n",
              "(26619750.0, 28447000.0]    603\n",
              "(24792500.0, 26619750.0]    641\n",
              "(22965250.0, 24792500.0]    597\n",
              "(21138000.0, 22965250.0]    601\n",
              "(19310750.0, 21138000.0]    661\n",
              "(17483500.0, 19310750.0]    549\n",
              "(15656250.0, 17483500.0]    508\n",
              "(13829000.0, 15656250.0]    406\n",
              "(12001750.0, 13829000.0]    329\n",
              "(10174500.0, 12001750.0]    242\n",
              "(8347250.0, 10174500.0]     182\n",
              "(6483454.999, 8347250.0]     56\n",
              "Name: credittransaction_amountavg, dtype: int64"
            ]
          },
          "metadata": {
            "tags": []
          },
          "execution_count": 29
        }
      ]
    },
    {
      "cell_type": "code",
      "metadata": {
        "colab": {
          "base_uri": "https://localhost:8080/"
        },
        "id": "VWsU6bnHG1mQ",
        "outputId": "12b703d8-5418-43bd-ded2-e919084ca9bc"
      },
      "source": [
        "# borrower who default loan payment and his Credit Transaction Amount Average\n",
        "industry_default['credittransaction_amountavg'].value_counts(bins = 20).sort_index(ascending = False)"
      ],
      "execution_count": 30,
      "outputs": [
        {
          "output_type": "execute_result",
          "data": {
            "text/plain": [
              "(41272550.0, 43078000.0]    131\n",
              "(39467100.0, 41272550.0]    297\n",
              "(37661650.0, 39467100.0]    405\n",
              "(35856200.0, 37661650.0]    537\n",
              "(34050750.0, 35856200.0]    505\n",
              "(32245300.0, 34050750.0]    636\n",
              "(30439850.0, 32245300.0]    730\n",
              "(28634400.0, 30439850.0]    823\n",
              "(26828950.0, 28634400.0]    667\n",
              "(25023500.0, 26828950.0]    628\n",
              "(23218050.0, 25023500.0]    601\n",
              "(21412600.0, 23218050.0]    608\n",
              "(19607150.0, 21412600.0]    607\n",
              "(17801700.0, 19607150.0]    556\n",
              "(15996250.0, 17801700.0]    504\n",
              "(14190800.0, 15996250.0]    425\n",
              "(12385350.0, 14190800.0]    343\n",
              "(10579900.0, 12385350.0]    286\n",
              "(8774450.0, 10579900.0]     190\n",
              "(6932890.999, 8774450.0]     83\n",
              "Name: credittransaction_amountavg, dtype: int64"
            ]
          },
          "metadata": {
            "tags": []
          },
          "execution_count": 30
        }
      ]
    },
    {
      "cell_type": "code",
      "metadata": {
        "colab": {
          "base_uri": "https://localhost:8080/"
        },
        "id": "LKah-Dw7j_qP",
        "outputId": "068b33cc-58bc-4c64-99a2-98ec86312453"
      },
      "source": [
        "industry_default['credittransaction_amountavg'].value_counts(bins = 20).sort_index(ascending = False).index > industry_notdefault['credittransaction_amountavg'].value_counts(bins = 20).sort_index(ascending = False).index"
      ],
      "execution_count": 31,
      "outputs": [
        {
          "output_type": "execute_result",
          "data": {
            "text/plain": [
              "array([ True,  True,  True,  True,  True,  True,  True,  True,  True,\n",
              "        True,  True,  True,  True,  True,  True,  True,  True,  True,\n",
              "        True,  True])"
            ]
          },
          "metadata": {
            "tags": []
          },
          "execution_count": 31
        }
      ]
    },
    {
      "cell_type": "markdown",
      "metadata": {
        "id": "3VThkzuwpIzY"
      },
      "source": [
        "As seen in the output of the above code that the Credit Transaction Amount Average of defaulter has more amount value compare to non-defaulter"
      ]
    },
    {
      "cell_type": "code",
      "metadata": {
        "id": "WO9_SjOR_xGj",
        "colab": {
          "base_uri": "https://localhost:8080/"
        },
        "outputId": "129683c6-8e70-4bdd-ba38-99e35d0428bc"
      },
      "source": [
        "# Default, dependent feature and Account Balance Average, independent feature\n",
        "\n",
        "# borrower who paid loan amount and his Account Balance Average\n",
        "industry_notdefault['accountbalanceavg'].value_counts(bins = 20).sort_index(ascending = False)"
      ],
      "execution_count": 32,
      "outputs": [
        {
          "output_type": "execute_result",
          "data": {
            "text/plain": [
              "(28619100.0, 29807000.0]     745\n",
              "(27431200.0, 28619100.0]    1003\n",
              "(26243300.0, 27431200.0]     595\n",
              "(25055400.0, 26243300.0]     526\n",
              "(23867500.0, 25055400.0]     451\n",
              "(22679600.0, 23867500.0]     454\n",
              "(21491700.0, 22679600.0]     388\n",
              "(20303800.0, 21491700.0]     359\n",
              "(19115900.0, 20303800.0]     371\n",
              "(17928000.0, 19115900.0]     378\n",
              "(16740100.0, 17928000.0]     372\n",
              "(15552200.0, 16740100.0]     399\n",
              "(14364300.0, 15552200.0]     401\n",
              "(13176400.0, 14364300.0]     421\n",
              "(11988500.0, 13176400.0]     396\n",
              "(10800600.0, 11988500.0]     405\n",
              "(9612700.0, 10800600.0]      443\n",
              "(8424800.0, 9612700.0]       517\n",
              "(7236900.0, 8424800.0]       505\n",
              "(6025241.999, 7236900.0]     321\n",
              "Name: accountbalanceavg, dtype: int64"
            ]
          },
          "metadata": {
            "tags": []
          },
          "execution_count": 32
        }
      ]
    },
    {
      "cell_type": "code",
      "metadata": {
        "colab": {
          "base_uri": "https://localhost:8080/"
        },
        "id": "GLA5XGC_1Llh",
        "outputId": "4473c55b-af0d-4a48-bbac-165ae7aa1428"
      },
      "source": [
        "# borrower who default loan payment and his Account Balance Average\n",
        "industry_default['accountbalanceavg'].value_counts(bins = 20).sort_index(ascending = False)"
      ],
      "execution_count": 33,
      "outputs": [
        {
          "output_type": "execute_result",
          "data": {
            "text/plain": [
              "(28619950.0, 29807000.0]    764\n",
              "(27432900.0, 28619950.0]    998\n",
              "(26245850.0, 27432900.0]    642\n",
              "(25058800.0, 26245850.0]    521\n",
              "(23871750.0, 25058800.0]    453\n",
              "(22684700.0, 23871750.0]    446\n",
              "(21497650.0, 22684700.0]    417\n",
              "(20310600.0, 21497650.0]    427\n",
              "(19123550.0, 20310600.0]    373\n",
              "(17936500.0, 19123550.0]    369\n",
              "(16749450.0, 17936500.0]    371\n",
              "(15562400.0, 16749450.0]    372\n",
              "(14375350.0, 15562400.0]    378\n",
              "(13188300.0, 14375350.0]    406\n",
              "(12001250.0, 13188300.0]    408\n",
              "(10814200.0, 12001250.0]    408\n",
              "(9627150.0, 10814200.0]     456\n",
              "(8440100.0, 9627150.0]      484\n",
              "(7253050.0, 8440100.0]      531\n",
              "(6042258.999, 7253050.0]    338\n",
              "Name: accountbalanceavg, dtype: int64"
            ]
          },
          "metadata": {
            "tags": []
          },
          "execution_count": 33
        }
      ]
    },
    {
      "cell_type": "code",
      "metadata": {
        "colab": {
          "base_uri": "https://localhost:8080/"
        },
        "id": "NmxFyWo3keGn",
        "outputId": "02366caf-061f-4538-e79a-b070c6804bf4"
      },
      "source": [
        "industry_default['accountbalanceavg'].value_counts(bins = 20).sort_index(ascending = False).index > industry_notdefault['accountbalanceavg'].value_counts(bins = 20).sort_index(ascending = False).index"
      ],
      "execution_count": 34,
      "outputs": [
        {
          "output_type": "execute_result",
          "data": {
            "text/plain": [
              "array([ True,  True,  True,  True,  True,  True,  True,  True,  True,\n",
              "        True,  True,  True,  True,  True,  True,  True,  True,  True,\n",
              "        True,  True])"
            ]
          },
          "metadata": {
            "tags": []
          },
          "execution_count": 34
        }
      ]
    },
    {
      "cell_type": "code",
      "metadata": {
        "colab": {
          "base_uri": "https://localhost:8080/"
        },
        "id": "Nqg78jMiA-LH",
        "outputId": "a3d380e2-9ef3-4ed5-b35c-aafcedc8ddb5"
      },
      "source": [
        "industry_default['accountbalanceavg'].value_counts(bins = 20).sort_index(ascending = False).values > industry_notdefault['accountbalanceavg'].value_counts(bins = 20).sort_index(ascending = False).values"
      ],
      "execution_count": 35,
      "outputs": [
        {
          "output_type": "execute_result",
          "data": {
            "text/plain": [
              "array([ True, False,  True, False,  True, False,  True,  True,  True,\n",
              "       False, False, False, False, False,  True,  True,  True, False,\n",
              "        True,  True])"
            ]
          },
          "metadata": {
            "tags": []
          },
          "execution_count": 35
        }
      ]
    },
    {
      "cell_type": "markdown",
      "metadata": {
        "id": "oGPl4KP-k6R-"
      },
      "source": [
        "But the Account Balance Average of defaulter is more compare to non-defaulter"
      ]
    },
    {
      "cell_type": "code",
      "metadata": {
        "colab": {
          "base_uri": "https://localhost:8080/"
        },
        "id": "uVKgGhEJYZ7L",
        "outputId": "11ff5933-6476-4f23-b8c6-e8dab0519195"
      },
      "source": [
        "# Default, dependent feature and Net Revenue, independent feature\n",
        "\n",
        "# borrower who paid loan amount and his Net Revenue\n",
        "industry_notdefault['netrevenue'].value_counts(bins = 20).sort_index(ascending = False)"
      ],
      "execution_count": 36,
      "outputs": [
        {
          "output_type": "execute_result",
          "data": {
            "text/plain": [
              "(46861200.0, 49227000.0]     935\n",
              "(44495400.0, 46861200.0]    1114\n",
              "(42129600.0, 44495400.0]     747\n",
              "(39763800.0, 42129600.0]     596\n",
              "(37398000.0, 39763800.0]     701\n",
              "(35032200.0, 37398000.0]     565\n",
              "(32666400.0, 35032200.0]     474\n",
              "(30300600.0, 32666400.0]     449\n",
              "(27934800.0, 30300600.0]     443\n",
              "(25569000.0, 27934800.0]     385\n",
              "(23203200.0, 25569000.0]     389\n",
              "(20837400.0, 23203200.0]     389\n",
              "(18471600.0, 20837400.0]     415\n",
              "(16105800.0, 18471600.0]     358\n",
              "(13740000.0, 16105800.0]     392\n",
              "(11374200.0, 13740000.0]     331\n",
              "(9008400.0, 11374200.0]      314\n",
              "(6642600.0, 9008400.0]       277\n",
              "(4276800.0, 6642600.0]       141\n",
              "(1863683.999, 4276800.0]      35\n",
              "Name: netrevenue, dtype: int64"
            ]
          },
          "metadata": {
            "tags": []
          },
          "execution_count": 36
        }
      ]
    },
    {
      "cell_type": "code",
      "metadata": {
        "colab": {
          "base_uri": "https://localhost:8080/"
        },
        "id": "ZbyC0ZwzYvl0",
        "outputId": "0b127a46-b52a-4a1c-e24b-54751e2204a5"
      },
      "source": [
        "# borrower who default loan payment and his Net Revenue\n",
        "industry_default['netrevenue'].value_counts(bins = 20).sort_index(ascending = False)"
      ],
      "execution_count": 37,
      "outputs": [
        {
          "output_type": "execute_result",
          "data": {
            "text/plain": [
              "(46870500.0, 49225000.0]     925\n",
              "(44516000.0, 46870500.0]    1108\n",
              "(42161500.0, 44516000.0]     765\n",
              "(39807000.0, 42161500.0]     608\n",
              "(37452500.0, 39807000.0]     712\n",
              "(35098000.0, 37452500.0]     585\n",
              "(32743500.0, 35098000.0]     524\n",
              "(30389000.0, 32743500.0]     483\n",
              "(28034500.0, 30389000.0]     449\n",
              "(25680000.0, 28034500.0]     399\n",
              "(23325500.0, 25680000.0]     400\n",
              "(20971000.0, 23325500.0]     362\n",
              "(18616500.0, 20971000.0]     408\n",
              "(16262000.0, 18616500.0]     344\n",
              "(13907500.0, 16262000.0]     334\n",
              "(11553000.0, 13907500.0]     331\n",
              "(9198500.0, 11553000.0]      334\n",
              "(6844000.0, 9198500.0]       288\n",
              "(4489500.0, 6844000.0]       138\n",
              "(2087909.999, 4489500.0]      65\n",
              "Name: netrevenue, dtype: int64"
            ]
          },
          "metadata": {
            "tags": []
          },
          "execution_count": 37
        }
      ]
    },
    {
      "cell_type": "code",
      "metadata": {
        "colab": {
          "base_uri": "https://localhost:8080/"
        },
        "id": "mdELKtz-lqij",
        "outputId": "963527c5-67f7-4579-cb5e-34e24780be89"
      },
      "source": [
        "industry_default['netrevenue'].value_counts(bins = 20).sort_index(ascending = False).index > industry_notdefault['netrevenue'].value_counts(bins = 20).sort_index(ascending = False).index"
      ],
      "execution_count": 38,
      "outputs": [
        {
          "output_type": "execute_result",
          "data": {
            "text/plain": [
              "array([ True,  True,  True,  True,  True,  True,  True,  True,  True,\n",
              "        True,  True,  True,  True,  True,  True,  True,  True,  True,\n",
              "        True,  True])"
            ]
          },
          "metadata": {
            "tags": []
          },
          "execution_count": 38
        }
      ]
    },
    {
      "cell_type": "markdown",
      "metadata": {
        "id": "f21jEpHUZBf3"
      },
      "source": [
        "But the Net Revenue of defaulter is more compare to non-defaulter"
      ]
    },
    {
      "cell_type": "code",
      "metadata": {
        "colab": {
          "base_uri": "https://localhost:8080/"
        },
        "id": "pbDYsW-JacAh",
        "outputId": "94b6625d-a018-4b91-d927-3f07a1061c21"
      },
      "source": [
        "# Default, dependent feature and Current Ratio, independent feature\n",
        "\n",
        "# borrower who paid loan amount and his Current Ratio\n",
        "industry_notdefault['currentratio'].value_counts(bins = 20).sort_index(ascending = False)"
      ],
      "execution_count": 39,
      "outputs": [
        {
          "output_type": "execute_result",
          "data": {
            "text/plain": [
              "(1.95, 2.0]      430\n",
              "(1.9, 1.95]      455\n",
              "(1.85, 1.9]      487\n",
              "(1.8, 1.85]      502\n",
              "(1.75, 1.8]      483\n",
              "(1.7, 1.75]      459\n",
              "(1.65, 1.7]      501\n",
              "(1.6, 1.65]      486\n",
              "(1.55, 1.6]      467\n",
              "(1.5, 1.55]      465\n",
              "(1.45, 1.5]      465\n",
              "(1.4, 1.45]      465\n",
              "(1.35, 1.4]      475\n",
              "(1.3, 1.35]      468\n",
              "(1.25, 1.3]      505\n",
              "(1.2, 1.25]      468\n",
              "(1.15, 1.2]      453\n",
              "(1.1, 1.15]      446\n",
              "(1.05, 1.1]      468\n",
              "(0.998, 1.05]    502\n",
              "Name: currentratio, dtype: int64"
            ]
          },
          "metadata": {
            "tags": []
          },
          "execution_count": 39
        }
      ]
    },
    {
      "cell_type": "code",
      "metadata": {
        "colab": {
          "base_uri": "https://localhost:8080/"
        },
        "id": "a6-VbnD4bpUi",
        "outputId": "b0890d74-0bef-449e-fc6a-d1ddd1ce5d24"
      },
      "source": [
        "# borrower who default loan payment and his Current Ratio\n",
        "industry_default['currentratio'].value_counts(bins = 20).sort_index(ascending = False)"
      ],
      "execution_count": 40,
      "outputs": [
        {
          "output_type": "execute_result",
          "data": {
            "text/plain": [
              "(1.95, 2.0]      478\n",
              "(1.9, 1.95]      441\n",
              "(1.85, 1.9]      458\n",
              "(1.8, 1.85]      467\n",
              "(1.75, 1.8]      482\n",
              "(1.7, 1.75]      463\n",
              "(1.65, 1.7]      510\n",
              "(1.6, 1.65]      500\n",
              "(1.55, 1.6]      469\n",
              "(1.5, 1.55]      494\n",
              "(1.45, 1.5]      470\n",
              "(1.4, 1.45]      467\n",
              "(1.35, 1.4]      477\n",
              "(1.3, 1.35]      481\n",
              "(1.25, 1.3]      479\n",
              "(1.2, 1.25]      523\n",
              "(1.15, 1.2]      462\n",
              "(1.1, 1.15]      502\n",
              "(1.05, 1.1]      444\n",
              "(0.998, 1.05]    495\n",
              "Name: currentratio, dtype: int64"
            ]
          },
          "metadata": {
            "tags": []
          },
          "execution_count": 40
        }
      ]
    },
    {
      "cell_type": "code",
      "metadata": {
        "colab": {
          "base_uri": "https://localhost:8080/"
        },
        "id": "CbLFtvvQmD3J",
        "outputId": "e1de5cb8-b9ef-48b7-9b34-696e66797713"
      },
      "source": [
        "industry_default['currentratio'].value_counts(bins = 20).sort_index(ascending = False).values > industry_notdefault['currentratio'].value_counts(bins = 20).sort_index(ascending = False).values"
      ],
      "execution_count": 41,
      "outputs": [
        {
          "output_type": "execute_result",
          "data": {
            "text/plain": [
              "array([ True, False, False, False, False,  True,  True,  True,  True,\n",
              "        True,  True,  True,  True,  True, False,  True,  True,  True,\n",
              "       False, False])"
            ]
          },
          "metadata": {
            "tags": []
          },
          "execution_count": 41
        }
      ]
    },
    {
      "cell_type": "markdown",
      "metadata": {
        "id": "odQgz2vob5Qf"
      },
      "source": [
        "Also the Current Ratio of defaulter is good compare to non-defaulter"
      ]
    },
    {
      "cell_type": "code",
      "metadata": {
        "colab": {
          "base_uri": "https://localhost:8080/"
        },
        "id": "agQzd7Z_Gg3Y",
        "outputId": "58724f12-b654-4321-d559-07921a337840"
      },
      "source": [
        "# Default, dependent feature and Total Loan Amount, independent feature\n",
        "\n",
        "# borrower who paid loan amount and his Total Loan Amount\n",
        "industry_notdefault['totalloanamount'] = industry_notdefault['totalreceivableamount'] + industry_notdefault['totalpayableamount']\n",
        "industry_notdefault['totalloanamount'].value_counts(bins = 20).sort_index(ascending = False)"
      ],
      "execution_count": 42,
      "outputs": [
        {
          "output_type": "execute_result",
          "data": {
            "text/plain": [
              "(300421700.0, 312708000.0]    235\n",
              "(288135400.0, 300421700.0]    413\n",
              "(275849100.0, 288135400.0]    446\n",
              "(263562800.0, 275849100.0]    474\n",
              "(251276500.0, 263562800.0]    539\n",
              "(238990200.0, 251276500.0]    553\n",
              "(226703900.0, 238990200.0]    639\n",
              "(214417600.0, 226703900.0]    732\n",
              "(202131300.0, 214417600.0]    843\n",
              "(189845000.0, 202131300.0]    912\n",
              "(177558700.0, 189845000.0]    767\n",
              "(165272400.0, 177558700.0]    592\n",
              "(152986100.0, 165272400.0]    538\n",
              "(140699800.0, 152986100.0]    415\n",
              "(128413500.0, 140699800.0]    361\n",
              "(116127200.0, 128413500.0]    327\n",
              "(103840900.0, 116127200.0]    255\n",
              "(91554600.0, 103840900.0]     229\n",
              "(79268300.0, 91554600.0]      127\n",
              "(66736273.999, 79268300.0]     53\n",
              "Name: totalloanamount, dtype: int64"
            ]
          },
          "metadata": {
            "tags": []
          },
          "execution_count": 42
        }
      ]
    },
    {
      "cell_type": "code",
      "metadata": {
        "colab": {
          "base_uri": "https://localhost:8080/"
        },
        "id": "QkpeF5UrNn-E",
        "outputId": "b7f49cad-5902-4ff6-f7d1-7b56d09b3208"
      },
      "source": [
        "# borrower who default loan payment and his Total Loan Amount\n",
        "industry_default['totalloanamount'] = industry_default['totalreceivableamount'] + industry_default['totalpayableamount']\n",
        "industry_default['totalloanamount'].value_counts(bins = 20).sort_index(ascending = False)"
      ],
      "execution_count": 43,
      "outputs": [
        {
          "output_type": "execute_result",
          "data": {
            "text/plain": [
              "(299658000.0, 311877000.0]    244\n",
              "(287439000.0, 299658000.0]    437\n",
              "(275220000.0, 287439000.0]    467\n",
              "(263001000.0, 275220000.0]    545\n",
              "(250782000.0, 263001000.0]    567\n",
              "(238563000.0, 250782000.0]    566\n",
              "(226344000.0, 238563000.0]    606\n",
              "(214125000.0, 226344000.0]    685\n",
              "(201906000.0, 214125000.0]    779\n",
              "(189687000.0, 201906000.0]    921\n",
              "(177468000.0, 189687000.0]    784\n",
              "(165249000.0, 177468000.0]    600\n",
              "(153030000.0, 165249000.0]    525\n",
              "(140811000.0, 153030000.0]    403\n",
              "(128592000.0, 140811000.0]    382\n",
              "(116373000.0, 128592000.0]    317\n",
              "(104154000.0, 116373000.0]    294\n",
              "(91935000.0, 104154000.0]     243\n",
              "(79716000.0, 91935000.0]      148\n",
              "(67252619.999, 79716000.0]     49\n",
              "Name: totalloanamount, dtype: int64"
            ]
          },
          "metadata": {
            "tags": []
          },
          "execution_count": 43
        }
      ]
    },
    {
      "cell_type": "code",
      "metadata": {
        "colab": {
          "base_uri": "https://localhost:8080/"
        },
        "id": "KEufonyamnXU",
        "outputId": "f5d99107-327a-431b-ca6d-3befbeda64af"
      },
      "source": [
        "industry_default['totalloanamount'].value_counts(bins = 20).sort_index(ascending = False).index > industry_notdefault['totalloanamount'].value_counts(bins = 20).sort_index(ascending = False).index"
      ],
      "execution_count": 44,
      "outputs": [
        {
          "output_type": "execute_result",
          "data": {
            "text/plain": [
              "array([False, False, False, False, False, False, False, False, False,\n",
              "       False, False, False,  True,  True,  True,  True,  True,  True,\n",
              "        True,  True])"
            ]
          },
          "metadata": {
            "tags": []
          },
          "execution_count": 44
        }
      ]
    },
    {
      "cell_type": "markdown",
      "metadata": {
        "id": "c6X87v0Dv8zu"
      },
      "source": [
        "And also the Total Loan Amount of defaulter is less compare to non-defaulter"
      ]
    },
    {
      "cell_type": "code",
      "metadata": {
        "colab": {
          "base_uri": "https://localhost:8080/"
        },
        "id": "lJAkMfVay9JC",
        "outputId": "5419b445-0d9c-43f9-8721-bbf9264a3b05"
      },
      "source": [
        "# Default, dependent feature and Any Litigation, independent feature\n",
        "\n",
        "# borrower who paid loan amount having Any Litigation\n",
        "industry_notdefault['anylitigation'].value_counts()"
      ],
      "execution_count": 45,
      "outputs": [
        {
          "output_type": "execute_result",
          "data": {
            "text/plain": [
              "Yes    4737\n",
              "No     4713\n",
              "Name: anylitigation, dtype: int64"
            ]
          },
          "metadata": {
            "tags": []
          },
          "execution_count": 45
        }
      ]
    },
    {
      "cell_type": "code",
      "metadata": {
        "colab": {
          "base_uri": "https://localhost:8080/"
        },
        "id": "qaYvnyy1zve5",
        "outputId": "eb28ee50-793e-48fd-8aa6-e4f601368751"
      },
      "source": [
        "# borrower who default loan payment having Any Litigation\n",
        "industry_default['anylitigation'].value_counts()"
      ],
      "execution_count": 46,
      "outputs": [
        {
          "output_type": "execute_result",
          "data": {
            "text/plain": [
              "Yes    4811\n",
              "No     4751\n",
              "Name: anylitigation, dtype: int64"
            ]
          },
          "metadata": {
            "tags": []
          },
          "execution_count": 46
        }
      ]
    },
    {
      "cell_type": "code",
      "metadata": {
        "colab": {
          "base_uri": "https://localhost:8080/"
        },
        "id": "1dHcLXZ2m9mf",
        "outputId": "f69b7821-28d2-403c-95ee-a4b6e44c8a88"
      },
      "source": [
        "industry_default['anylitigation'].value_counts().values > industry_notdefault['anylitigation'].value_counts().values"
      ],
      "execution_count": 47,
      "outputs": [
        {
          "output_type": "execute_result",
          "data": {
            "text/plain": [
              "array([ True,  True])"
            ]
          },
          "metadata": {
            "tags": []
          },
          "execution_count": 47
        }
      ]
    },
    {
      "cell_type": "markdown",
      "metadata": {
        "id": "NQJ5vjkcYlhN"
      },
      "source": [
        "Defaulter has more Any Litigation than non-defaulter and also it is higher in number on not having Any Litigation compare to non-defaulter"
      ]
    },
    {
      "cell_type": "code",
      "metadata": {
        "id": "ZkGQgclcz8gu",
        "colab": {
          "base_uri": "https://localhost:8080/"
        },
        "outputId": "9b74a697-0afe-4d28-ae79-b18c5a106550"
      },
      "source": [
        "# Default, dependent feature and Last Payment Status, independent feature\n",
        "\n",
        "# borrower who paid loan amount and his Last Payment Status\n",
        "industry_notdefault['lastpayment_status'].value_counts()"
      ],
      "execution_count": 48,
      "outputs": [
        {
          "output_type": "execute_result",
          "data": {
            "text/plain": [
              "Cleared    4737\n",
              "Bounced    4713\n",
              "Name: lastpayment_status, dtype: int64"
            ]
          },
          "metadata": {
            "tags": []
          },
          "execution_count": 48
        }
      ]
    },
    {
      "cell_type": "code",
      "metadata": {
        "id": "fj_6-DKJz8Ee",
        "colab": {
          "base_uri": "https://localhost:8080/"
        },
        "outputId": "3ab08ba1-4479-4f09-d431-60f139da4b7a"
      },
      "source": [
        "# borrower who default loan payment and his Last Payment Status\n",
        "industry_default['lastpayment_status'].value_counts()"
      ],
      "execution_count": 49,
      "outputs": [
        {
          "output_type": "execute_result",
          "data": {
            "text/plain": [
              "Cleared    4811\n",
              "Bounced    4751\n",
              "Name: lastpayment_status, dtype: int64"
            ]
          },
          "metadata": {
            "tags": []
          },
          "execution_count": 49
        }
      ]
    },
    {
      "cell_type": "code",
      "metadata": {
        "colab": {
          "base_uri": "https://localhost:8080/"
        },
        "id": "K_O37qpcnIC8",
        "outputId": "d5cc63c7-235d-4a68-e032-fdcaa28f9654"
      },
      "source": [
        "industry_default['lastpayment_status'].value_counts().values > industry_notdefault['lastpayment_status'].value_counts().values"
      ],
      "execution_count": 50,
      "outputs": [
        {
          "output_type": "execute_result",
          "data": {
            "text/plain": [
              "array([ True,  True])"
            ]
          },
          "metadata": {
            "tags": []
          },
          "execution_count": 50
        }
      ]
    },
    {
      "cell_type": "markdown",
      "metadata": {
        "id": "szH5VAE5Y-2C"
      },
      "source": [
        "Defaulter is higher in number in both Last Payment Status, Cleared and Bounced compare to non-defaulter"
      ]
    },
    {
      "cell_type": "code",
      "metadata": {
        "id": "7FVi3bOC0gBt",
        "colab": {
          "base_uri": "https://localhost:8080/"
        },
        "outputId": "6588d9fa-2a65-461b-8b05-9616e993a497"
      },
      "source": [
        "# Default, dependent feature and Last Payment Amount Average, independent feature are Cleared or Bounced\n",
        "\n",
        "# borrower who paid loan amount and his Last Payment Amount Average are Cleared\n",
        "notdefault_cleared = industry_notdefault[industry_notdefault['lastpayment_status'] == 'Cleared']\n",
        "notdefault_cleared['lastpayment_amountavg'].value_counts(bins = 20).sort_index(ascending = False)"
      ],
      "execution_count": 51,
      "outputs": [
        {
          "output_type": "execute_result",
          "data": {
            "text/plain": [
              "(478100.0, 500000.0]    149\n",
              "(456200.0, 478100.0]    131\n",
              "(434300.0, 456200.0]    187\n",
              "(412400.0, 434300.0]    118\n",
              "(390500.0, 412400.0]    163\n",
              "(368600.0, 390500.0]    114\n",
              "(346700.0, 368600.0]    172\n",
              "(324800.0, 346700.0]    142\n",
              "(302900.0, 324800.0]    166\n",
              "(281000.0, 302900.0]    392\n",
              "(259100.0, 281000.0]    478\n",
              "(237200.0, 259100.0]    236\n",
              "(215300.0, 237200.0]    326\n",
              "(193400.0, 215300.0]    294\n",
              "(171500.0, 193400.0]    304\n",
              "(149600.0, 171500.0]    311\n",
              "(127700.0, 149600.0]    340\n",
              "(105800.0, 127700.0]    354\n",
              "(83900.0, 105800.0]     199\n",
              "(61561.999, 83900.0]    161\n",
              "Name: lastpayment_amountavg, dtype: int64"
            ]
          },
          "metadata": {
            "tags": []
          },
          "execution_count": 51
        }
      ]
    },
    {
      "cell_type": "code",
      "metadata": {
        "colab": {
          "base_uri": "https://localhost:8080/"
        },
        "id": "6zaww9bQslLe",
        "outputId": "5a1fb5e5-9dec-4e27-b647-465e2fa73b15"
      },
      "source": [
        "# borrower who paid loan amount and his Last Payment Amount Average are Bounced\n",
        "notdefault_bounced = industry_notdefault[industry_notdefault['lastpayment_status'] == 'Bounced']\n",
        "notdefault_bounced['lastpayment_amountavg'].value_counts(bins = 20).sort_index(ascending = False)"
      ],
      "execution_count": 52,
      "outputs": [
        {
          "output_type": "execute_result",
          "data": {
            "text/plain": [
              "(478100.0, 500000.0]    127\n",
              "(456200.0, 478100.0]    164\n",
              "(434300.0, 456200.0]    176\n",
              "(412400.0, 434300.0]    118\n",
              "(390500.0, 412400.0]    165\n",
              "(368600.0, 390500.0]    134\n",
              "(346700.0, 368600.0]    199\n",
              "(324800.0, 346700.0]    156\n",
              "(302900.0, 324800.0]    169\n",
              "(281000.0, 302900.0]    382\n",
              "(259100.0, 281000.0]    436\n",
              "(237200.0, 259100.0]    271\n",
              "(215300.0, 237200.0]    286\n",
              "(193400.0, 215300.0]    287\n",
              "(171500.0, 193400.0]    281\n",
              "(149600.0, 171500.0]    284\n",
              "(127700.0, 149600.0]    334\n",
              "(105800.0, 127700.0]    349\n",
              "(83900.0, 105800.0]     209\n",
              "(61561.999, 83900.0]    186\n",
              "Name: lastpayment_amountavg, dtype: int64"
            ]
          },
          "metadata": {
            "tags": []
          },
          "execution_count": 52
        }
      ]
    },
    {
      "cell_type": "code",
      "metadata": {
        "id": "F5HWY6Xj0laI",
        "colab": {
          "base_uri": "https://localhost:8080/"
        },
        "outputId": "cc9489d2-6b75-4b8f-d199-31b7c9b9140e"
      },
      "source": [
        "# borrower who default loan payment and his Last Payment Amount Average are Cleared\n",
        "default_cleared = industry_default[industry_default['lastpayment_status'] == 'Cleared']\n",
        "default_cleared['lastpayment_amountavg'].value_counts(bins = 20).sort_index(ascending = False)"
      ],
      "execution_count": 53,
      "outputs": [
        {
          "output_type": "execute_result",
          "data": {
            "text/plain": [
              "(478100.0, 500000.0]    176\n",
              "(456200.0, 478100.0]    137\n",
              "(434300.0, 456200.0]    176\n",
              "(412400.0, 434300.0]    122\n",
              "(390500.0, 412400.0]    151\n",
              "(368600.0, 390500.0]    107\n",
              "(346700.0, 368600.0]    200\n",
              "(324800.0, 346700.0]    147\n",
              "(302900.0, 324800.0]    186\n",
              "(281000.0, 302900.0]    431\n",
              "(259100.0, 281000.0]    461\n",
              "(237200.0, 259100.0]    285\n",
              "(215300.0, 237200.0]    299\n",
              "(193400.0, 215300.0]    290\n",
              "(171500.0, 193400.0]    297\n",
              "(149600.0, 171500.0]    318\n",
              "(127700.0, 149600.0]    322\n",
              "(105800.0, 127700.0]    346\n",
              "(83900.0, 105800.0]     192\n",
              "(61561.999, 83900.0]    168\n",
              "Name: lastpayment_amountavg, dtype: int64"
            ]
          },
          "metadata": {
            "tags": []
          },
          "execution_count": 53
        }
      ]
    },
    {
      "cell_type": "code",
      "metadata": {
        "colab": {
          "base_uri": "https://localhost:8080/"
        },
        "id": "HDKaEZBDuFoI",
        "outputId": "93915e7f-9a2f-4f2d-e8ea-f57d4e9ca372"
      },
      "source": [
        "# borrower who default loan payment and his Last Payment Amount Average are Bounced\n",
        "default_bounced = industry_default[industry_default['lastpayment_status'] == 'Bounced']\n",
        "default_bounced['lastpayment_amountavg'].value_counts(bins = 20).sort_index(ascending = False)"
      ],
      "execution_count": 54,
      "outputs": [
        {
          "output_type": "execute_result",
          "data": {
            "text/plain": [
              "(478100.0, 500000.0]    138\n",
              "(456200.0, 478100.0]    132\n",
              "(434300.0, 456200.0]    173\n",
              "(412400.0, 434300.0]    105\n",
              "(390500.0, 412400.0]    144\n",
              "(368600.0, 390500.0]    101\n",
              "(346700.0, 368600.0]    179\n",
              "(324800.0, 346700.0]    148\n",
              "(302900.0, 324800.0]    175\n",
              "(281000.0, 302900.0]    448\n",
              "(259100.0, 281000.0]    439\n",
              "(237200.0, 259100.0]    250\n",
              "(215300.0, 237200.0]    308\n",
              "(193400.0, 215300.0]    310\n",
              "(171500.0, 193400.0]    276\n",
              "(149600.0, 171500.0]    319\n",
              "(127700.0, 149600.0]    356\n",
              "(105800.0, 127700.0]    350\n",
              "(83900.0, 105800.0]     218\n",
              "(61561.999, 83900.0]    182\n",
              "Name: lastpayment_amountavg, dtype: int64"
            ]
          },
          "metadata": {
            "tags": []
          },
          "execution_count": 54
        }
      ]
    },
    {
      "cell_type": "code",
      "metadata": {
        "colab": {
          "base_uri": "https://localhost:8080/"
        },
        "id": "RUengOTXc2im",
        "outputId": "55f6d604-1ccd-45c8-8100-1b1f560692e5"
      },
      "source": [
        "# Cleared\n",
        "default_cleared['lastpayment_amountavg'].value_counts(bins = 20).sort_index(ascending = False).values > notdefault_cleared['lastpayment_amountavg'].value_counts(bins = 20).sort_index(ascending = False).values"
      ],
      "execution_count": 55,
      "outputs": [
        {
          "output_type": "execute_result",
          "data": {
            "text/plain": [
              "array([ True,  True, False,  True, False, False,  True,  True,  True,\n",
              "        True, False,  True, False, False, False,  True, False, False,\n",
              "       False,  True])"
            ]
          },
          "metadata": {
            "tags": []
          },
          "execution_count": 55
        }
      ]
    },
    {
      "cell_type": "code",
      "metadata": {
        "colab": {
          "base_uri": "https://localhost:8080/"
        },
        "id": "lCQKVzCNuWP5",
        "outputId": "08c2c456-d30c-4e74-b2cf-d61cd169177a"
      },
      "source": [
        "# Bounced\n",
        "default_bounced['lastpayment_amountavg'].value_counts(bins = 20).sort_index(ascending = False).values > notdefault_bounced['lastpayment_amountavg'].value_counts(bins = 20).sort_index(ascending = False).values"
      ],
      "execution_count": 56,
      "outputs": [
        {
          "output_type": "execute_result",
          "data": {
            "text/plain": [
              "array([ True, False, False, False, False, False, False, False,  True,\n",
              "        True,  True, False,  True,  True, False,  True,  True,  True,\n",
              "        True, False])"
            ]
          },
          "metadata": {
            "tags": []
          },
          "execution_count": 56
        }
      ]
    },
    {
      "cell_type": "markdown",
      "metadata": {
        "id": "XG53ho9bb7vH"
      },
      "source": [
        "Defaulter are more in number on higher Last Payment Amount Average bin values getting Cleared and are lesser in number on higher Last Payment Amount Average bin values getting Bounced compare to non-defaulter"
      ]
    },
    {
      "cell_type": "code",
      "metadata": {
        "id": "sQYbegTk0-An",
        "colab": {
          "base_uri": "https://localhost:8080/"
        },
        "outputId": "158c94c3-ea18-4cd4-8e81-b45d801c681d"
      },
      "source": [
        "# Default, dependent feature and Number of Past Returns, independent feature\n",
        "\n",
        "# borrower who paid loan amount and his Number of Past Returns\n",
        "industry_notdefault['totalnum_pastreturns'].value_counts()"
      ],
      "execution_count": 57,
      "outputs": [
        {
          "output_type": "execute_result",
          "data": {
            "text/plain": [
              "0    2402\n",
              "1    2373\n",
              "2    2357\n",
              "3    2318\n",
              "Name: totalnum_pastreturns, dtype: int64"
            ]
          },
          "metadata": {
            "tags": []
          },
          "execution_count": 57
        }
      ]
    },
    {
      "cell_type": "code",
      "metadata": {
        "id": "GRN09EPl1GBB",
        "colab": {
          "base_uri": "https://localhost:8080/"
        },
        "outputId": "e179c869-685e-4b71-a6b2-8af4df576cee"
      },
      "source": [
        "# borrower who default loan payment and his Number of Past Returns\n",
        "industry_default['totalnum_pastreturns'].value_counts()"
      ],
      "execution_count": 58,
      "outputs": [
        {
          "output_type": "execute_result",
          "data": {
            "text/plain": [
              "0    2419\n",
              "2    2413\n",
              "3    2392\n",
              "1    2338\n",
              "Name: totalnum_pastreturns, dtype: int64"
            ]
          },
          "metadata": {
            "tags": []
          },
          "execution_count": 58
        }
      ]
    },
    {
      "cell_type": "code",
      "metadata": {
        "colab": {
          "base_uri": "https://localhost:8080/"
        },
        "id": "zeVbgFl2zHKK",
        "outputId": "ec3ba4d2-cb4d-429a-bf73-51785359ece6"
      },
      "source": [
        "industry_default['totalnum_pastreturns'].value_counts().values > industry_notdefault['totalnum_pastreturns'].value_counts().values"
      ],
      "execution_count": 59,
      "outputs": [
        {
          "output_type": "execute_result",
          "data": {
            "text/plain": [
              "array([ True,  True,  True,  True])"
            ]
          },
          "metadata": {
            "tags": []
          },
          "execution_count": 59
        }
      ]
    },
    {
      "cell_type": "markdown",
      "metadata": {
        "id": "UcjapJ4kerF2"
      },
      "source": [
        "Defaulter is higher in number in zero Total Number of Past Returns but also higher in number from one to three Total Number of Past Returns compare to non-defaulter"
      ]
    },
    {
      "cell_type": "code",
      "metadata": {
        "id": "j1in0Xjw1kKx",
        "colab": {
          "base_uri": "https://localhost:8080/"
        },
        "outputId": "f4b9715d-726e-4cfb-a86a-ff0185d61f88"
      },
      "source": [
        "# Default, dependent feature and Return Amount Average, independent feature\n",
        "\n",
        "# borrower who paid loan amount and his Return Amount Average\n",
        "industry_notdefault['returnamountavg'].value_counts(bins = 20).sort_index(ascending = False)"
      ],
      "execution_count": 60,
      "outputs": [
        {
          "output_type": "execute_result",
          "data": {
            "text/plain": [
              "(225150.0, 237000.0]     926\n",
              "(213300.0, 225150.0]     694\n",
              "(201450.0, 213300.0]     534\n",
              "(189600.0, 201450.0]     450\n",
              "(177750.0, 189600.0]     379\n",
              "(165900.0, 177750.0]     369\n",
              "(154050.0, 165900.0]     321\n",
              "(142200.0, 154050.0]     346\n",
              "(130350.0, 142200.0]     359\n",
              "(118500.0, 130350.0]     362\n",
              "(106650.0, 118500.0]     353\n",
              "(94800.0, 106650.0]      356\n",
              "(82950.0, 94800.0]       399\n",
              "(71100.0, 82950.0]       374\n",
              "(59250.0, 71100.0]       466\n",
              "(47400.0, 59250.0]       356\n",
              "(35550.0, 47400.0]         4\n",
              "(23700.0, 35550.0]         0\n",
              "(11850.0, 23700.0]         0\n",
              "(-237.001, 11850.0]     2402\n",
              "Name: returnamountavg, dtype: int64"
            ]
          },
          "metadata": {
            "tags": []
          },
          "execution_count": 60
        }
      ]
    },
    {
      "cell_type": "code",
      "metadata": {
        "id": "pOQBwVgr1nlu",
        "colab": {
          "base_uri": "https://localhost:8080/"
        },
        "outputId": "92e2e42c-fbd1-4ea7-a070-42d07724aacd"
      },
      "source": [
        "# borrower who default loan payment and his Return Amount Average\n",
        "industry_default['returnamountavg'].value_counts(bins = 20).sort_index(ascending = False)"
      ],
      "execution_count": 61,
      "outputs": [
        {
          "output_type": "execute_result",
          "data": {
            "text/plain": [
              "(225150.0, 237000.0]     924\n",
              "(213300.0, 225150.0]     757\n",
              "(201450.0, 213300.0]     554\n",
              "(189600.0, 201450.0]     482\n",
              "(177750.0, 189600.0]     396\n",
              "(165900.0, 177750.0]     350\n",
              "(154050.0, 165900.0]     310\n",
              "(142200.0, 154050.0]     357\n",
              "(130350.0, 142200.0]     355\n",
              "(118500.0, 130350.0]     352\n",
              "(106650.0, 118500.0]     348\n",
              "(94800.0, 106650.0]      388\n",
              "(82950.0, 94800.0]       376\n",
              "(71100.0, 82950.0]       362\n",
              "(59250.0, 71100.0]       453\n",
              "(47400.0, 59250.0]       374\n",
              "(35550.0, 47400.0]         5\n",
              "(23700.0, 35550.0]         0\n",
              "(11850.0, 23700.0]         0\n",
              "(-237.001, 11850.0]     2419\n",
              "Name: returnamountavg, dtype: int64"
            ]
          },
          "metadata": {
            "tags": []
          },
          "execution_count": 61
        }
      ]
    },
    {
      "cell_type": "code",
      "metadata": {
        "colab": {
          "base_uri": "https://localhost:8080/"
        },
        "id": "H9WWqEgwfqaC",
        "outputId": "daeafa6e-4248-4636-989e-d89ee4e65831"
      },
      "source": [
        "(industry_default['returnamountavg'].value_counts(bins = 20).sort_index(ascending = False)).values > (industry_notdefault['returnamountavg'].value_counts(bins = 20).sort_index(ascending = False)).values"
      ],
      "execution_count": 62,
      "outputs": [
        {
          "output_type": "execute_result",
          "data": {
            "text/plain": [
              "array([False,  True,  True,  True,  True, False, False,  True, False,\n",
              "       False, False,  True, False, False, False,  True,  True, False,\n",
              "       False,  True])"
            ]
          },
          "metadata": {
            "tags": []
          },
          "execution_count": 62
        }
      ]
    },
    {
      "cell_type": "markdown",
      "metadata": {
        "id": "PPvx7epUhcEr"
      },
      "source": [
        "Defaulter are less in number on first higher Return Amount Average bin values and also are less in number on many other Return Amount Average bin values compare to non-defaulter"
      ]
    },
    {
      "cell_type": "code",
      "metadata": {
        "colab": {
          "base_uri": "https://localhost:8080/"
        },
        "id": "Ro_BmccYfqSg",
        "outputId": "4651c790-a078-475d-fe8d-99450e1704c2"
      },
      "source": [
        "# Default, dependent feature and Total Receivable Amount, independent feature\n",
        "\n",
        "# borrower who paid loan amount and his Total Receivable Amount\n",
        "industry_notdefault['totalreceivableamount'].value_counts(bins = 20).sort_index(ascending = False)"
      ],
      "execution_count": 63,
      "outputs": [
        {
          "output_type": "execute_result",
          "data": {
            "text/plain": [
              "(151969750.0, 158419000.0]     789\n",
              "(145520500.0, 151969750.0]    1085\n",
              "(139071250.0, 145520500.0]     663\n",
              "(132622000.0, 139071250.0]     486\n",
              "(126172750.0, 132622000.0]     472\n",
              "(119723500.0, 126172750.0]     409\n",
              "(113274250.0, 119723500.0]     415\n",
              "(106825000.0, 113274250.0]     379\n",
              "(100375750.0, 106825000.0]     377\n",
              "(93926500.0, 100375750.0]      376\n",
              "(87477250.0, 93926500.0]       399\n",
              "(81028000.0, 87477250.0]       345\n",
              "(74578750.0, 81028000.0]       380\n",
              "(68129500.0, 74578750.0]       406\n",
              "(61680250.0, 68129500.0]       383\n",
              "(55231000.0, 61680250.0]       412\n",
              "(48781750.0, 55231000.0]       467\n",
              "(42332500.0, 48781750.0]       517\n",
              "(35883250.0, 42332500.0]       528\n",
              "(29305014.999, 35883250.0]     162\n",
              "Name: totalreceivableamount, dtype: int64"
            ]
          },
          "metadata": {
            "tags": []
          },
          "execution_count": 63
        }
      ]
    },
    {
      "cell_type": "code",
      "metadata": {
        "colab": {
          "base_uri": "https://localhost:8080/"
        },
        "id": "jLDFBPbXiqwF",
        "outputId": "9bbfbf36-c775-42e4-920f-23834296bc99"
      },
      "source": [
        "# borrower who default loan payment and his Total Loan Amount\n",
        "industry_default['totalreceivableamount'].value_counts(bins = 20).sort_index(ascending = False)"
      ],
      "execution_count": 64,
      "outputs": [
        {
          "output_type": "execute_result",
          "data": {
            "text/plain": [
              "(151980050.0, 158426000.0]     788\n",
              "(145534100.0, 151980050.0]    1004\n",
              "(139088150.0, 145534100.0]     686\n",
              "(132642200.0, 139088150.0]     518\n",
              "(126196250.0, 132642200.0]     474\n",
              "(119750300.0, 126196250.0]     460\n",
              "(113304350.0, 119750300.0]     422\n",
              "(106858400.0, 113304350.0]     383\n",
              "(100412450.0, 106858400.0]     421\n",
              "(93966500.0, 100412450.0]      358\n",
              "(87520550.0, 93966500.0]       405\n",
              "(81074600.0, 87520550.0]       358\n",
              "(74628650.0, 81074600.0]       378\n",
              "(68182700.0, 74628650.0]       406\n",
              "(61736750.0, 68182700.0]       412\n",
              "(55290800.0, 61736750.0]       412\n",
              "(48844850.0, 55290800.0]       504\n",
              "(42398900.0, 48844850.0]       522\n",
              "(35952950.0, 42398900.0]       478\n",
              "(29378080.999, 35952950.0]     173\n",
              "Name: totalreceivableamount, dtype: int64"
            ]
          },
          "metadata": {
            "tags": []
          },
          "execution_count": 64
        }
      ]
    },
    {
      "cell_type": "code",
      "metadata": {
        "colab": {
          "base_uri": "https://localhost:8080/"
        },
        "id": "3N3F5bu04FOp",
        "outputId": "4a7330f0-9456-458e-d38d-79bf09d8d555"
      },
      "source": [
        "industry_default['totalreceivableamount'].value_counts(bins = 20).sort_index(ascending = False).index > industry_notdefault['totalreceivableamount'].value_counts(bins = 20).sort_index(ascending = False).index"
      ],
      "execution_count": 65,
      "outputs": [
        {
          "output_type": "execute_result",
          "data": {
            "text/plain": [
              "array([ True,  True,  True,  True,  True,  True,  True,  True,  True,\n",
              "        True,  True,  True,  True,  True,  True,  True,  True,  True,\n",
              "        True,  True])"
            ]
          },
          "metadata": {
            "tags": []
          },
          "execution_count": 65
        }
      ]
    },
    {
      "cell_type": "code",
      "metadata": {
        "colab": {
          "base_uri": "https://localhost:8080/"
        },
        "id": "aVLtQke-4fkI",
        "outputId": "51d7ad48-ede2-49bd-f1a8-71888ad15f09"
      },
      "source": [
        "industry_default['totalreceivableamount'].value_counts(bins = 20).sort_index(ascending = False).values > industry_notdefault['totalreceivableamount'].value_counts(bins = 20).sort_index(ascending = False).values"
      ],
      "execution_count": 66,
      "outputs": [
        {
          "output_type": "execute_result",
          "data": {
            "text/plain": [
              "array([False, False,  True,  True,  True,  True,  True,  True,  True,\n",
              "       False,  True,  True, False, False,  True, False,  True,  True,\n",
              "       False,  True])"
            ]
          },
          "metadata": {
            "tags": []
          },
          "execution_count": 66
        }
      ]
    },
    {
      "cell_type": "markdown",
      "metadata": {
        "id": "9fWqPw0r4zsn"
      },
      "source": [
        "Defaulter Total Receivable Amount is higher compare to non-defaulter"
      ]
    },
    {
      "cell_type": "code",
      "metadata": {
        "colab": {
          "base_uri": "https://localhost:8080/"
        },
        "id": "bFFmSCOv9pRW",
        "outputId": "d3970d15-7173-4869-be04-e42b6e352038"
      },
      "source": [
        "# Default, dependent feature and Total Payable Amount, independent feature\n",
        "\n",
        "# borrower who paid loan amount and his Total Payable Amount\n",
        "industry_notdefault['totalpayableamount'].value_counts(bins = 20).sort_index(ascending = False)"
      ],
      "execution_count": 67,
      "outputs": [
        {
          "output_type": "execute_result",
          "data": {
            "text/plain": [
              "(150882100.0, 157180000.0]    896\n",
              "(144584200.0, 150882100.0]    958\n",
              "(138286300.0, 144584200.0]    584\n",
              "(131988400.0, 138286300.0]    495\n",
              "(125690500.0, 131988400.0]    450\n",
              "(119392600.0, 125690500.0]    443\n",
              "(113094700.0, 119392600.0]    439\n",
              "(106796800.0, 113094700.0]    385\n",
              "(100498900.0, 106796800.0]    359\n",
              "(94201000.0, 100498900.0]     358\n",
              "(87903100.0, 94201000.0]      357\n",
              "(81605200.0, 87903100.0]      393\n",
              "(75307300.0, 81605200.0]      426\n",
              "(69009400.0, 75307300.0]      401\n",
              "(62711500.0, 69009400.0]      394\n",
              "(56413600.0, 62711500.0]      387\n",
              "(50115700.0, 56413600.0]      441\n",
              "(43817800.0, 50115700.0]      477\n",
              "(37519900.0, 43817800.0]      509\n",
              "(31096041.999, 37519900.0]    298\n",
              "Name: totalpayableamount, dtype: int64"
            ]
          },
          "metadata": {
            "tags": []
          },
          "execution_count": 67
        }
      ]
    },
    {
      "cell_type": "code",
      "metadata": {
        "colab": {
          "base_uri": "https://localhost:8080/"
        },
        "id": "SuKyYQYC9xkU",
        "outputId": "6581041f-45b4-41f6-b953-f73c21d00522"
      },
      "source": [
        "# borrower who default loan payment and his Total Payable Amount\n",
        "industry_default['totalpayableamount'].value_counts(bins = 20).sort_index(ascending = False)"
      ],
      "execution_count": 68,
      "outputs": [
        {
          "output_type": "execute_result",
          "data": {
            "text/plain": [
              "(150872150.0, 157178000.0]    972\n",
              "(144566300.0, 150872150.0]    897\n",
              "(138260450.0, 144566300.0]    634\n",
              "(131954600.0, 138260450.0]    512\n",
              "(125648750.0, 131954600.0]    472\n",
              "(119342900.0, 125648750.0]    418\n",
              "(113037050.0, 119342900.0]    418\n",
              "(106731200.0, 113037050.0]    399\n",
              "(100425350.0, 106731200.0]    388\n",
              "(94119500.0, 100425350.0]     385\n",
              "(87813650.0, 94119500.0]      356\n",
              "(81507800.0, 87813650.0]      352\n",
              "(75201950.0, 81507800.0]      377\n",
              "(68896100.0, 75201950.0]      409\n",
              "(62590250.0, 68896100.0]      406\n",
              "(56284400.0, 62590250.0]      430\n",
              "(49978550.0, 56284400.0]      457\n",
              "(43672700.0, 49978550.0]      483\n",
              "(37366850.0, 43672700.0]      513\n",
              "(30934882.999, 37366850.0]    284\n",
              "Name: totalpayableamount, dtype: int64"
            ]
          },
          "metadata": {
            "tags": []
          },
          "execution_count": 68
        }
      ]
    },
    {
      "cell_type": "code",
      "metadata": {
        "colab": {
          "base_uri": "https://localhost:8080/"
        },
        "id": "5jah_TRG_Jlq",
        "outputId": "6e7bfdbf-40ff-4615-c1d0-53a93313c5ad"
      },
      "source": [
        "industry_default['totalpayableamount'].value_counts(bins = 20).sort_index(ascending = False).index > industry_notdefault['totalpayableamount'].value_counts(bins = 20).sort_index(ascending = False).index"
      ],
      "execution_count": 69,
      "outputs": [
        {
          "output_type": "execute_result",
          "data": {
            "text/plain": [
              "array([False, False, False, False, False, False, False, False, False,\n",
              "       False, False, False, False, False, False, False, False, False,\n",
              "       False, False])"
            ]
          },
          "metadata": {
            "tags": []
          },
          "execution_count": 69
        }
      ]
    },
    {
      "cell_type": "code",
      "metadata": {
        "colab": {
          "base_uri": "https://localhost:8080/"
        },
        "id": "HJ1mH0Pt_Rvb",
        "outputId": "9c949cba-7bd1-40e6-b2fa-2bf1c1e10eba"
      },
      "source": [
        "industry_default['totalpayableamount'].value_counts(bins = 20).sort_index(ascending = False).values > industry_notdefault['totalpayableamount'].value_counts(bins = 20).sort_index(ascending = False).values"
      ],
      "execution_count": 70,
      "outputs": [
        {
          "output_type": "execute_result",
          "data": {
            "text/plain": [
              "array([ True, False,  True,  True,  True, False, False,  True,  True,\n",
              "        True, False, False, False,  True,  True,  True,  True,  True,\n",
              "        True, False])"
            ]
          },
          "metadata": {
            "tags": []
          },
          "execution_count": 70
        }
      ]
    },
    {
      "cell_type": "markdown",
      "metadata": {
        "id": "cJU1p5wO_dFH"
      },
      "source": [
        "Defaulter Total Payable Amount is less compare to non-defaulter but then the count is more compartively"
      ]
    },
    {
      "cell_type": "markdown",
      "metadata": {
        "id": "f44F8LDucVSW"
      },
      "source": [
        "From all the above output we cannot conclude any factor that can be the cause to lead to default of loan amount payment.  \n",
        "\n",
        "  * Yes the Credit Transaction Amount Average is more of defaulter compare to non-defaulter  \n",
        "  * But then Account Balance Average and Net Revenue is more and good respectively compare to non-defaulter too. And also the Total Loan Amount of defaulter is less compare to non-defaulter  \n",
        "  * Defaulter are higher in number on both having and not having Any Litigation compare to non-defaulter  \n",
        "  * Defaulter is higher in number in Cleared Last Payment Status, but are also higher in number in Bounced Last Payment Status compare to non-defaulter \n",
        "  * But then Defaulter are more in number on higher Last Payment Amount Average bin values getting Cleared and are lesser in number on higher Last Payment Amount Average bin values getting Bounced compare to non-defaulter  \n",
        "  * Defaulter is higher in number in zero Total Number of Past Returns but also higher in number from one to three Total Number of Past Returns compare to non-defaulter  \n",
        "  * But then Defaulter are less in number on first higher Return Amount Average bin values and also are less in number on many other Return Amount Average bin values compare to non-defaulter  \n",
        "  * Defaulter Total Receivable Amount is higher compare to non-defaulter  \n",
        "  * Defaulter Total Payable Amount is less compare to non-defaulter but then the count is more compartively  \n",
        "\n",
        "So we need to collect more information for our analysis to find the likely reason that can lead to default of loan amount payment  \n",
        "\n"
      ]
    },
    {
      "cell_type": "markdown",
      "metadata": {
        "id": "uiOmDZj72Hd2"
      },
      "source": [
        "Besides studies shows that the most likely reason of default of loan amount payment as below. The below content has been taken from 'An Empirical Analysis of the Loan Default Rate of Microfinance Institutions' Vol.6, No.22, 2014 and it can be found [here](<https://core.ac.uk/download/pdf/234625689.pdf>). \n",
        "So as mentioned in this pdf:  \n",
        "\n",
        "Berger and DeYoung, (1995) indicated that, one major problem which the banks in India are facing is the problem of recovery and overdue of loans. The reasons behind this may vary for different financial institutions as it depends upon the respective nature of loans. Here an attempt is made to find out some of the causes of default of loans due to which financial institutions are facing the problems of overdue of loans. These reasons may be useful for the Banks for the better recovery of loans in future. After surveying different banks, the following were identified to be the main causes of default of loans from industrial sector: improper selection of an entrepreneur, deficient analysis of project viability, inadequacy of collateral security/equitable mortgage against loans, unrealistic terms and schedule of repayment, lack of follow up measures and default due to natural calamities. Ahmad, (1997), mentioned some important factors that cause loan defaults which include; lack of willingness to pay loans coupled with diversion of funds by borrowers, willful negligence and improper appraisal by Credit Officers.  \n",
        "\n",
        "According to Gorter and Bloem (2002) unsettled loans are mainly caused by an inevitable number of wrong economic decisions by individuals and plain bad luck (inclement weather, unexpected price changes for certain products, etc.). Under such circumstances, the holders of loans can make an allowance for a normal share of nonperformance in the form of bad loan provisions, or they may spread the risk by taking out insurance.  \n",
        "\n",
        "Moreover, in a recent study of Mortgage loan defaults, the most frequently cited causes of defaults were curtailment of income (36%), excessive obligations (19%), and unemployment (8%), illness of principal mortgagor or family member (6%) and marital difficulties (3%) (Merritt, 2009).  \n",
        "\n",
        "Okpugie (2009) also indicated that, high interest charged by the microfinance banks has been discovered to be the reason behind the alarming default. A microfinance loan is a facility granted by a microfinance bank to an individual or a group of borrowers, whose principal source of income is derived from business activities involving the production or sale of goods and services.  \n",
        "\n",
        "\n"
      ]
    },
    {
      "cell_type": "markdown",
      "metadata": {
        "id": "HII0WiA_fO0M"
      },
      "source": [
        "# Data preprocessing\n"
      ]
    },
    {
      "cell_type": "markdown",
      "metadata": {
        "id": "w7CtZ7EFfaM5"
      },
      "source": [
        "Converting object dtype columns to numeric dtype"
      ]
    },
    {
      "cell_type": "code",
      "metadata": {
        "id": "cw0Wfb_-exDb"
      },
      "source": [
        "for col in object_cols:\n",
        "  loanallotment_df[col] = loanallotment_df[col].astype('category').cat.codes"
      ],
      "execution_count": 71,
      "outputs": []
    },
    {
      "cell_type": "code",
      "metadata": {
        "colab": {
          "base_uri": "https://localhost:8080/"
        },
        "id": "40wTiKO-gJu9",
        "outputId": "dc442f6b-1aae-407c-892a-29ff26bd5e80"
      },
      "source": [
        "loanallotment_df.info()"
      ],
      "execution_count": 72,
      "outputs": [
        {
          "output_type": "stream",
          "text": [
            "<class 'pandas.core.frame.DataFrame'>\n",
            "RangeIndex: 19012 entries, 0 to 19011\n",
            "Data columns (total 17 columns):\n",
            " #   Column                       Non-Null Count  Dtype         \n",
            "---  ------                       --------------  -----         \n",
            " 0   period                       19012 non-null  datetime64[ns]\n",
            " 1   account_type                 19012 non-null  int8          \n",
            " 2   industry_type                19012 non-null  int8          \n",
            " 3   counterparty_industrytype    19012 non-null  int8          \n",
            " 4   anylitigation                19012 non-null  int8          \n",
            " 5   lastpayment_date             19012 non-null  datetime64[ns]\n",
            " 6   lastpayment_status           19012 non-null  int8          \n",
            " 7   lastpayment_amountavg        19012 non-null  int64         \n",
            " 8   accountbalanceavg            19012 non-null  int64         \n",
            " 9   credittransaction_amountavg  19012 non-null  int64         \n",
            " 10  netrevenue                   19012 non-null  int64         \n",
            " 11  currentratio                 19012 non-null  float64       \n",
            " 12  totalnum_pastreturns         19012 non-null  int64         \n",
            " 13  returnamountavg              19012 non-null  int64         \n",
            " 14  totalreceivableamount        19012 non-null  int64         \n",
            " 15  totalpayableamount           19012 non-null  int64         \n",
            " 16  default                      19012 non-null  int8          \n",
            "dtypes: datetime64[ns](2), float64(1), int64(8), int8(6)\n",
            "memory usage: 1.7 MB\n"
          ],
          "name": "stdout"
        }
      ]
    },
    {
      "cell_type": "code",
      "metadata": {
        "colab": {
          "base_uri": "https://localhost:8080/",
          "height": 317
        },
        "id": "oEjbUFETgONO",
        "outputId": "2a18e7d9-f792-459b-ff02-925c3cb6a717"
      },
      "source": [
        "# basic statistical details\n",
        "loanallotment_df.describe()"
      ],
      "execution_count": 73,
      "outputs": [
        {
          "output_type": "execute_result",
          "data": {
            "text/html": [
              "<div>\n",
              "<style scoped>\n",
              "    .dataframe tbody tr th:only-of-type {\n",
              "        vertical-align: middle;\n",
              "    }\n",
              "\n",
              "    .dataframe tbody tr th {\n",
              "        vertical-align: top;\n",
              "    }\n",
              "\n",
              "    .dataframe thead th {\n",
              "        text-align: right;\n",
              "    }\n",
              "</style>\n",
              "<table border=\"1\" class=\"dataframe\">\n",
              "  <thead>\n",
              "    <tr style=\"text-align: right;\">\n",
              "      <th></th>\n",
              "      <th>account_type</th>\n",
              "      <th>industry_type</th>\n",
              "      <th>counterparty_industrytype</th>\n",
              "      <th>anylitigation</th>\n",
              "      <th>lastpayment_status</th>\n",
              "      <th>lastpayment_amountavg</th>\n",
              "      <th>accountbalanceavg</th>\n",
              "      <th>credittransaction_amountavg</th>\n",
              "      <th>netrevenue</th>\n",
              "      <th>currentratio</th>\n",
              "      <th>totalnum_pastreturns</th>\n",
              "      <th>returnamountavg</th>\n",
              "      <th>totalreceivableamount</th>\n",
              "      <th>totalpayableamount</th>\n",
              "      <th>default</th>\n",
              "    </tr>\n",
              "  </thead>\n",
              "  <tbody>\n",
              "    <tr>\n",
              "      <th>count</th>\n",
              "      <td>19012.000000</td>\n",
              "      <td>19012.000000</td>\n",
              "      <td>19012.000000</td>\n",
              "      <td>19012.000000</td>\n",
              "      <td>19012.000000</td>\n",
              "      <td>19012.000000</td>\n",
              "      <td>1.901200e+04</td>\n",
              "      <td>1.901200e+04</td>\n",
              "      <td>1.901200e+04</td>\n",
              "      <td>19012.000000</td>\n",
              "      <td>19012.000000</td>\n",
              "      <td>19012.000000</td>\n",
              "      <td>1.901200e+04</td>\n",
              "      <td>1.901200e+04</td>\n",
              "      <td>19012.000000</td>\n",
              "    </tr>\n",
              "    <tr>\n",
              "      <th>mean</th>\n",
              "      <td>0.408321</td>\n",
              "      <td>4.469335</td>\n",
              "      <td>4.408900</td>\n",
              "      <td>0.502209</td>\n",
              "      <td>0.502209</td>\n",
              "      <td>252682.200715</td>\n",
              "      <td>1.917492e+07</td>\n",
              "      <td>2.608428e+07</td>\n",
              "      <td>3.203578e+07</td>\n",
              "      <td>1.502712</td>\n",
              "      <td>1.492794</td>\n",
              "      <td>115209.499264</td>\n",
              "      <td>1.023523e+08</td>\n",
              "      <td>1.017531e+08</td>\n",
              "      <td>0.502946</td>\n",
              "    </tr>\n",
              "    <tr>\n",
              "      <th>std</th>\n",
              "      <td>0.491536</td>\n",
              "      <td>2.922122</td>\n",
              "      <td>2.945575</td>\n",
              "      <td>0.500008</td>\n",
              "      <td>0.500008</td>\n",
              "      <td>113448.539592</td>\n",
              "      <td>7.313928e+06</td>\n",
              "      <td>8.366392e+06</td>\n",
              "      <td>1.269638e+07</td>\n",
              "      <td>0.287630</td>\n",
              "      <td>1.119216</td>\n",
              "      <td>84269.714648</td>\n",
              "      <td>3.918255e+07</td>\n",
              "      <td>3.886944e+07</td>\n",
              "      <td>0.500004</td>\n",
              "    </tr>\n",
              "    <tr>\n",
              "      <th>min</th>\n",
              "      <td>0.000000</td>\n",
              "      <td>0.000000</td>\n",
              "      <td>0.000000</td>\n",
              "      <td>0.000000</td>\n",
              "      <td>0.000000</td>\n",
              "      <td>62000.000000</td>\n",
              "      <td>6.049000e+06</td>\n",
              "      <td>6.520000e+06</td>\n",
              "      <td>1.911000e+06</td>\n",
              "      <td>1.000000</td>\n",
              "      <td>0.000000</td>\n",
              "      <td>0.000000</td>\n",
              "      <td>2.943400e+07</td>\n",
              "      <td>3.106100e+07</td>\n",
              "      <td>0.000000</td>\n",
              "    </tr>\n",
              "    <tr>\n",
              "      <th>25%</th>\n",
              "      <td>0.000000</td>\n",
              "      <td>2.000000</td>\n",
              "      <td>2.000000</td>\n",
              "      <td>0.000000</td>\n",
              "      <td>0.000000</td>\n",
              "      <td>158000.000000</td>\n",
              "      <td>1.246400e+07</td>\n",
              "      <td>1.959675e+07</td>\n",
              "      <td>2.173200e+07</td>\n",
              "      <td>1.250000</td>\n",
              "      <td>0.000000</td>\n",
              "      <td>0.000000</td>\n",
              "      <td>6.658000e+07</td>\n",
              "      <td>6.629900e+07</td>\n",
              "      <td>0.000000</td>\n",
              "    </tr>\n",
              "    <tr>\n",
              "      <th>50%</th>\n",
              "      <td>0.000000</td>\n",
              "      <td>4.000000</td>\n",
              "      <td>4.000000</td>\n",
              "      <td>1.000000</td>\n",
              "      <td>1.000000</td>\n",
              "      <td>247000.000000</td>\n",
              "      <td>1.977550e+07</td>\n",
              "      <td>2.656700e+07</td>\n",
              "      <td>3.474350e+07</td>\n",
              "      <td>1.500000</td>\n",
              "      <td>1.000000</td>\n",
              "      <td>120000.000000</td>\n",
              "      <td>1.062630e+08</td>\n",
              "      <td>1.054840e+08</td>\n",
              "      <td>1.000000</td>\n",
              "    </tr>\n",
              "    <tr>\n",
              "      <th>75%</th>\n",
              "      <td>1.000000</td>\n",
              "      <td>7.000000</td>\n",
              "      <td>7.000000</td>\n",
              "      <td>1.000000</td>\n",
              "      <td>1.000000</td>\n",
              "      <td>324000.000000</td>\n",
              "      <td>2.623625e+07</td>\n",
              "      <td>3.256525e+07</td>\n",
              "      <td>4.350800e+07</td>\n",
              "      <td>1.750000</td>\n",
              "      <td>2.000000</td>\n",
              "      <td>197000.000000</td>\n",
              "      <td>1.404152e+08</td>\n",
              "      <td>1.394300e+08</td>\n",
              "      <td>1.000000</td>\n",
              "    </tr>\n",
              "    <tr>\n",
              "      <th>max</th>\n",
              "      <td>1.000000</td>\n",
              "      <td>9.000000</td>\n",
              "      <td>9.000000</td>\n",
              "      <td>1.000000</td>\n",
              "      <td>1.000000</td>\n",
              "      <td>500000.000000</td>\n",
              "      <td>2.980700e+07</td>\n",
              "      <td>4.307800e+07</td>\n",
              "      <td>4.922700e+07</td>\n",
              "      <td>2.000000</td>\n",
              "      <td>3.000000</td>\n",
              "      <td>237000.000000</td>\n",
              "      <td>1.584260e+08</td>\n",
              "      <td>1.571800e+08</td>\n",
              "      <td>1.000000</td>\n",
              "    </tr>\n",
              "  </tbody>\n",
              "</table>\n",
              "</div>"
            ],
            "text/plain": [
              "       account_type  industry_type  ...  totalpayableamount       default\n",
              "count  19012.000000   19012.000000  ...        1.901200e+04  19012.000000\n",
              "mean       0.408321       4.469335  ...        1.017531e+08      0.502946\n",
              "std        0.491536       2.922122  ...        3.886944e+07      0.500004\n",
              "min        0.000000       0.000000  ...        3.106100e+07      0.000000\n",
              "25%        0.000000       2.000000  ...        6.629900e+07      0.000000\n",
              "50%        0.000000       4.000000  ...        1.054840e+08      1.000000\n",
              "75%        1.000000       7.000000  ...        1.394300e+08      1.000000\n",
              "max        1.000000       9.000000  ...        1.571800e+08      1.000000\n",
              "\n",
              "[8 rows x 15 columns]"
            ]
          },
          "metadata": {
            "tags": []
          },
          "execution_count": 73
        }
      ]
    },
    {
      "cell_type": "code",
      "metadata": {
        "id": "WCUxzvpsC2yF",
        "colab": {
          "base_uri": "https://localhost:8080/"
        },
        "outputId": "6f01aad1-6490-4aae-c766-4157c82a99ca"
      },
      "source": [
        "df_cols = loanallotment_df.columns.tolist()\n",
        "df_cols.remove('default')\n",
        "df_cols.remove('period')\n",
        "df_cols.remove('lastpayment_date')\n",
        "df_cols"
      ],
      "execution_count": 74,
      "outputs": [
        {
          "output_type": "execute_result",
          "data": {
            "text/plain": [
              "['account_type',\n",
              " 'industry_type',\n",
              " 'counterparty_industrytype',\n",
              " 'anylitigation',\n",
              " 'lastpayment_status',\n",
              " 'lastpayment_amountavg',\n",
              " 'accountbalanceavg',\n",
              " 'credittransaction_amountavg',\n",
              " 'netrevenue',\n",
              " 'currentratio',\n",
              " 'totalnum_pastreturns',\n",
              " 'returnamountavg',\n",
              " 'totalreceivableamount',\n",
              " 'totalpayableamount']"
            ]
          },
          "metadata": {
            "tags": []
          },
          "execution_count": 74
        }
      ]
    },
    {
      "cell_type": "code",
      "metadata": {
        "colab": {
          "base_uri": "https://localhost:8080/",
          "height": 162
        },
        "id": "vayw9wbsgdpx",
        "outputId": "91c57ced-506d-46dd-b3ad-eba03ba6f9b7"
      },
      "source": [
        "# finding the mean relationship of independent variables with the dependent variable\n",
        "\n",
        "loanallotment_df.pivot_table(df_cols, ['default'], aggfunc = np.mean)"
      ],
      "execution_count": 75,
      "outputs": [
        {
          "output_type": "execute_result",
          "data": {
            "text/html": [
              "<div>\n",
              "<style scoped>\n",
              "    .dataframe tbody tr th:only-of-type {\n",
              "        vertical-align: middle;\n",
              "    }\n",
              "\n",
              "    .dataframe tbody tr th {\n",
              "        vertical-align: top;\n",
              "    }\n",
              "\n",
              "    .dataframe thead th {\n",
              "        text-align: right;\n",
              "    }\n",
              "</style>\n",
              "<table border=\"1\" class=\"dataframe\">\n",
              "  <thead>\n",
              "    <tr style=\"text-align: right;\">\n",
              "      <th></th>\n",
              "      <th>account_type</th>\n",
              "      <th>accountbalanceavg</th>\n",
              "      <th>anylitigation</th>\n",
              "      <th>counterparty_industrytype</th>\n",
              "      <th>credittransaction_amountavg</th>\n",
              "      <th>currentratio</th>\n",
              "      <th>industry_type</th>\n",
              "      <th>lastpayment_amountavg</th>\n",
              "      <th>lastpayment_status</th>\n",
              "      <th>netrevenue</th>\n",
              "      <th>returnamountavg</th>\n",
              "      <th>totalnum_pastreturns</th>\n",
              "      <th>totalpayableamount</th>\n",
              "      <th>totalreceivableamount</th>\n",
              "    </tr>\n",
              "    <tr>\n",
              "      <th>default</th>\n",
              "      <th></th>\n",
              "      <th></th>\n",
              "      <th></th>\n",
              "      <th></th>\n",
              "      <th></th>\n",
              "      <th></th>\n",
              "      <th></th>\n",
              "      <th></th>\n",
              "      <th></th>\n",
              "      <th></th>\n",
              "      <th></th>\n",
              "      <th></th>\n",
              "      <th></th>\n",
              "      <th></th>\n",
              "    </tr>\n",
              "  </thead>\n",
              "  <tbody>\n",
              "    <tr>\n",
              "      <th>0</th>\n",
              "      <td>0.409206</td>\n",
              "      <td>1.914487e+07</td>\n",
              "      <td>0.501270</td>\n",
              "      <td>4.457989</td>\n",
              "      <td>2.603979e+07</td>\n",
              "      <td>1.503941</td>\n",
              "      <td>4.460635</td>\n",
              "      <td>253160.423280</td>\n",
              "      <td>0.501270</td>\n",
              "      <td>3.198200e+07</td>\n",
              "      <td>114732.380952</td>\n",
              "      <td>1.485820</td>\n",
              "      <td>1.016686e+08</td>\n",
              "      <td>1.024158e+08</td>\n",
              "    </tr>\n",
              "    <tr>\n",
              "      <th>1</th>\n",
              "      <td>0.407446</td>\n",
              "      <td>1.920462e+07</td>\n",
              "      <td>0.503137</td>\n",
              "      <td>4.360385</td>\n",
              "      <td>2.612825e+07</td>\n",
              "      <td>1.501499</td>\n",
              "      <td>4.477933</td>\n",
              "      <td>252209.579586</td>\n",
              "      <td>0.503137</td>\n",
              "      <td>3.208892e+07</td>\n",
              "      <td>115681.029073</td>\n",
              "      <td>1.499686</td>\n",
              "      <td>1.018366e+08</td>\n",
              "      <td>1.022896e+08</td>\n",
              "    </tr>\n",
              "  </tbody>\n",
              "</table>\n",
              "</div>"
            ],
            "text/plain": [
              "         account_type  ...  totalreceivableamount\n",
              "default                ...                       \n",
              "0            0.409206  ...           1.024158e+08\n",
              "1            0.407446  ...           1.022896e+08\n",
              "\n",
              "[2 rows x 14 columns]"
            ]
          },
          "metadata": {
            "tags": []
          },
          "execution_count": 75
        }
      ]
    },
    {
      "cell_type": "code",
      "metadata": {
        "colab": {
          "base_uri": "https://localhost:8080/",
          "height": 859
        },
        "id": "SrKnBc_EE3kb",
        "outputId": "850bd898-5d44-41a6-a6c8-1f6e3a5f3c42"
      },
      "source": [
        "# finding the correlation between all the variables in the dataset\n",
        "plt.figure(figsize = (15, 12))\n",
        "sns.heatmap(loanallotment_df.corr(), annot = True, cmap = 'RdYlGn')\n",
        "plt.show()"
      ],
      "execution_count": 76,
      "outputs": [
        {
          "output_type": "display_data",
          "data": {
            "image/png": "[encoded data removed]",
            "text/plain": [
              "<Figure size 1080x864 with 2 Axes>"
            ]
          },
          "metadata": {
            "tags": []
          }
        }
      ]
    },
    {
      "cell_type": "markdown",
      "metadata": {
        "id": "xQCrJ5FuN7S6"
      },
      "source": [
        "From above correlation matrix shows  \n",
        "  * The independent features Account Balance Average and Credit Transaction Amount Average are highly positive correlated  \n",
        "  * And the independent features Total Number of Past Returns and Return Amount Average are highly positive correlated  \n",
        "  * The independent features Account Balance Average and  Net Revenue are weakly positive correlated \n",
        "  * And the independent features Credit Transaction Amount Average and Net Revenue are weakly positive correlated \n",
        "  \n",
        "And when independent variables are correlated, means that changes in one variable will make changes in another variable value too. So we have to drop one of the correlated independent feature as it becomes difficult for the model to know the relationship between each independent variable and the dependent variable as the correlated independent variables tend to change together  \n",
        "\n",
        "Also a positive correlation values between independent and dependent variable indicates a positive relation, a value of 1 means highly positive correlation  \n",
        "\n",
        "And a negative correlation values between independent and dependent variable indicates a negative relation, a value of -1 means highly negative correlation\n",
        "\n",
        "\n"
      ]
    },
    {
      "cell_type": "code",
      "metadata": {
        "colab": {
          "base_uri": "https://localhost:8080/"
        },
        "id": "EU08HV-5G-D7",
        "outputId": "e7125a25-4709-48be-bc3a-e645996e8c4a"
      },
      "source": [
        "# understanding the correlation between each independent variable and dependent variable\n",
        "# same output what is shown in heatmap correlation matrix between each independent variable and dependent variable\n",
        "# the below code gives\n",
        "# pearsonr(x, y)\n",
        "# Pearson correlation coefficient and p-value for testing non-correlation\n",
        "# here only pearson correlation is picked\n",
        "import scipy.stats as stats\n",
        "\n",
        "pearson_correlation = {}\n",
        "for col in df_cols:\n",
        "  pearson_correlation[col] = round(stats.pearsonr(loanallotment_df[col], loanallotment_df['default'])[0], 4)\n",
        "\n",
        "\n",
        "pearson_correlation"
      ],
      "execution_count": 77,
      "outputs": [
        {
          "output_type": "execute_result",
          "data": {
            "text/plain": [
              "{'account_type': -0.0018,\n",
              " 'accountbalanceavg': 0.0041,\n",
              " 'anylitigation': 0.0019,\n",
              " 'counterparty_industrytype': -0.0166,\n",
              " 'credittransaction_amountavg': 0.0053,\n",
              " 'currentratio': -0.0042,\n",
              " 'industry_type': 0.003,\n",
              " 'lastpayment_amountavg': -0.0042,\n",
              " 'lastpayment_status': 0.0019,\n",
              " 'netrevenue': 0.0042,\n",
              " 'returnamountavg': 0.0056,\n",
              " 'totalnum_pastreturns': 0.0062,\n",
              " 'totalpayableamount': 0.0022,\n",
              " 'totalreceivableamount': -0.0016}"
            ]
          },
          "metadata": {
            "tags": []
          },
          "execution_count": 77
        }
      ]
    },
    {
      "cell_type": "markdown",
      "metadata": {
        "id": "iur-zN0hx8Ag"
      },
      "source": [
        "# Building and training the datamodel using Machine Learning Classifier Algorithm\n",
        "\n",
        "Preparing training dataset and test dataset"
      ]
    },
    {
      "cell_type": "code",
      "metadata": {
        "id": "VdJqSEEBFdYq"
      },
      "source": [
        "# initializing the X (independent variables) and y (dependent variable)\n",
        "# dropping 'period', 'lastpayment_date' as datetime variable in not required\n",
        "# dropping 'accountbalanceavg', 'netrevenue' as seen in above code and just keeping 'credittransaction_amountavg' instead\n",
        "# dropping 'totalnum_pastreturns' as seen in above code and just keeping 'returnamountavg' instead\n",
        "X = loanallotment_df.drop(['default', 'period', 'lastpayment_date', 'accountbalanceavg', 'netrevenue', 'totalnum_pastreturns'], axis = 1) \n",
        "y = loanallotment_df['default']"
      ],
      "execution_count": 78,
      "outputs": []
    },
    {
      "cell_type": "code",
      "metadata": {
        "id": "ET0BSGnSFaU4"
      },
      "source": [
        "# updating df_cols list\n",
        "df_cols.remove('accountbalanceavg')\n",
        "df_cols.remove('netrevenue')\n",
        "df_cols.remove('totalnum_pastreturns')"
      ],
      "execution_count": 79,
      "outputs": []
    },
    {
      "cell_type": "code",
      "metadata": {
        "id": "uJjdq5EylsxV"
      },
      "source": [
        "# StratifiedShuffleSplit to split X (independent variables) into train and test dataset \n",
        "# and similar y into train and test dependent variable for train and test dataset respectively\n",
        "# StratifiedShuffleSplit returns stratified randomized folds. The folds are made by preserving the percentage of samples for each class, \n",
        "# this ensures there won't be any/quite negligible bias prediction by the model.\n",
        "# splitting train and test dataset with 80:20 ratio with 10 fold.\n",
        "\n",
        "from sklearn.model_selection import StratifiedShuffleSplit\n",
        "\n",
        "strat_shuffledsplit = StratifiedShuffleSplit(n_splits = 10, test_size = 0.2, random_state = 42)\n",
        "for train_index, test_index in strat_shuffledsplit.split(X, y):\n",
        "  X_train, X_test = X.loc[train_index], X.loc[test_index]\n",
        "  y_train, y_test = y.loc[train_index], y.loc[test_index]"
      ],
      "execution_count": 80,
      "outputs": []
    },
    {
      "cell_type": "code",
      "metadata": {
        "id": "UeJNifoRstgT",
        "colab": {
          "base_uri": "https://localhost:8080/"
        },
        "outputId": "5de9dc59-3b5f-4776-ca74-2df536cbcbb4"
      },
      "source": [
        "X_train.shape, y_train.shape, X_test.shape, y_test.shape"
      ],
      "execution_count": 81,
      "outputs": [
        {
          "output_type": "execute_result",
          "data": {
            "text/plain": [
              "((15209, 11), (15209,), (3803, 11), (3803,))"
            ]
          },
          "metadata": {
            "tags": []
          },
          "execution_count": 81
        }
      ]
    },
    {
      "cell_type": "code",
      "metadata": {
        "id": "nff4ZnedvWPh"
      },
      "source": [
        "# normalizing the dataset\n",
        "from sklearn.preprocessing import MinMaxScaler\n",
        "\n",
        "minmaxscaler = MinMaxScaler()\n",
        "minmax_Xtrain = minmaxscaler.fit_transform(X_train)\n",
        "minmax_Xtrain = pd.DataFrame(minmax_Xtrain, columns = df_cols)"
      ],
      "execution_count": 82,
      "outputs": []
    },
    {
      "cell_type": "code",
      "metadata": {
        "id": "GddB_8gnwt9Z"
      },
      "source": [
        "minmax_Xtest = minmaxscaler.transform(X_test)\n",
        "minmax_Xtest =pd.DataFrame(minmax_Xtest, columns = df_cols)"
      ],
      "execution_count": 83,
      "outputs": []
    },
    {
      "cell_type": "code",
      "metadata": {
        "id": "lnhfM4Uexrec"
      },
      "source": [
        "from xgboost import XGBClassifier, plot_importance\n",
        "from sklearn.feature_selection import SelectFromModel \n",
        "from sklearn.model_selection import GridSearchCV"
      ],
      "execution_count": 84,
      "outputs": []
    },
    {
      "cell_type": "code",
      "metadata": {
        "id": "SGBlvfcixy9o",
        "colab": {
          "base_uri": "https://localhost:8080/"
        },
        "outputId": "b4fc0687-4ee3-4521-834b-ce097a363076"
      },
      "source": [
        "# building datamodel using basic XGBClassifier Algorithm\n",
        "xgbmodel = XGBClassifier(random_state = 42)\n",
        "# traning the model\n",
        "xgbmodel.fit(minmax_Xtrain, y_train)"
      ],
      "execution_count": 85,
      "outputs": [
        {
          "output_type": "execute_result",
          "data": {
            "text/plain": [
              "XGBClassifier(base_score=0.5, booster='gbtree', colsample_bylevel=1,\n",
              "              colsample_bynode=1, colsample_bytree=1, gamma=0,\n",
              "              learning_rate=0.1, max_delta_step=0, max_depth=3,\n",
              "              min_child_weight=1, missing=None, n_estimators=100, n_jobs=1,\n",
              "              nthread=None, objective='binary:logistic', random_state=42,\n",
              "              reg_alpha=0, reg_lambda=1, scale_pos_weight=1, seed=None,\n",
              "              silent=None, subsample=1, verbosity=1)"
            ]
          },
          "metadata": {
            "tags": []
          },
          "execution_count": 85
        }
      ]
    },
    {
      "cell_type": "code",
      "metadata": {
        "id": "0uhH_U_zyHZ6",
        "colab": {
          "base_uri": "https://localhost:8080/",
          "height": 335
        },
        "outputId": "0a61f0c2-da3c-4756-cef0-f8eb20f6d112"
      },
      "source": [
        "# best feature selected by XGBClassifier Algorithm\n",
        "print('Feature Importances : ', xgbmodel.feature_importances_)\n",
        "plot_importance(xgbmodel)\n",
        "plt.show()"
      ],
      "execution_count": 86,
      "outputs": [
        {
          "output_type": "stream",
          "text": [
            "Feature Importances :  [0.         0.11804999 0.076778   0.05907426 0.11556925 0.10451991\n",
            " 0.11292075 0.10224491 0.10169306 0.09871183 0.110438  ]\n"
          ],
          "name": "stdout"
        },
        {
          "output_type": "display_data",
          "data": {
            "image/png": "[encoded data removed]",
            "text/plain": [
              "<Figure size 432x288 with 1 Axes>"
            ]
          },
          "metadata": {
            "tags": []
          }
        }
      ]
    },
    {
      "cell_type": "code",
      "metadata": {
        "id": "chaNc6yd1OVF",
        "colab": {
          "base_uri": "https://localhost:8080/"
        },
        "outputId": "1bd336a9-9044-47d4-a02b-ae725ed9067b"
      },
      "source": [
        "# getting the best features and transforming our X_train and X_test features\n",
        "selection = SelectFromModel(xgbmodel)\n",
        "selection.fit(minmax_Xtrain, y_train)\n",
        "\n",
        "# Transform the train and test features\n",
        "selectedminmax_Xtrain = selection.transform(minmax_Xtrain)\n",
        "selectedminmax_Xtest = selection.transform(minmax_Xtest)\n",
        "\n",
        "selectedminmax_Xtrain.shape, selectedminmax_Xtest.shape"
      ],
      "execution_count": 87,
      "outputs": [
        {
          "output_type": "execute_result",
          "data": {
            "text/plain": [
              "((15209, 8), (3803, 8))"
            ]
          },
          "metadata": {
            "tags": []
          },
          "execution_count": 87
        }
      ]
    },
    {
      "cell_type": "code",
      "metadata": {
        "id": "XlnWbLBn2CIQ"
      },
      "source": [
        "# building datamodel using XGBClassifier Algorithm with hyperparameter tuning\n",
        "xgbmodel_select = XGBClassifier(\n",
        "    odjective= 'binary:logistic',\n",
        "    seed = 42\n",
        ")\n",
        "\n",
        "xgbc_parameters_select = {\n",
        "    'n_estimator' : [100, 200, 500, 1000],\n",
        "    'max_depth' : range (2,10,1),\n",
        "    'learning_rate': [0.1, 0.01, 0.05]\n",
        "}\n",
        "\n",
        "xgbc_gs_select = GridSearchCV(\n",
        "    estimator = xgbmodel_select,\n",
        "    param_grid = xgbc_parameters_select,\n",
        "    scoring = 'roc_auc',\n",
        "    n_jobs = 10,\n",
        "    cv = 10,\n",
        "    verbose = True\n",
        ")"
      ],
      "execution_count": 88,
      "outputs": []
    },
    {
      "cell_type": "code",
      "metadata": {
        "colab": {
          "base_uri": "https://localhost:8080/"
        },
        "id": "7zvmzGPUTYlo",
        "outputId": "a31519d3-533b-437a-b3ff-3f09eb883682"
      },
      "source": [
        "import sklearn.metrics\n",
        "sorted(sklearn.metrics.SCORERS.keys()) "
      ],
      "execution_count": 89,
      "outputs": [
        {
          "output_type": "execute_result",
          "data": {
            "text/plain": [
              "['accuracy',\n",
              " 'adjusted_mutual_info_score',\n",
              " 'adjusted_rand_score',\n",
              " 'average_precision',\n",
              " 'balanced_accuracy',\n",
              " 'completeness_score',\n",
              " 'explained_variance',\n",
              " 'f1',\n",
              " 'f1_macro',\n",
              " 'f1_micro',\n",
              " 'f1_samples',\n",
              " 'f1_weighted',\n",
              " 'fowlkes_mallows_score',\n",
              " 'homogeneity_score',\n",
              " 'jaccard',\n",
              " 'jaccard_macro',\n",
              " 'jaccard_micro',\n",
              " 'jaccard_samples',\n",
              " 'jaccard_weighted',\n",
              " 'max_error',\n",
              " 'mutual_info_score',\n",
              " 'neg_brier_score',\n",
              " 'neg_log_loss',\n",
              " 'neg_mean_absolute_error',\n",
              " 'neg_mean_gamma_deviance',\n",
              " 'neg_mean_poisson_deviance',\n",
              " 'neg_mean_squared_error',\n",
              " 'neg_mean_squared_log_error',\n",
              " 'neg_median_absolute_error',\n",
              " 'neg_root_mean_squared_error',\n",
              " 'normalized_mutual_info_score',\n",
              " 'precision',\n",
              " 'precision_macro',\n",
              " 'precision_micro',\n",
              " 'precision_samples',\n",
              " 'precision_weighted',\n",
              " 'r2',\n",
              " 'recall',\n",
              " 'recall_macro',\n",
              " 'recall_micro',\n",
              " 'recall_samples',\n",
              " 'recall_weighted',\n",
              " 'roc_auc',\n",
              " 'roc_auc_ovo',\n",
              " 'roc_auc_ovo_weighted',\n",
              " 'roc_auc_ovr',\n",
              " 'roc_auc_ovr_weighted',\n",
              " 'v_measure_score']"
            ]
          },
          "metadata": {
            "tags": []
          },
          "execution_count": 89
        }
      ]
    },
    {
      "cell_type": "code",
      "metadata": {
        "colab": {
          "base_uri": "https://localhost:8080/"
        },
        "id": "hxlIhAQI2ThW",
        "outputId": "93ad62ec-6935-4b27-86e5-136c4e11b141"
      },
      "source": [
        "# training the model\n",
        "xgbc_gs_select.fit(selectedminmax_Xtrain, y_train)"
      ],
      "execution_count": 90,
      "outputs": [
        {
          "output_type": "stream",
          "text": [
            "Fitting 10 folds for each of 96 candidates, totalling 960 fits\n"
          ],
          "name": "stdout"
        },
        {
          "output_type": "stream",
          "text": [
            "[Parallel(n_jobs=10)]: Using backend LokyBackend with 10 concurrent workers.\n",
            "[Parallel(n_jobs=10)]: Done  30 tasks      | elapsed:   21.6s\n",
            "[Parallel(n_jobs=10)]: Done 180 tasks      | elapsed:  2.5min\n",
            "[Parallel(n_jobs=10)]: Done 430 tasks      | elapsed:  7.3min\n",
            "[Parallel(n_jobs=10)]: Done 780 tasks      | elapsed: 14.2min\n",
            "[Parallel(n_jobs=10)]: Done 960 out of 960 | elapsed: 18.6min finished\n"
          ],
          "name": "stderr"
        },
        {
          "output_type": "execute_result",
          "data": {
            "text/plain": [
              "GridSearchCV(cv=10, error_score=nan,\n",
              "             estimator=XGBClassifier(base_score=0.5, booster='gbtree',\n",
              "                                     colsample_bylevel=1, colsample_bynode=1,\n",
              "                                     colsample_bytree=1, gamma=0,\n",
              "                                     learning_rate=0.1, max_delta_step=0,\n",
              "                                     max_depth=3, min_child_weight=1,\n",
              "                                     missing=None, n_estimators=100, n_jobs=1,\n",
              "                                     nthread=None, objective='binary:logistic',\n",
              "                                     odjective='binary:logistic',\n",
              "                                     random_state=0, reg_alpha=0, reg_lambda=1,\n",
              "                                     scale_pos_weight=1, seed=42, silent=None,\n",
              "                                     subsample=1, verbosity=1),\n",
              "             iid='deprecated', n_jobs=10,\n",
              "             param_grid={'learning_rate': [0.1, 0.01, 0.05],\n",
              "                         'max_depth': range(2, 10),\n",
              "                         'n_estimator': [100, 200, 500, 1000]},\n",
              "             pre_dispatch='2*n_jobs', refit=True, return_train_score=False,\n",
              "             scoring='roc_auc', verbose=True)"
            ]
          },
          "metadata": {
            "tags": []
          },
          "execution_count": 90
        }
      ]
    },
    {
      "cell_type": "code",
      "metadata": {
        "id": "RyiXU3492u21",
        "colab": {
          "base_uri": "https://localhost:8080/"
        },
        "outputId": "df5fbbae-1478-483d-9e8c-71b2411d31aa"
      },
      "source": [
        "# printing which are the best parameter selected\n",
        "xgbc_gs_select.best_estimator_"
      ],
      "execution_count": 91,
      "outputs": [
        {
          "output_type": "execute_result",
          "data": {
            "text/plain": [
              "XGBClassifier(base_score=0.5, booster='gbtree', colsample_bylevel=1,\n",
              "              colsample_bynode=1, colsample_bytree=1, gamma=0,\n",
              "              learning_rate=0.05, max_delta_step=0, max_depth=7,\n",
              "              min_child_weight=1, missing=None, n_estimator=100,\n",
              "              n_estimators=100, n_jobs=1, nthread=None,\n",
              "              objective='binary:logistic', odjective='binary:logistic',\n",
              "              random_state=0, reg_alpha=0, reg_lambda=1, scale_pos_weight=1,\n",
              "              seed=42, silent=None, subsample=1, verbosity=1)"
            ]
          },
          "metadata": {
            "tags": []
          },
          "execution_count": 91
        }
      ]
    },
    {
      "cell_type": "code",
      "metadata": {
        "id": "j6scB8K049pT"
      },
      "source": [
        "# predicting the test dataset\n",
        "xgbc_select_prediction = xgbc_gs_select.predict(selectedminmax_Xtest)"
      ],
      "execution_count": 92,
      "outputs": []
    },
    {
      "cell_type": "markdown",
      "metadata": {
        "id": "iMpNSnmA5w2S"
      },
      "source": [
        "Datamodel evaluation"
      ]
    },
    {
      "cell_type": "code",
      "metadata": {
        "id": "LR_bal4n5Z1w"
      },
      "source": [
        "from sklearn.metrics import confusion_matrix, accuracy_score, roc_auc_score, classification_report"
      ],
      "execution_count": 93,
      "outputs": []
    },
    {
      "cell_type": "code",
      "metadata": {
        "id": "0G5MgjJl5_5D",
        "colab": {
          "base_uri": "https://localhost:8080/"
        },
        "outputId": "a2a8c19a-e14f-459d-df1b-823c084abf18"
      },
      "source": [
        "# confusion matrix\n",
        "tn, fp, fn, tp = confusion_matrix(y_test, xgbc_select_prediction).ravel()     \n",
        "# ravel() is used to convert a 2D array to 1D array. The output by confusion matrix is a 2D array.\n",
        "print(\"True Positive\", tp)\n",
        "print(\"True Negative\", tn)\n",
        "print(\"False Positive\", fp)\n",
        "print(\"False Negative\", fn)"
      ],
      "execution_count": 94,
      "outputs": [
        {
          "output_type": "stream",
          "text": [
            "True Positive 1015\n",
            "True Negative 856\n",
            "False Positive 1034\n",
            "False Negative 898\n"
          ],
          "name": "stdout"
        }
      ]
    },
    {
      "cell_type": "code",
      "metadata": {
        "id": "lMBbAR_X6qBn",
        "colab": {
          "base_uri": "https://localhost:8080/"
        },
        "outputId": "0b61366a-af0d-490e-86d9-d464bbc2ae2a"
      },
      "source": [
        "# calculating the accuracy_score\n",
        "xgbc_accuracyscore = accuracy_score(y_test, xgbc_select_prediction)\n",
        "print('accuracy_score: ',  xgbc_accuracyscore)"
      ],
      "execution_count": 95,
      "outputs": [
        {
          "output_type": "stream",
          "text": [
            "accuracy_score:  0.49198001577701816\n"
          ],
          "name": "stdout"
        }
      ]
    },
    {
      "cell_type": "code",
      "metadata": {
        "id": "9Sel4zLZ6seq",
        "colab": {
          "base_uri": "https://localhost:8080/"
        },
        "outputId": "4b186159-b5af-482e-b9f3-b9a035c177cf"
      },
      "source": [
        "# calculating the roc_auc score\n",
        "xgbc_rocaucscore = roc_auc_score(y_test, xgbc_select_prediction)\n",
        "print('roc_auc_score: ', xgbc_rocaucscore)"
      ],
      "execution_count": 96,
      "outputs": [
        {
          "output_type": "stream",
          "text": [
            "roc_auc_score:  0.49174514668503166\n"
          ],
          "name": "stdout"
        }
      ]
    },
    {
      "cell_type": "code",
      "metadata": {
        "id": "RMGenxRvGMqM",
        "colab": {
          "base_uri": "https://localhost:8080/"
        },
        "outputId": "c5f08fad-1c07-4080-8fc1-96adff7b4d2b"
      },
      "source": [
        "# classification report\n",
        "print(classification_report(y_test, xgbc_select_prediction))"
      ],
      "execution_count": 97,
      "outputs": [
        {
          "output_type": "stream",
          "text": [
            "              precision    recall  f1-score   support\n",
            "\n",
            "           0       0.49      0.45      0.47      1890\n",
            "           1       0.50      0.53      0.51      1913\n",
            "\n",
            "    accuracy                           0.49      3803\n",
            "   macro avg       0.49      0.49      0.49      3803\n",
            "weighted avg       0.49      0.49      0.49      3803\n",
            "\n"
          ],
          "name": "stdout"
        }
      ]
    },
    {
      "cell_type": "markdown",
      "metadata": {
        "id": "pP6k-p9cV3uT"
      },
      "source": [
        "Model No 2"
      ]
    },
    {
      "cell_type": "code",
      "metadata": {
        "id": "9l72bEPUV6Ha"
      },
      "source": [
        "from sklearn.tree import DecisionTreeClassifier\n",
        "\n",
        "dtc = DecisionTreeClassifier(random_state = 42)\n",
        "\n",
        "dtc_parameters = {\n",
        "    'max_depth' : range (2,10,1),\n",
        "    'min_samples_leaf' : [2, 4],\n",
        "    'criterion' : ['gini', 'entropy']\n",
        "}\n",
        "\n",
        "dtc_gs = GridSearchCV(\n",
        "    estimator = dtc,\n",
        "    param_grid = dtc_parameters,\n",
        "    scoring = 'roc_auc',\n",
        "    n_jobs = 10,\n",
        "    cv = 10,\n",
        "    verbose = True\n",
        ")"
      ],
      "execution_count": 98,
      "outputs": []
    },
    {
      "cell_type": "code",
      "metadata": {
        "colab": {
          "base_uri": "https://localhost:8080/"
        },
        "id": "EdcxswuxX6Aj",
        "outputId": "25dfb96f-0da6-4575-fc55-143228781a65"
      },
      "source": [
        "# training the model\n",
        "dtc_gs.fit(minmax_Xtrain, y_train)"
      ],
      "execution_count": 99,
      "outputs": [
        {
          "output_type": "stream",
          "text": [
            "Fitting 10 folds for each of 32 candidates, totalling 320 fits\n"
          ],
          "name": "stdout"
        },
        {
          "output_type": "stream",
          "text": [
            "[Parallel(n_jobs=10)]: Using backend LokyBackend with 10 concurrent workers.\n",
            "[Parallel(n_jobs=10)]: Done  30 tasks      | elapsed:    1.3s\n",
            "[Parallel(n_jobs=10)]: Done 180 tasks      | elapsed:    8.9s\n",
            "[Parallel(n_jobs=10)]: Done 320 out of 320 | elapsed:   19.0s finished\n"
          ],
          "name": "stderr"
        },
        {
          "output_type": "execute_result",
          "data": {
            "text/plain": [
              "GridSearchCV(cv=10, error_score=nan,\n",
              "             estimator=DecisionTreeClassifier(ccp_alpha=0.0, class_weight=None,\n",
              "                                              criterion='gini', max_depth=None,\n",
              "                                              max_features=None,\n",
              "                                              max_leaf_nodes=None,\n",
              "                                              min_impurity_decrease=0.0,\n",
              "                                              min_impurity_split=None,\n",
              "                                              min_samples_leaf=1,\n",
              "                                              min_samples_split=2,\n",
              "                                              min_weight_fraction_leaf=0.0,\n",
              "                                              presort='deprecated',\n",
              "                                              random_state=42,\n",
              "                                              splitter='best'),\n",
              "             iid='deprecated', n_jobs=10,\n",
              "             param_grid={'criterion': ['gini', 'entropy'],\n",
              "                         'max_depth': range(2, 10),\n",
              "                         'min_samples_leaf': [2, 4]},\n",
              "             pre_dispatch='2*n_jobs', refit=True, return_train_score=False,\n",
              "             scoring='roc_auc', verbose=True)"
            ]
          },
          "metadata": {
            "tags": []
          },
          "execution_count": 99
        }
      ]
    },
    {
      "cell_type": "code",
      "metadata": {
        "colab": {
          "base_uri": "https://localhost:8080/"
        },
        "id": "ThfRWh1EX5ul",
        "outputId": "bcb243b7-6875-4c11-c5f6-eec91ddf1049"
      },
      "source": [
        "# printing which are the best parameter selected\n",
        "dtc_gs.best_estimator_"
      ],
      "execution_count": 100,
      "outputs": [
        {
          "output_type": "execute_result",
          "data": {
            "text/plain": [
              "DecisionTreeClassifier(ccp_alpha=0.0, class_weight=None, criterion='gini',\n",
              "                       max_depth=7, max_features=None, max_leaf_nodes=None,\n",
              "                       min_impurity_decrease=0.0, min_impurity_split=None,\n",
              "                       min_samples_leaf=2, min_samples_split=2,\n",
              "                       min_weight_fraction_leaf=0.0, presort='deprecated',\n",
              "                       random_state=42, splitter='best')"
            ]
          },
          "metadata": {
            "tags": []
          },
          "execution_count": 100
        }
      ]
    },
    {
      "cell_type": "code",
      "metadata": {
        "id": "Aw2rtfb7X5db"
      },
      "source": [
        "# predicting the test dataset\n",
        "dtc_prediction = dtc_gs.predict(minmax_Xtest)"
      ],
      "execution_count": 101,
      "outputs": []
    },
    {
      "cell_type": "markdown",
      "metadata": {
        "id": "KerkYiuYYp-O"
      },
      "source": [
        "Datamodel 2 evaluation"
      ]
    },
    {
      "cell_type": "code",
      "metadata": {
        "colab": {
          "base_uri": "https://localhost:8080/"
        },
        "id": "T3jQb8F8X5ME",
        "outputId": "9b5d98cd-7a26-42e6-a590-7683a0004448"
      },
      "source": [
        "# confusion matrix\n",
        "tn, fp, fn, tp = confusion_matrix(y_test, dtc_prediction).ravel()     \n",
        "# ravel() is used to convert a 2D array to 1D array. The output by confusion matrix is a 2D array.\n",
        "print(\"True Positive\", tp)\n",
        "print(\"True Negative\", tn)\n",
        "print(\"False Positive\", fp)\n",
        "print(\"False Negative\", fn)"
      ],
      "execution_count": 102,
      "outputs": [
        {
          "output_type": "stream",
          "text": [
            "True Positive 1236\n",
            "True Negative 630\n",
            "False Positive 1260\n",
            "False Negative 677\n"
          ],
          "name": "stdout"
        }
      ]
    },
    {
      "cell_type": "code",
      "metadata": {
        "colab": {
          "base_uri": "https://localhost:8080/"
        },
        "id": "Y_LorKKuZ8-V",
        "outputId": "a2c44599-e792-47c2-acdd-b141a1adbcc0"
      },
      "source": [
        "# calculating the accuracy_score\n",
        "dtc_accuracyscore = accuracy_score(y_test, dtc_prediction)\n",
        "print('accuracy_score: ',  dtc_accuracyscore)"
      ],
      "execution_count": 103,
      "outputs": [
        {
          "output_type": "stream",
          "text": [
            "accuracy_score:  0.4906652642650539\n"
          ],
          "name": "stdout"
        }
      ]
    },
    {
      "cell_type": "code",
      "metadata": {
        "colab": {
          "base_uri": "https://localhost:8080/"
        },
        "id": "FyrDUQDlcJFW",
        "outputId": "2f7a60f1-c593-485e-db89-11d044665a99"
      },
      "source": [
        "# calculating the roc_auc score\n",
        "dtc_rocaucscore = roc_auc_score(y_test, dtc_prediction)\n",
        "print('roc_auc_score: ', dtc_rocaucscore)"
      ],
      "execution_count": 104,
      "outputs": [
        {
          "output_type": "stream",
          "text": [
            "roc_auc_score:  0.4897194633211361\n"
          ],
          "name": "stdout"
        }
      ]
    },
    {
      "cell_type": "code",
      "metadata": {
        "colab": {
          "base_uri": "https://localhost:8080/"
        },
        "id": "AiAOC0NccIlD",
        "outputId": "d37b8df3-c7c3-4f01-e55f-11833f008d75"
      },
      "source": [
        "# classification report\n",
        "print(classification_report(y_test, dtc_prediction))"
      ],
      "execution_count": 105,
      "outputs": [
        {
          "output_type": "stream",
          "text": [
            "              precision    recall  f1-score   support\n",
            "\n",
            "           0       0.48      0.33      0.39      1890\n",
            "           1       0.50      0.65      0.56      1913\n",
            "\n",
            "    accuracy                           0.49      3803\n",
            "   macro avg       0.49      0.49      0.48      3803\n",
            "weighted avg       0.49      0.49      0.48      3803\n",
            "\n"
          ],
          "name": "stdout"
        }
      ]
    },
    {
      "cell_type": "markdown",
      "metadata": {
        "id": "v2zivFvgW02O"
      },
      "source": [
        "Model No 3"
      ]
    },
    {
      "cell_type": "code",
      "metadata": {
        "colab": {
          "base_uri": "https://localhost:8080/"
        },
        "id": "yfbFAsEKW3TT",
        "outputId": "fed94dd2-d783-47ca-cf17-2dde84168fd0"
      },
      "source": [
        "from sklearn.ensemble import RandomForestClassifier\n",
        "\n",
        "# building datamodel using basic RandomForestClassifier Algorithm\n",
        "\n",
        "rfcmodel = RandomForestClassifier(random_state=42)\n",
        "\n",
        "# training the model\n",
        "rfcmodel.fit(minmax_Xtrain, y_train)\n",
        "\n",
        "# best feature selected by XGBClassifier Algorithm\n",
        "\n",
        "feature_importance = rfcmodel.feature_importances_.tolist()\n",
        "lst = []\n",
        "for x in range(len(df_cols)):\n",
        "  lst.append((df_cols[x], feature_importance[x]))\n",
        "lst.sort(key = lambda x: x[1], reverse = True)\n",
        "\n",
        "lst"
      ],
      "execution_count": 106,
      "outputs": [
        {
          "output_type": "execute_result",
          "data": {
            "text/plain": [
              "[('credittransaction_amountavg', 0.149316493357826),\n",
              " ('totalpayableamount', 0.14782736707515184),\n",
              " ('totalreceivableamount', 0.14708492445557494),\n",
              " ('lastpayment_amountavg', 0.13332756233248347),\n",
              " ('currentratio', 0.12457815096927267),\n",
              " ('returnamountavg', 0.10743667610610533),\n",
              " ('industry_type', 0.06795690798121008),\n",
              " ('counterparty_industrytype', 0.06556152598607165),\n",
              " ('anylitigation', 0.020002742490430204),\n",
              " ('lastpayment_status', 0.01989667816336277),\n",
              " ('account_type', 0.017010971082511123)]"
            ]
          },
          "metadata": {
            "tags": []
          },
          "execution_count": 106
        }
      ]
    },
    {
      "cell_type": "code",
      "metadata": {
        "colab": {
          "base_uri": "https://localhost:8080/"
        },
        "id": "_gB3fT_DZXS5",
        "outputId": "93f03e20-9bf7-4a3a-ceae-127a982ebc08"
      },
      "source": [
        "#getting the best features and transforming our X_train and X_test features\n",
        "rfcselection = SelectFromModel(rfcmodel)\n",
        "rfcselection.fit(minmax_Xtrain, y_train)\n",
        "\n",
        "# Transform the train and test features\n",
        "rfcselectedminmax_Xtrain = rfcselection.transform(minmax_Xtrain)\n",
        "rfcselectedminmax_Xtest = rfcselection.transform(minmax_Xtest)\n",
        "\n",
        "rfcselectedminmax_Xtrain.shape, rfcselectedminmax_Xtest.shape"
      ],
      "execution_count": 107,
      "outputs": [
        {
          "output_type": "execute_result",
          "data": {
            "text/plain": [
              "((15209, 6), (3803, 6))"
            ]
          },
          "metadata": {
            "tags": []
          },
          "execution_count": 107
        }
      ]
    },
    {
      "cell_type": "code",
      "metadata": {
        "id": "uyN2V-_TcNQg"
      },
      "source": [
        "# building datamodel using RandomForestClassifier Algorithm with hyperparameter tuning\n",
        "rfcmodel_select = RandomForestClassifier(random_state=42)\n",
        "rfc_parameters_select = {\n",
        "    'n_estimators': [100, 200, 500, 1000],\n",
        "    'max_depth': [2, 5, 8, 10],\n",
        "    'max_features': ['auto', 'sqrt'],\n",
        "    'criterion' : ['entropy', 'gini'],\n",
        "    'min_samples_split': [2],\n",
        "    'min_samples_leaf': [1,2],\n",
        "}\n",
        "\n",
        "\n",
        "rfc_gs_select = GridSearchCV(estimator=rfcmodel_select, param_grid = rfc_parameters_select, scoring = 'roc_auc', cv = 10, n_jobs = -1)"
      ],
      "execution_count": 108,
      "outputs": []
    },
    {
      "cell_type": "code",
      "metadata": {
        "colab": {
          "base_uri": "https://localhost:8080/"
        },
        "id": "N_kZyPsscgIm",
        "outputId": "d4a58270-79f9-442c-9401-65294ad6ded9"
      },
      "source": [
        "# traning the model\n",
        "rfc_gs_select.fit(rfcselectedminmax_Xtrain, y_train)"
      ],
      "execution_count": 109,
      "outputs": [
        {
          "output_type": "execute_result",
          "data": {
            "text/plain": [
              "GridSearchCV(cv=10, error_score=nan,\n",
              "             estimator=RandomForestClassifier(bootstrap=True, ccp_alpha=0.0,\n",
              "                                              class_weight=None,\n",
              "                                              criterion='gini', max_depth=None,\n",
              "                                              max_features='auto',\n",
              "                                              max_leaf_nodes=None,\n",
              "                                              max_samples=None,\n",
              "                                              min_impurity_decrease=0.0,\n",
              "                                              min_impurity_split=None,\n",
              "                                              min_samples_leaf=1,\n",
              "                                              min_samples_split=2,\n",
              "                                              min_weight_fraction_leaf=0.0,\n",
              "                                              n_estimators=100, n_jobs=None,\n",
              "                                              oob_score=False, random_state=42,\n",
              "                                              verbose=0, warm_start=False),\n",
              "             iid='deprecated', n_jobs=-1,\n",
              "             param_grid={'criterion': ['entropy', 'gini'],\n",
              "                         'max_depth': [2, 5, 8, 10],\n",
              "                         'max_features': ['auto', 'sqrt'],\n",
              "                         'min_samples_leaf': [1, 2], 'min_samples_split': [2],\n",
              "                         'n_estimators': [100, 200, 500, 1000]},\n",
              "             pre_dispatch='2*n_jobs', refit=True, return_train_score=False,\n",
              "             scoring='roc_auc', verbose=0)"
            ]
          },
          "metadata": {
            "tags": []
          },
          "execution_count": 109
        }
      ]
    },
    {
      "cell_type": "code",
      "metadata": {
        "colab": {
          "base_uri": "https://localhost:8080/"
        },
        "id": "b5YB9-Ijcfrq",
        "outputId": "dca73580-3701-43d3-8b8b-a1c30a41fc7b"
      },
      "source": [
        "#printing which are the best parameter selected\n",
        "rfc_gs_select.best_estimator_"
      ],
      "execution_count": 110,
      "outputs": [
        {
          "output_type": "execute_result",
          "data": {
            "text/plain": [
              "RandomForestClassifier(bootstrap=True, ccp_alpha=0.0, class_weight=None,\n",
              "                       criterion='entropy', max_depth=10, max_features='auto',\n",
              "                       max_leaf_nodes=None, max_samples=None,\n",
              "                       min_impurity_decrease=0.0, min_impurity_split=None,\n",
              "                       min_samples_leaf=1, min_samples_split=2,\n",
              "                       min_weight_fraction_leaf=0.0, n_estimators=200,\n",
              "                       n_jobs=None, oob_score=False, random_state=42, verbose=0,\n",
              "                       warm_start=False)"
            ]
          },
          "metadata": {
            "tags": []
          },
          "execution_count": 110
        }
      ]
    },
    {
      "cell_type": "code",
      "metadata": {
        "id": "R3gn0ICdcwBi"
      },
      "source": [
        "rfcmodel_select_prediction = rfc_gs_select.predict(rfcselectedminmax_Xtest)"
      ],
      "execution_count": 111,
      "outputs": []
    },
    {
      "cell_type": "markdown",
      "metadata": {
        "id": "KYF-lefVc-q7"
      },
      "source": [
        "Datamodel 3 evaluation"
      ]
    },
    {
      "cell_type": "code",
      "metadata": {
        "colab": {
          "base_uri": "https://localhost:8080/"
        },
        "id": "lGQ2L61XdM-3",
        "outputId": "53ae7760-c2ce-47a4-eda4-c914f27f1002"
      },
      "source": [
        "# confusion matrix\n",
        "tn, fp, fn, tp = confusion_matrix(y_test, rfcmodel_select_prediction).ravel()     \n",
        "# ravel() is used to convert a 2D array to 1D array. The output by confusion matrix is a 2D array.\n",
        "print(\"True Positive\", tp)\n",
        "print(\"True Negative\", tn)\n",
        "print(\"False Positive\", fp)\n",
        "print(\"False Negative\", fn)"
      ],
      "execution_count": 112,
      "outputs": [
        {
          "output_type": "stream",
          "text": [
            "True Positive 1113\n",
            "True Negative 777\n",
            "False Positive 1113\n",
            "False Negative 800\n"
          ],
          "name": "stdout"
        }
      ]
    },
    {
      "cell_type": "code",
      "metadata": {
        "colab": {
          "base_uri": "https://localhost:8080/"
        },
        "id": "5-iHWdH0dVn9",
        "outputId": "6f238aef-b903-48e6-9914-e3743e5d38f7"
      },
      "source": [
        "# calculating the accuracy_score\n",
        "rfc_accuracyscore = accuracy_score(y_test, rfcmodel_select_prediction)\n",
        "print('accuracy_score: ', rfc_accuracyscore)"
      ],
      "execution_count": 113,
      "outputs": [
        {
          "output_type": "stream",
          "text": [
            "accuracy_score:  0.49697607152248224\n"
          ],
          "name": "stdout"
        }
      ]
    },
    {
      "cell_type": "code",
      "metadata": {
        "colab": {
          "base_uri": "https://localhost:8080/"
        },
        "id": "hL4WALvDdcUs",
        "outputId": "88f42cdc-a9b3-4e52-83b1-4acaa0a6d9fe"
      },
      "source": [
        "# calculating the roc_auc score\n",
        "rfc_rocaucscore = roc_auc_score(y_test, rfcmodel_select_prediction)\n",
        "print('roc_auc_score: ', rfc_rocaucscore)"
      ],
      "execution_count": 114,
      "outputs": [
        {
          "output_type": "stream",
          "text": [
            "roc_auc_score:  0.49645989429052684\n"
          ],
          "name": "stdout"
        }
      ]
    },
    {
      "cell_type": "code",
      "metadata": {
        "colab": {
          "base_uri": "https://localhost:8080/"
        },
        "id": "zXvCaOA2dizj",
        "outputId": "4e200da6-b6cc-4da1-a709-40b8baf0a7ac"
      },
      "source": [
        "# classification report\n",
        "print(classification_report(y_test, rfcmodel_select_prediction))"
      ],
      "execution_count": 115,
      "outputs": [
        {
          "output_type": "stream",
          "text": [
            "              precision    recall  f1-score   support\n",
            "\n",
            "           0       0.49      0.41      0.45      1890\n",
            "           1       0.50      0.58      0.54      1913\n",
            "\n",
            "    accuracy                           0.50      3803\n",
            "   macro avg       0.50      0.50      0.49      3803\n",
            "weighted avg       0.50      0.50      0.49      3803\n",
            "\n"
          ],
          "name": "stdout"
        }
      ]
    },
    {
      "cell_type": "markdown",
      "metadata": {
        "id": "wLa9YsffUuBZ"
      },
      "source": [
        "Model No. 4"
      ]
    },
    {
      "cell_type": "code",
      "metadata": {
        "id": "K4oizQbpMf_t"
      },
      "source": [
        "from sklearn.linear_model import LogisticRegression\n",
        "\n",
        "# creating the object of LogisticRegression model and assigning it to a variable\n",
        "lr_model = LogisticRegression(max_iter=1000, random_state= 42)\n",
        "\n",
        "# training the model\n",
        "lr_model.fit(minmax_Xtrain,y_train)\n",
        "\n",
        "# prediction of Response in test dataset\n",
        "lrmodel_prediction = lr_model.predict(minmax_Xtest)"
      ],
      "execution_count": 116,
      "outputs": []
    },
    {
      "cell_type": "markdown",
      "metadata": {
        "id": "m85W68k0U7oN"
      },
      "source": [
        "Datamodel 4 evaluation"
      ]
    },
    {
      "cell_type": "code",
      "metadata": {
        "colab": {
          "base_uri": "https://localhost:8080/"
        },
        "id": "LFp6_3DWUtSI",
        "outputId": "5e1c76d6-982f-4857-a1e8-a38e536c8a06"
      },
      "source": [
        "# confusion matrix\n",
        "tn, fp, fn, tp = confusion_matrix(y_test, lrmodel_prediction).ravel()     \n",
        "# ravel() is used to convert a 2D array to 1D array. The output by confusion matrix is a 2D array.\n",
        "print(\"True Positive\", tp)\n",
        "print(\"True Negative\", tn)\n",
        "print(\"False Positive\", fp)\n",
        "print(\"False Negative\", fn)"
      ],
      "execution_count": 117,
      "outputs": [
        {
          "output_type": "stream",
          "text": [
            "True Positive 1117\n",
            "True Negative 761\n",
            "False Positive 1129\n",
            "False Negative 796\n"
          ],
          "name": "stdout"
        }
      ]
    },
    {
      "cell_type": "code",
      "metadata": {
        "colab": {
          "base_uri": "https://localhost:8080/"
        },
        "id": "Q87gmaMzVJWz",
        "outputId": "0664c7cc-843e-4e72-d95c-2122b5082066"
      },
      "source": [
        "# calculating the accuracy_score\n",
        "lr_accuracyscore = accuracy_score(y_test, lrmodel_prediction)\n",
        "print('accuracy_score: ',  lr_accuracyscore)"
      ],
      "execution_count": 118,
      "outputs": [
        {
          "output_type": "stream",
          "text": [
            "accuracy_score:  0.49382066789376805\n"
          ],
          "name": "stdout"
        }
      ]
    },
    {
      "cell_type": "code",
      "metadata": {
        "colab": {
          "base_uri": "https://localhost:8080/"
        },
        "id": "vBAqexVbVa5W",
        "outputId": "d757d00b-8d0b-419e-9d84-8c465aefce42"
      },
      "source": [
        "# calculating the roc_auc score\n",
        "lr_rocaucscore = roc_auc_score(y_test, lrmodel_prediction)\n",
        "print('roc_auc_score: ', lr_rocaucscore)"
      ],
      "execution_count": 119,
      "outputs": [
        {
          "output_type": "stream",
          "text": [
            "roc_auc_score:  0.49327256836404776\n"
          ],
          "name": "stdout"
        }
      ]
    },
    {
      "cell_type": "code",
      "metadata": {
        "colab": {
          "base_uri": "https://localhost:8080/"
        },
        "id": "tlrX9r1VVqnX",
        "outputId": "c3dadd79-989c-42b0-dc69-9d6b6d4988a9"
      },
      "source": [
        "# classification report\n",
        "print(classification_report(y_test, lrmodel_prediction))"
      ],
      "execution_count": 120,
      "outputs": [
        {
          "output_type": "stream",
          "text": [
            "              precision    recall  f1-score   support\n",
            "\n",
            "           0       0.49      0.40      0.44      1890\n",
            "           1       0.50      0.58      0.54      1913\n",
            "\n",
            "    accuracy                           0.49      3803\n",
            "   macro avg       0.49      0.49      0.49      3803\n",
            "weighted avg       0.49      0.49      0.49      3803\n",
            "\n"
          ],
          "name": "stdout"
        }
      ]
    },
    {
      "cell_type": "markdown",
      "metadata": {
        "id": "2X4KhePbWeel"
      },
      "source": [
        "All models metrics"
      ]
    },
    {
      "cell_type": "code",
      "metadata": {
        "colab": {
          "base_uri": "https://localhost:8080/",
          "height": 111
        },
        "id": "CBsTAOh6WI_B",
        "outputId": "f829be95-f644-4b75-9c3a-8e8f7a7b286c"
      },
      "source": [
        "metric_df = pd.DataFrame({'XGBClassifier' : [xgbc_accuracyscore, xgbc_rocaucscore], # xgboost\n",
        "                          'DecisionTreeClassifier' : [dtc_accuracyscore, dtc_rocaucscore], # tree\n",
        "                          'RandomForestClassifier' : [rfc_accuracyscore, rfc_rocaucscore],  # ensemble\n",
        "                          'LogisticRegression': [lr_accuracyscore, lr_rocaucscore]   # simple linear model\n",
        "                          },\n",
        "                         index=['accuracy_score', 'roc_auc_score']\n",
        "                         )\n",
        "\n",
        "metric_df"
      ],
      "execution_count": 121,
      "outputs": [
        {
          "output_type": "execute_result",
          "data": {
            "text/html": [
              "<div>\n",
              "<style scoped>\n",
              "    .dataframe tbody tr th:only-of-type {\n",
              "        vertical-align: middle;\n",
              "    }\n",
              "\n",
              "    .dataframe tbody tr th {\n",
              "        vertical-align: top;\n",
              "    }\n",
              "\n",
              "    .dataframe thead th {\n",
              "        text-align: right;\n",
              "    }\n",
              "</style>\n",
              "<table border=\"1\" class=\"dataframe\">\n",
              "  <thead>\n",
              "    <tr style=\"text-align: right;\">\n",
              "      <th></th>\n",
              "      <th>XGBClassifier</th>\n",
              "      <th>DecisionTreeClassifier</th>\n",
              "      <th>RandomForestClassifier</th>\n",
              "      <th>LogisticRegression</th>\n",
              "    </tr>\n",
              "  </thead>\n",
              "  <tbody>\n",
              "    <tr>\n",
              "      <th>accuracy_score</th>\n",
              "      <td>0.491980</td>\n",
              "      <td>0.490665</td>\n",
              "      <td>0.496976</td>\n",
              "      <td>0.493821</td>\n",
              "    </tr>\n",
              "    <tr>\n",
              "      <th>roc_auc_score</th>\n",
              "      <td>0.491745</td>\n",
              "      <td>0.489719</td>\n",
              "      <td>0.496460</td>\n",
              "      <td>0.493273</td>\n",
              "    </tr>\n",
              "  </tbody>\n",
              "</table>\n",
              "</div>"
            ],
            "text/plain": [
              "                XGBClassifier  ...  LogisticRegression\n",
              "accuracy_score       0.491980  ...            0.493821\n",
              "roc_auc_score        0.491745  ...            0.493273\n",
              "\n",
              "[2 rows x 4 columns]"
            ]
          },
          "metadata": {
            "tags": []
          },
          "execution_count": 121
        }
      ]
    },
    {
      "cell_type": "markdown",
      "metadata": {
        "id": "AN0pv1KQcysC"
      },
      "source": [
        "All the model prediction performance score is very less  \n",
        "\n",
        "Of all the models RandomForestClassifier performance is a bit higher comparatively  \n",
        "\n",
        "A need of more data is required for good performance of model to get train well by finding generalizable pattern and rules to give better prediction on unseen test dataset  \n",
        "\n",
        "\n",
        "\n"
      ]
    }
  ]
}